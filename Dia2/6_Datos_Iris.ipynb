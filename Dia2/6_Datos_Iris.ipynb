{
 "cells": [
  {
   "cell_type": "markdown",
   "metadata": {},
   "source": [
    "# A explorar los datos del LHC\n",
    "\n",
    "![](files/CMS_Higgs-event.jpg)\n",
    "\n",
    "Hoy vamos a combinar dos conceptos que vimos ayer:\n",
    "\n",
    "* Abrir bases de datos con pandas\n",
    "* Visualizar datos mediante histogramas\n",
    "\n",
    "Ademas veremos como:\n",
    "\n",
    "* Utilizar scatter plots 2D \n",
    "* Box plots\n",
    "\n",
    "### Nuestra meta: <br> Pensar como classificar un datos como boson (s) o ruido (b)\n",
    "\n",
    "## Primero las librerias\n",
    "\n",
    "Instalaremos una libreria (**seaborn**) para visualizacion avanzada usando el comando en su terminal (**anaconda prompt** o **terminal**):\n",
    "```shell\n",
    "conda install seaborn\n",
    "```\n",
    "\n",
    "\n"
   ]
  },
  {
   "cell_type": "code",
   "execution_count": 70,
   "metadata": {
    "collapsed": false
   },
   "outputs": [],
   "source": [
    "import pandas as pd\n",
    "import numpy as np # modulo de computo numerico\n",
    "import matplotlib.pyplot as plt # modulo de graficas\n",
    "# esta linea hace que las graficas salgan en el notebook\n",
    "import seaborn as sns\n",
    "%matplotlib inline"
   ]
  },
  {
   "cell_type": "code",
   "execution_count": null,
   "metadata": {
    "collapsed": true
   },
   "outputs": [],
   "source": []
  }
 ],
 "metadata": {
  "kernelspec": {
   "display_name": "Python 2",
   "language": "python",
   "name": "python2"
  },
  "language_info": {
   "codemirror_mode": {
    "name": "ipython",
    "version": 2
   },
   "file_extension": ".py",
   "mimetype": "text/x-python",
   "name": "python",
   "nbconvert_exporter": "python",
   "pygments_lexer": "ipython2",
   "version": "2.7.11"
  },
  "latex_envs": {
   "bibliofile": "biblio.bib",
   "cite_by": "apalike",
   "current_citInitial": 1,
   "eqLabelWithNumbers": true,
   "eqNumInitial": 0
  }
 },
 "nbformat": 4,
 "nbformat_minor": 0
}
