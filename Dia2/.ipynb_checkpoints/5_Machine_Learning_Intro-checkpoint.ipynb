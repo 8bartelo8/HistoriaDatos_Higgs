{
 "cells": [
  {
   "cell_type": "markdown",
   "metadata": {},
   "source": [
    "##<i class=\"fa fa-diamond\"></i> Primero pimpea tu libreta!"
   ]
  },
  {
   "cell_type": "code",
   "execution_count": 1,
   "metadata": {
    "collapsed": false
   },
   "outputs": [
    {
     "data": {
      "text/html": [
       "<style>\n",
       "@import url('http://fonts.googleapis.com/css?family=Lato:200');\n",
       "\n",
       "body {\n",
       "    font-family: Lato, 'Helvetica Neue', Helvetica, Arial, sans-serif;\n",
       "}\n",
       "\n",
       "/* Apple pips */\n",
       "div.CodeMirror-lines {\n",
       "    border: 0px;\n",
       "    padding-bottom: 1em;\n",
       "}\n",
       "\n",
       "/* Based on Sxq-light */\n",
       "\n",
       ".cm-s-ipython {background: #ffffff; color: #701;}\n",
       ".cm-s-ipython span.cm-keyword {line-height: 1em; font-weight: bold; color: #5A5CAD; }\n",
       ".cm-s-ipython span.cm-atom {color: #6C8CD5;}\n",
       ".cm-s-ipython span.cm-number {color: #562;}\n",
       ".cm-s-ipython span.cm-def {text-decoration:underline; color:#164;}\n",
       ".cm-s-ipython span.cm-variable {color: black; }\n",
       ".cm-s-ipython span.cm-variable-2 {color:black;}\n",
       ".cm-s-ipython span.cm-variable-3 {color: black; }\n",
       ".cm-s-ipython span.cm-property {color:green}\n",
       ".cm-s-ipython span.cm-operator {color:green}\n",
       ".cm-s-ipython span.cm-comment {color: #0080FF; font-style: italic;}\n",
       ".cm-s-ipython span.cm-string {color: red;}\n",
       ".cm-s-ipython span.cm-meta {color: yellow;}\n",
       ".cm-s-ipython span.cm-qualifier {color: green}\n",
       ".cm-s-ipython span.cm-builtin {color: #202a16;}\n",
       ".cm-s-ipython span.cm-bracket {color: #337;}\n",
       ".cm-s-ipython span.cm-tag {color: #3F7F7F;}\n",
       ".cm-s-ipython span.cm-attribute {color: #7F007F;}\n",
       ".cm-s-ipython span.cm-error {color: #f00;}\n",
       ".cm-s-ipython .CodeMirror-linenumber {\n",
       "  color: #152;\n",
       "}\n",
       ".cm-s-ipython .CodeMirror-activeline-background {background: #e8f2ff !important;}\n",
       ".cm-s-ipython .CodeMirror-matchingbracket {outline:1px solid green;color:black !important;background:yellow;}\n",
       "\n",
       "\n",
       ".cm-s-ipython .CodeMirror-matchingbracket {\n",
       "  text-decoration: underline;\n",
       "  color: red !important;\n",
       "}\n",
       "\n",
       ".CodeMirror-gutters {\n",
       " background-color: #d5d5d5;\n",
       " font-size: 14pt;\n",
       "}\n",
       "\n",
       "/* Formatting code in markdown cells */\n",
       "div.rendered_html code {\n",
       "    font-style: italic;\n",
       "    font-weight: bold;\n",
       "    color: #8C6900;\n",
       "}\n",
       "\n",
       ".CodeMirror {\n",
       "    font-family: \"Inconsolata\",monospace;\n",
       "    font-size: 13pt;\n",
       "}\n",
       "\n",
       "/* Header */\n",
       "\n",
       ".rendered_html {\n",
       "    font-size: 13pt;\n",
       "}\n",
       "\n",
       "\n",
       ".text_cell_render h1 {\n",
       "    font-size: 2.5em;\n",
       "    line-height: 100%;\n",
       "    margin-bottom: 0.1em;\n",
       "    margin-top: 0.1em;\n",
       "    display: block;\n",
       "    color: rgb(44, 62, 120);\n",
       "}\n",
       "\n",
       ".text_cell_render h2 {\n",
       "    line-height: 100%;\n",
       "    font-size: 2em;\n",
       "    margin-bottom: 0.1em;\n",
       "    margin-top: 0.1em;\n",
       "    display: block;\n",
       "    color: rgb(44, 62, 80);\n",
       "}\n",
       "\n",
       ".text_cell_render h3 {\n",
       "    font-size: 1.5em;\n",
       "    margin-bottom: 0.1em;\n",
       "    margin-top: 0.1em;\n",
       "    color: rgb(44, 62, 80);\n",
       "}\n",
       "\n",
       ".text_cell_render h4 {\n",
       "    font-size: 1.25em;\n",
       "    margin-bottom: 0.05em;\n",
       "    margin-top: 0.05em;\n",
       "    color: rgb(180, 62, 80);\n",
       "}\n",
       "/* Header */\n",
       "\n",
       "\n",
       "span#notebook_name {\n",
       "    font-size: 2em;\n",
       "\n",
       "}\n",
       "\n",
       "div#notebook { /* centre the content */\n",
       "    background: #fff; /* white background for content */\n",
       "    margin: auto;\n",
       "}\n",
       "\n",
       "span#notebook_name.ui-state-hover {\n",
       "    color: #ffff00;\n",
       "}\n",
       "\n",
       "\n",
       "\n",
       "\n",
       "/* draw border around running cells */\n",
       "div.cell.border-box-sizing.code_cell.running {\n",
       "    border: 3px solid #F11;\n",
       "}\n",
       "\n",
       "/*Input and output cells formatting*/\n",
       "div.prompt.input_prompt, div.prompt.output_prompt {\n",
       "    color: #FF0000;\n",
       "    border: 0px;\n",
       "    width: 2.5em;\n",
       "    font-size: 1em\n",
       "}\n",
       "\n",
       "div.prompt.input_prompt {\n",
       "    background-color: #FFFFFF;\n",
       "}\n",
       "\n",
       "div.prompt.output_prompt {\n",
       "    background-color: #FFFFFF;\n",
       "    padding-top: 0.5em;\n",
       "    margin: 8px; /*This is for getting the box-shadow property of the parent to display properly;*/\n",
       "}\n",
       "\n",
       "div.prompt {\n",
       "    width: 2.5em;\n",
       "    min-width: 10ex;\n",
       "}\n",
       "\n",
       "\n",
       "\n",
       "div.input_area {\n",
       "    border: 0px;\n",
       "    margin-bottom: 0;\n",
       "}\n",
       "\n",
       "div.out_prompt_overlay.prompt {\n",
       "    width: 1em;\n",
       "    border: 0px;\n",
       "}\n",
       "\n",
       "div.out_prompt_overlay.prompt:hover {\n",
       "    border: 0px;\n",
       "    background-color: #f92672;\n",
       "    box-shadow: none;\n",
       "    -webkit-border-radius: 0;\n",
       "    -moz-border-radius: 0;\n",
       "    border-radius: 0;\n",
       "    opacity:0.2;\n",
       "}\n",
       "\n",
       "div.output_subarea.output_text.output_stream.output_stdout,div.output_subarea.output_text {\n",
       "    margin-left: 0em;\n",
       "    padding-top: 1em;\n",
       "    padding-bottom: 0.5em;\n",
       "    margin-top: 8px; /*This is for getting the box-shadow property of the parent to display properly;*/\n",
       "}\n",
       "\n",
       "div.output_wrapper {\n",
       "    background-color: #FFFFFF;\n",
       "    margin-bottom: 2em;\n",
       "    margin-top: 0;\n",
       "}\n",
       "\n",
       "div.output.vbox {\n",
       "    box-shadow:inset 0 0 8px #4d4d4d;   /* Check the output prompt settings when changing this*/\n",
       "}\n",
       "\n",
       "/* list style */\n",
       "\n",
       "</style>"
      ],
      "text/plain": [
       "<IPython.core.display.HTML object>"
      ]
     },
     "execution_count": 1,
     "metadata": {},
     "output_type": "execute_result"
    }
   ],
   "source": [
    "from IPython.core.display import HTML\n",
    "import os\n",
    "def css_styling():\n",
    "    \"\"\"Load default custom.css file from ipython profile\"\"\"\n",
    "    base = os.getcwd()\n",
    "    styles = \"<style>\\n%s\\n</style>\" % (open(os.path.join(base,'files/custom.css'),'r').read())\n",
    "    return HTML(styles)\n",
    "css_styling()"
   ]
  },
  {
   "cell_type": "markdown",
   "metadata": {},
   "source": [
    "# Introduccion a Machine Learning\n",
    "\n",
    "En Machine learning, computadoras aplican tecnicas de aprendizaje estadistico para automaticamente reconocer patrones en los datos.\n",
    "\n",
    "Estas tecnicas se pueden utilizar para predecir, clasificar, ajustar modelos, descubrir patrones y reducir dimencionalidad.\n",
    "\n",
    "Para ello utilizaremos la libreria Scikit-learn:\n",
    "\n",
    "[![](http://scipy-lectures.github.io/_images/scikit-learn-logo.png)](http://scikit-learn.org/stable/index.html)"
   ]
  },
  {
   "cell_type": "code",
   "execution_count": 1,
   "metadata": {
    "collapsed": true
   },
   "outputs": [],
   "source": [
    "import numpy as np\n",
    "import sklearn as sk\n",
    "import matplotlib.pyplot as plt\n",
    "import sklearn.datasets as datasets\n",
    "%matplotlib inline"
   ]
  },
  {
   "cell_type": "markdown",
   "metadata": {},
   "source": [
    "## El panorama!\n",
    "\n",
    "![](http://scikit-learn.org/stable/_static/ml_map.png)"
   ]
  },
  {
   "cell_type": "markdown",
   "metadata": {},
   "source": [
    "## Primero, a usar la intuicion!\n",
    "### Como clasificaremos a estos dos grupos?\n",
    "#### Que se te ocurre?\n",
    "\n",
    "![](files/classificar.png)"
   ]
  },
  {
   "cell_type": "markdown",
   "metadata": {},
   "source": [
    "\n",
    "\n",
    "### El problema de Clasificacion\n",
    "\n",
    "En ML, categorizar puntos de datos es un problema de classificacion.\n",
    "\n",
    "Normalmente **X** representan los datos y **Y** los valores a predecir.\n",
    "\n",
    "#### <i class=\"fa fa-eye\"></i> **(Ojo):** \n",
    "X es un arreglo multidimencional, tiene informacion del eje x y y!\n"
   ]
  },
  {
   "cell_type": "code",
   "execution_count": 2,
   "metadata": {
    "collapsed": false
   },
   "outputs": [
    {
     "name": "stdout",
     "output_type": "stream",
     "text": [
      "Informacion sobre X:\n",
      "(100, 2)\n",
      "[[ 11.0131191   -5.61002922]\n",
      " [ -0.33893747  -4.35353469]\n",
      " [  8.26522797  -5.85492695]\n",
      " [  9.1160325   -5.15855943]\n",
      " [  7.4667365   -6.16363337]\n",
      " [  9.07750361  -5.45071011]\n",
      " [ 10.56384932  -4.95669391]\n",
      " [ -0.39406653  -2.32689489]\n",
      " [  7.86043386  -7.36423613]\n",
      " [ 10.21178357  -7.00846787]\n",
      " [ -1.04426752  -2.45779391]\n",
      " [ -1.55328979  -3.00645918]\n",
      " [ -0.97176232  -2.56222965]\n",
      " [  9.95035643  -3.94069201]\n",
      " [ -0.37666148  -3.7200991 ]\n",
      " [  0.03231878  -2.74427004]\n",
      " [  0.52814202  -3.23742079]\n",
      " [  8.12588044  -6.88727744]\n",
      " [ -1.22482541  -2.28495727]\n",
      " [  8.71869597  -4.48262332]\n",
      " [ -2.07003784  -2.73694538]\n",
      " [ -2.27444234  -1.63099814]\n",
      " [ -3.43261875  -3.00424835]\n",
      " [ 10.23927873  -7.93305778]\n",
      " [ -1.01653752  -2.84035997]\n",
      " [  8.95400785  -5.34803633]\n",
      " [ -1.79780676  -3.84366647]\n",
      " [  8.4154423   -5.33571675]\n",
      " [  9.40202973  -6.38521149]\n",
      " [ 10.44905735  -5.76582077]\n",
      " [ -1.82838298  -1.96597303]\n",
      " [ 10.53901668  -4.50216866]\n",
      " [ -0.89942041  -1.97928224]\n",
      " [  0.1986879   -3.4145989 ]\n",
      " [ 11.51915472  -6.17398152]\n",
      " [ -0.45504246  -2.50809594]\n",
      " [  8.64368982  -6.71588714]\n",
      " [  9.43780969  -6.20146531]\n",
      " [  1.32227504  -3.62403596]\n",
      " [ -1.41214849  -2.12336905]\n",
      " [ 10.38910624  -6.70895902]\n",
      " [ -2.33291237  -2.9449379 ]\n",
      " [ 10.16070411  -5.29847287]\n",
      " [  9.84611731  -6.59040669]\n",
      " [  9.82411338  -5.37384634]\n",
      " [  9.16382409  -4.92027851]\n",
      " [ -4.24690827  -2.42923943]\n",
      " [ -1.70628469  -3.2448953 ]\n",
      " [  9.17497363  -4.81731412]\n",
      " [ -3.32377231  -1.85984006]\n",
      " [ -2.48191244  -2.67221345]\n",
      " [ -1.33255441  -3.15358412]\n",
      " [ 10.62897783  -7.2137103 ]\n",
      " [ -0.70317292  -2.43922378]\n",
      " [ -1.32586992  -4.34824   ]\n",
      " [  9.62574809  -6.02454197]\n",
      " [ -1.74507844  -1.5966618 ]\n",
      " [  8.71463148  -5.63994158]\n",
      " [  8.39159285  -6.41170733]\n",
      " [  9.32055606  -5.10033535]\n",
      " [ -2.2523957   -2.21489318]\n",
      " [  8.91877751  -6.45570208]\n",
      " [ -1.96593938  -1.68195309]\n",
      " [ -0.31749703  -1.96598964]\n",
      " [ -0.11292885  -2.84463745]\n",
      " [ -2.22898768  -1.59764796]\n",
      " [ -3.24014728  -2.0036655 ]\n",
      " [ -0.88613367  -3.73435946]\n",
      " [ 11.2272562   -3.20011433]\n",
      " [ -1.06423132  -2.00055846]\n",
      " [ -0.87674853  -2.81641684]\n",
      " [ 11.5345212   -5.3668263 ]\n",
      " [ -0.48909938  -2.24566387]\n",
      " [ -2.92076901  -3.14436839]\n",
      " [  9.28198222  -5.77427771]\n",
      " [ -2.08280532  -2.84641197]\n",
      " [  8.60400769  -7.95228577]\n",
      " [  8.90895219  -5.35534092]\n",
      " [ -1.98267006  -2.40776383]\n",
      " [ -0.90714066  -4.27335127]\n",
      " [  9.59174061  -5.28328949]\n",
      " [  9.62663898  -4.96736077]\n",
      " [  8.05530467  -7.749004  ]\n",
      " [ 10.07216146  -4.95124112]\n",
      " [ -3.97074432  -3.13445013]\n",
      " [  8.98732132  -6.13264199]\n",
      " [  0.58306562  -3.51130114]\n",
      " [ -1.17547072  -2.50836496]\n",
      " [  8.50767818  -6.22904467]\n",
      " [ -1.32610963  -1.78423408]\n",
      " [  9.71310246  -5.78485231]\n",
      " [  8.66384501  -6.01426699]\n",
      " [ -1.56430061  -1.48602832]\n",
      " [  9.30075045  -7.02199097]\n",
      " [  9.86065698  -6.86990172]\n",
      " [ -1.55299106  -2.5860757 ]\n",
      " [ -1.26723995  -1.89825377]\n",
      " [  9.57377599  -7.18060005]\n",
      " [ 10.39853134  -5.77189482]\n",
      " [ 10.54268663  -6.24049211]]\n",
      "Informacion sobre Y:\n",
      "(100,)\n",
      "[0 1 0 0 0 0 0 1 0 0 1 1 1 0 1 1 1 0 1 0 1 1 1 0 1 0 1 0 0 0 1 0 1 1 0 1 0\n",
      " 0 1 1 0 1 0 0 0 0 1 1 0 1 1 1 0 1 1 0 1 0 0 0 1 0 1 1 1 1 1 1 0 1 1 0 1 1\n",
      " 0 1 0 0 1 1 0 0 0 0 1 0 1 1 0 1 0 0 1 0 0 1 1 0 0 0]\n"
     ]
    }
   ],
   "source": [
    "X, Y = datasets.make_blobs(centers=2)\n",
    "\n",
    "print(\"Informacion sobre X:\")\n",
    "print(X.shape)\n",
    "print(X)\n",
    "print(\"Informacion sobre Y:\")\n",
    "print(Y.shape)\n",
    "print(Y)"
   ]
  },
  {
   "cell_type": "markdown",
   "metadata": {},
   "source": [
    "#### A visualizar!\n",
    "\n",
    "Con Y, el valor que queremos predecir, podemos asignar colores"
   ]
  },
  {
   "cell_type": "code",
   "execution_count": 3,
   "metadata": {
    "collapsed": false
   },
   "outputs": [
    {
     "data": {
      "image/png": "[encoded data removed]",
      "text/plain": [
       "<matplotlib.figure.Figure at 0x7fe0b8309c10>"
      ]
     },
     "metadata": {},
     "output_type": "display_data"
    }
   ],
   "source": [
    "plt.scatter(X[:,0], X[:,1], c=Y);"
   ]
  },
  {
   "cell_type": "markdown",
   "metadata": {},
   "source": [
    "## k-means al rescate!\n",
    "\n",
    "K-mean es un algoritmo sencillo que podemos utilizar, busca los centros mas \"probables\" y entonces un punto se encuentra en la categoria si se encuentra mas cerca a estos centros."
   ]
  },
  {
   "cell_type": "code",
   "execution_count": 6,
   "metadata": {
    "collapsed": false
   },
   "outputs": [
    {
     "name": "stdout",
     "output_type": "stream",
     "text": [
      "[3 1 0 3 0 3 3 1 0 0 1 1 1 3 1 1 1 0 1 3 2 2 2 0 1 3 1 0 0 3 2 3 1 1 3 1 0\n",
      " 0 1 2 0 2 3 0 3 3 2 1 3 2 2 1 0 1 1 3 2 0 0 3 2 0 2 1 1 2 2 1 3 1 1 3 1 2\n",
      " 3 2 0 3 2 1 3 3 0 3 2 0 1 1 0 2 3 0 2 0 0 2 2 0 3 3]\n"
     ]
    }
   ],
   "source": [
    "from sklearn.cluster import KMeans\n",
    "\n",
    "kmeans = KMeans(4)\n",
    "Y_pred = kmeans.fit(X).labels_\n",
    "print(Y_pred)"
   ]
  },
  {
   "cell_type": "markdown",
   "metadata": {},
   "source": [
    "mas bonito"
   ]
  },
  {
   "cell_type": "code",
   "execution_count": 7,
   "metadata": {
    "collapsed": false
   },
   "outputs": [
    {
     "data": {
      "image/png": "[encoded data removed]",
      "text/plain": [
       "<matplotlib.figure.Figure at 0x7fe077351c90>"
      ]
     },
     "metadata": {},
     "output_type": "display_data"
    }
   ],
   "source": [
    "plt.scatter(X[:,0], X[:,1], c=Y_pred);"
   ]
  },
  {
   "cell_type": "markdown",
   "metadata": {},
   "source": [
    "podemos cuantificar el error para ver que tal"
   ]
  },
  {
   "cell_type": "code",
   "execution_count": 8,
   "metadata": {
    "collapsed": false
   },
   "outputs": [
    {
     "name": "stdout",
     "output_type": "stream",
     "text": [
      "El error es : -105.797277 \n"
     ]
    }
   ],
   "source": [
    "error=kmeans.score(X,Y)\n",
    "print(\"El error es : %f \"%error)"
   ]
  },
  {
   "cell_type": "markdown",
   "metadata": {},
   "source": [
    "y visualizar los centros:"
   ]
  },
  {
   "cell_type": "code",
   "execution_count": 9,
   "metadata": {
    "collapsed": false,
    "scrolled": true
   },
   "outputs": [
    {
     "name": "stdout",
     "output_type": "stream",
     "text": [
      "[[ 9.02128567 -6.66750181]\n",
      " [-0.6537593  -2.99965305]\n",
      " [-2.34105974 -2.26137148]\n",
      " [ 9.92570331 -5.21614594]]\n"
     ]
    },
    {
     "data": {
      "image/png": "[encoded data removed]",
      "text/plain": [
       "<matplotlib.figure.Figure at 0x7fe0772bd410>"
      ]
     },
     "metadata": {},
     "output_type": "display_data"
    }
   ],
   "source": [
    "plt.scatter(X[:,0], X[:,1], c=Y_pred, alpha=0.4)\n",
    "mu = kmeans.cluster_centers_\n",
    "plt.scatter(mu[:,0], mu[:,1], s=100, c=np.unique(Y_pred))\n",
    "print mu"
   ]
  },
  {
   "cell_type": "markdown",
   "metadata": {},
   "source": [
    "### Finalemente vamos a visualizar el error conforme el numero de K's"
   ]
  },
  {
   "cell_type": "code",
   "execution_count": 14,
   "metadata": {
    "collapsed": true
   },
   "outputs": [],
   "source": [
    "ks =[ 2,5,8,10,20,40,60,80,100]\n",
    "error=[]\n",
    "for k in ks:\n",
    "    kmeans = KMeans(k)\n",
    "    kmeans.fit(X)\n",
    "    error.append(kmeans.score(X,Y))"
   ]
  },
  {
   "cell_type": "code",
   "execution_count": 15,
   "metadata": {
    "collapsed": false
   },
   "outputs": [
    {
     "data": {
      "image/png": "[encoded data removed]",
      "text/plain": [
       "<matplotlib.figure.Figure at 0x7fe0772d2550>"
      ]
     },
     "metadata": {},
     "output_type": "display_data"
    }
   ],
   "source": [
    "plt.plot(ks,error,'-o')\n",
    "plt.show()"
   ]
  },
  {
   "cell_type": "markdown",
   "metadata": {},
   "source": [
    "### Le atinamos?\n",
    "#### Que podemos cambiar?\n",
    "\n",
    "## Actividad!\n",
    "\n",
    "* Crear un numero alteatorio, guardalo en una variable, recuerda **(np.random.randint())**\n",
    "* **NO LO VEAS!**\n",
    "* Crea gaussianas con esa variable\n",
    "* Usa K-means para tratar de encontrar el numero de classificaciones.\n",
    "* Que pasa cuando los clusters se encuentran cerca? Es decir cuando hay sobrelape\n",
    "\n"
   ]
  },
  {
   "cell_type": "code",
   "execution_count": null,
   "metadata": {
    "collapsed": true
   },
   "outputs": [],
   "source": []
  },
  {
   "cell_type": "code",
   "execution_count": null,
   "metadata": {
    "collapsed": true
   },
   "outputs": [],
   "source": []
  },
  {
   "cell_type": "code",
   "execution_count": null,
   "metadata": {
    "collapsed": true
   },
   "outputs": [],
   "source": []
  },
  {
   "cell_type": "code",
   "execution_count": null,
   "metadata": {
    "collapsed": true
   },
   "outputs": [],
   "source": []
  },
  {
   "cell_type": "markdown",
   "metadata": {},
   "source": [
    "\n",
    "# Mas dimensiones extra, mas info, sutilezas\n",
    "\n",
    "* Dimensiones en un conjunto de datos se llaman **features** o **variables**.\n",
    "\n",
    "* La esencia del aprendizaje estadistico es identificar los limites en los datos usando matematicas.\n",
    "\n",
    "* Crea modelo tambien se dice que es \"entrenar un modelo\".\n"
   ]
  },
  {
   "cell_type": "code",
   "execution_count": null,
   "metadata": {
    "collapsed": false
   },
   "outputs": [],
   "source": [
    "from sklearn.cluster import KMeans\n",
    "from sklearn.utils import shuffle\n",
    "from sklearn.datasets import load_digits\n",
    "digits = load_digits()\n",
    "X = digits.data\n",
    "Y = digits.target\n",
    "#X_digits, _,_, Y_digits = load_digits() # datos MNIST\n",
    "#X_digits, Y_digits = shuffle(X_digits,Y_digits) # movemos los datos aleatoriamente\n",
    "#X_digits = X_digits[-5000:]       # take only the last instances, to shorten runtime of KMeans"
   ]
  },
  {
   "cell_type": "code",
   "execution_count": null,
   "metadata": {
    "collapsed": false
   },
   "outputs": [],
   "source": []
  },
  {
   "cell_type": "markdown",
   "metadata": {},
   "source": [
    "vamos a ver que acabamos de lodear:"
   ]
  },
  {
   "cell_type": "code",
   "execution_count": null,
   "metadata": {
    "collapsed": false
   },
   "outputs": [],
   "source": [
    "plt.rc(\"image\", cmap=\"binary\") # use black/white palette for plotting\n",
    "for i in xrange(10):\n",
    "    plt.subplot(2,5,i+1)\n",
    "    plt.imshow(X[i].reshape(28,28))\n",
    "    plt.xticks(())\n",
    "    plt.yticks(())\n",
    "plt.tight_layout()"
   ]
  },
  {
   "cell_type": "markdown",
   "metadata": {},
   "source": [
    "corremos k-means"
   ]
  },
  {
   "cell_type": "code",
   "execution_count": null,
   "metadata": {
    "collapsed": false
   },
   "outputs": [],
   "source": [
    "kmeans = KMeans(20)\n",
    "mu_digits = kmeans.fit(X).cluster_centers_"
   ]
  },
  {
   "cell_type": "markdown",
   "metadata": {},
   "source": [
    "y visualizamos"
   ]
  },
  {
   "cell_type": "code",
   "execution_count": null,
   "metadata": {
    "collapsed": false
   },
   "outputs": [],
   "source": [
    "\n",
    "plt.figure(figsize=(16,6))\n",
    "for i in xrange(2*(mu_digits.shape[0]/2)): # loop over all means\n",
    "    plt.subplot(2,mu_digits.shape[0]/2,i+1)\n",
    "    plt.imshow(mu_digits[i].reshape(32,32))\n",
    "    plt.xticks(())\n",
    "    plt.yticks(())\n",
    "plt.tight_layout()"
   ]
  },
  {
   "cell_type": "code",
   "execution_count": null,
   "metadata": {
    "collapsed": false
   },
   "outputs": [],
   "source": []
  },
  {
   "cell_type": "code",
   "execution_count": null,
   "metadata": {
    "collapsed": true
   },
   "outputs": [],
   "source": []
  }
 ],
 "metadata": {
  "kernelspec": {
   "display_name": "Python 2",
   "language": "python",
   "name": "python2"
  },
  "language_info": {
   "codemirror_mode": {
    "name": "ipython",
    "version": 2
   },
   "file_extension": ".py",
   "mimetype": "text/x-python",
   "name": "python",
   "nbconvert_exporter": "python",
   "pygments_lexer": "ipython2",
   "version": "2.7.11"
  },
  "latex_envs": {
   "bibliofile": "biblio.bib",
   "cite_by": "apalike",
   "current_citInitial": 1,
   "eqLabelWithNumbers": true,
   "eqNumInitial": 0
  }
 },
 "nbformat": 4,
 "nbformat_minor": 0
}
