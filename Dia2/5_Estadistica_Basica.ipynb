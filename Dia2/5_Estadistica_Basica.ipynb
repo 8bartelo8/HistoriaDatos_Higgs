{
 "cells": [
  {
   "cell_type": "markdown",
   "metadata": {},
   "source": [
    "# Un poco de estadística\n",
    "\n",
    "Antes de meternos a tratar el problema de clasificacion, vamos a ver unas cosas basicas de las gaussianas. Atravez de ellas vamos a entender algunos conceptos de la estadistica y la probabilidad.\n",
    "\n",
    "En particular vamos a ver los conceptos de:\n",
    "\n",
    "* Tipos de aleatoredad.\n",
    "* Distribuciones normales o Gaussianas.\n",
    "* Que significa el promedio (mean) y la varianza/desviacion estandar (var/std)?\n",
    "* Que significa la sigmas para un experimento.\n",
    "\n",
    "## Primero las librerias"
   ]
  },
  {
   "cell_type": "code",
   "execution_count": null,
   "metadata": {
    "collapsed": false
   },
   "outputs": [],
   "source": [
    "import numpy as np\n",
    "import matplotlib.pyplot as plt\n",
    "import seaborn as sns\n",
    "%matplotlib inline"
   ]
  },
  {
   "cell_type": "markdown",
   "metadata": {},
   "source": [
    "## Encuesta de edades\n",
    "\n",
    "Hacemos dos listas, la primera contendrá las edades de los chavos de clubes de ciencia y la segusda el número de personas que tienen dicha edad"
   ]
  },
  {
   "cell_type": "code",
   "execution_count": null,
   "metadata": {
    "collapsed": false
   },
   "outputs": [],
   "source": [
    "Edades = np.array([15, 16, 17, 18, 19, 20, 21, 22, 23, 24])\n",
    "Frecuencia = np.array([10, 22, 39, 32, 26, 10, 7, 5, 8, 1])\n",
    "print(sum(Frecuencia))\n",
    "plt.bar(Edades, Frecuencia)\n",
    "plt.show()"
   ]
  },
  {
   "cell_type": "markdown",
   "metadata": {},
   "source": [
    "## Distribución uniforme\n",
    "\n",
    "Cacho!\n",
    "![](files/cacho.jpg)"
   ]
  },
  {
   "cell_type": "markdown",
   "metadata": {},
   "source": [
    "#### Que otros feneomenos siguen una distribuicon uniforme?"
   ]
  },
  {
   "cell_type": "code",
   "execution_count": null,
   "metadata": {
    "collapsed": false
   },
   "outputs": [],
   "source": [
    "x = np.random.rand(10)\n",
    "sns.distplot(x,kde=False)\n",
    "plt.xlim(0,1)\n",
    "plt.show()"
   ]
  },
  {
   "cell_type": "markdown",
   "metadata": {},
   "source": [
    "## Distribución de Poisson\n",
    "Número de solicitudes de amistad en facebook en una semana\n",
    "\n",
    "![](http://practicopedia.lainformacion.com/files/portada_facebook01_476.gif)"
   ]
  },
  {
   "cell_type": "code",
   "execution_count": null,
   "metadata": {
    "collapsed": false
   },
   "outputs": [],
   "source": [
    "s = np.random.poisson(2,2000)\n",
    "sns.distplot(s,kde=False)\n",
    "plt.show()"
   ]
  },
  {
   "cell_type": "markdown",
   "metadata": {},
   "source": [
    "## Distribución normal\n",
    "\n",
    "Distribución de tiempos de maraton para corredores de varias edades:\n",
    "\n",
    "![](files/maraton.jpg)\n",
    "\n",
    "\n",
    "Cambia el numero de datos y ve que pasa:"
   ]
  },
  {
   "cell_type": "code",
   "execution_count": null,
   "metadata": {
    "collapsed": false
   },
   "outputs": [],
   "source": [
    "x=np.random.randn(50)\n",
    "sns.distplot(x)\n",
    "plt.show()"
   ]
  },
  {
   "cell_type": "markdown",
   "metadata": {},
   "source": [
    "Una forma de automatizar esto es:"
   ]
  },
  {
   "cell_type": "code",
   "execution_count": null,
   "metadata": {
    "collapsed": false
   },
   "outputs": [],
   "source": [
    "numeros = [10,50,100,1000,10000]\n",
    "\n",
    "for n in numeros:\n",
    "    x = np.random.randn(n)\n",
    "    sns.distplot(x)\n",
    "    plt.title('n = %d'%n)\n",
    "    plt.show()"
   ]
  },
  {
   "cell_type": "markdown",
   "metadata": {},
   "source": [
    "Tambien podemos hacerlo de otra manera con **np.random.normal()** que tiene 3 argumentos:\n",
    "    \n",
    "* **loc**, la locacion ... o mejor dicho el promedio.\n",
    "* **scale**, la escala ... o mejor dicho el la desviacion estandar.\n",
    "* **size**, o tamaño ... cuantos numeros vamos a generar.\n"
   ]
  },
  {
   "cell_type": "code",
   "execution_count": null,
   "metadata": {
    "collapsed": false
   },
   "outputs": [],
   "source": [
    "numeros = np.random.normal(loc=2.0,scale=2.0,size=1000)\n",
    "sns.distplot(numeros)\n",
    "plt.show()"
   ]
  },
  {
   "cell_type": "markdown",
   "metadata": {},
   "source": [
    "## Que significa la desviacion estandar?\n",
    "### Y las sigmas!\n",
    "\n",
    "![](files/Sigmas.png)\n",
    "\n",
    "$1 \\sigma$ = 68.26%\n",
    "\n",
    "$2 \\sigma$ = 95.44%\n",
    "\n",
    "$3 \\sigma$ = 99.74%\n",
    "\n",
    "$4 \\sigma$ = 99.995%\n",
    "\n",
    "$5 \\sigma$ = 99.99995%"
   ]
  },
  {
   "cell_type": "markdown",
   "metadata": {},
   "source": [
    "## Actividades\n",
    "\n",
    "Haz lo siguiente:\n",
    "\n",
    "* Crear 3 distribuciones variando promedio (mean)\n",
    "* Crear 3 distribuciones variando la desviacion estandar (std)\n",
    "* Crear 2 distribuciones con cierto sobrelape, es decir que se toquen\n"
   ]
  },
  {
   "cell_type": "code",
   "execution_count": null,
   "metadata": {
    "collapsed": true
   },
   "outputs": [],
   "source": []
  },
  {
   "cell_type": "code",
   "execution_count": null,
   "metadata": {
    "collapsed": true
   },
   "outputs": [],
   "source": []
  },
  {
   "cell_type": "markdown",
   "metadata": {},
   "source": [
    "## Campanas gaussianas en la Naturaleza\n",
    "\n",
    "Examenes de salidad en prepas en Polonia:\n",
    "![](files/Polonia_cali.jpg)\n",
    "\n",
    "\n",
    "### Que podria ser esta desviacion?"
   ]
  },
  {
   "cell_type": "markdown",
   "metadata": {},
   "source": [
    "## Distribución normal en 2D"
   ]
  },
  {
   "cell_type": "code",
   "execution_count": null,
   "metadata": {
    "collapsed": false
   },
   "outputs": [],
   "source": [
    "x = np.random.normal(loc=2.0,scale=0.5,size=100)\n",
    "y = np.random.normal(loc=2.0,scale=0.5,size=100)\n",
    "plt.scatter(x,y,c='r',label='rojos')\n",
    "plt.legend()\n",
    "plt.show()"
   ]
  },
  {
   "cell_type": "markdown",
   "metadata": {
    "collapsed": true
   },
   "source": [
    "## Actividades\n",
    "\n",
    "Hacer:\n",
    "\n",
    "* Crear 3 distribuciones variando mean en una sola imagen.\n",
    "* Crear 3 distribuciones variando std en una sola imagen.\n",
    "* Crear 2 distribuciones con cierto sobrelape en una sola imagen.\n",
    "\n",
    "Discussion \n",
    "\n",
    "* Como podemos extender esta idea de gaussianas a mas dimensiones?\n",
    "* Que significa el promedio y la desviacion estandar?\n",
    "* Que significa las sigmas?\n",
    "* Como se relaciona las sigmas con la precision de experimentos fisicos?\n",
    "* Y con el LHC?"
   ]
  },
  {
   "cell_type": "code",
   "execution_count": null,
   "metadata": {
    "collapsed": true
   },
   "outputs": [],
   "source": []
  },
  {
   "cell_type": "code",
   "execution_count": null,
   "metadata": {
    "collapsed": true
   },
   "outputs": [],
   "source": []
  }
 ],
 "metadata": {
  "kernelspec": {
   "display_name": "Python 3",
   "language": "python",
   "name": "python3"
  },
  "language_info": {
   "codemirror_mode": {
    "name": "ipython",
    "version": 3
   },
   "file_extension": ".py",
   "mimetype": "text/x-python",
   "name": "python",
   "nbconvert_exporter": "python",
   "pygments_lexer": "ipython3",
   "version": "3.5.1"
  },
  "latex_envs": {
   "bibliofile": "biblio.bib",
   "cite_by": "apalike",
   "current_citInitial": 1,
   "eqLabelWithNumbers": true,
   "eqNumInitial": 0
  }
 },
 "nbformat": 4,
 "nbformat_minor": 0
}
