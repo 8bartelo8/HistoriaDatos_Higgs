{
 "cells": [
  {
   "cell_type": "markdown",
   "metadata": {},
   "source": [
    "# A explorar los datos del LHC\n",
    "\n",
    "![](files/CMS_Higgs-event.jpg)\n",
    "\n",
    "Hoy vamos a combinar dos conceptos que vimos ayer:\n",
    "\n",
    "* Abrir bases de datos con pandas\n",
    "* Visualizar datos mediante histogramas\n",
    "\n",
    "Ademas veremos como:\n",
    "\n",
    "* Utilizar scatter plots 2D \n",
    "* Box plots\n",
    "\n",
    "### Nuestra meta: <br> Pensar como classificar un datos como boson (s) o ruido (b)\n",
    "\n",
    "## Primero las librerias\n",
    "\n",
    "Instalaremos una libreria (**seaborn**) para visualizacion avanzada usando el comando en su terminal (**anaconda prompt** o **terminal**):\n",
    "```shell\n",
    "conda install seaborn\n",
    "```\n",
    "\n",
    "\n"
   ]
  },
  {
   "cell_type": "code",
   "execution_count": 70,
   "metadata": {
    "collapsed": false
   },
   "outputs": [],
   "source": [
    "import pandas as pd\n",
    "import numpy as np # modulo de computo numerico\n",
    "import matplotlib.pyplot as plt # modulo de graficas\n",
    "# esta linea hace que las graficas salgan en el notebook\n",
    "import seaborn as sns\n",
    "%matplotlib inline"
   ]
  },
  {
   "cell_type": "markdown",
   "metadata": {},
   "source": [
    "## Datos LHC\n",
    "\n",
    "Hemos preparado una version mini de los datos, que funcionara bastante bien.\n",
    "Los datos estan en formato CSV  (Que siginifica CSV?)"
   ]
  },
  {
   "cell_type": "code",
   "execution_count": 71,
   "metadata": {
    "collapsed": false
   },
   "outputs": [
    {
     "data": {
      "text/html": [
       "<div>\n",
       "<table border=\"1\" class=\"dataframe\">\n",
       "  <thead>\n",
       "    <tr style=\"text-align: right;\">\n",
       "      <th></th>\n",
       "      <th>EventId</th>\n",
       "      <th>DER_mass_MMC</th>\n",
       "      <th>DER_mass_transverse_met_lep</th>\n",
       "      <th>DER_mass_vis</th>\n",
       "      <th>DER_pt_h</th>\n",
       "      <th>DER_deltaeta_jet_jet</th>\n",
       "      <th>DER_mass_jet_jet</th>\n",
       "      <th>DER_prodeta_jet_jet</th>\n",
       "      <th>DER_deltar_tau_lep</th>\n",
       "      <th>DER_pt_tot</th>\n",
       "      <th>...</th>\n",
       "      <th>PRI_jet_num</th>\n",
       "      <th>PRI_jet_leading_pt</th>\n",
       "      <th>PRI_jet_leading_eta</th>\n",
       "      <th>PRI_jet_leading_phi</th>\n",
       "      <th>PRI_jet_subleading_pt</th>\n",
       "      <th>PRI_jet_subleading_eta</th>\n",
       "      <th>PRI_jet_subleading_phi</th>\n",
       "      <th>PRI_jet_all_pt</th>\n",
       "      <th>Weight</th>\n",
       "      <th>Label</th>\n",
       "    </tr>\n",
       "  </thead>\n",
       "  <tbody>\n",
       "    <tr>\n",
       "      <th>0</th>\n",
       "      <td>100000</td>\n",
       "      <td>138.470</td>\n",
       "      <td>51.655</td>\n",
       "      <td>97.827</td>\n",
       "      <td>27.980</td>\n",
       "      <td>0.91</td>\n",
       "      <td>124.711</td>\n",
       "      <td>2.666</td>\n",
       "      <td>3.064</td>\n",
       "      <td>41.928</td>\n",
       "      <td>...</td>\n",
       "      <td>2</td>\n",
       "      <td>67.435</td>\n",
       "      <td>2.150</td>\n",
       "      <td>0.444</td>\n",
       "      <td>46.062</td>\n",
       "      <td>1.24</td>\n",
       "      <td>-2.475</td>\n",
       "      <td>113.497</td>\n",
       "      <td>0.002653</td>\n",
       "      <td>s</td>\n",
       "    </tr>\n",
       "    <tr>\n",
       "      <th>1</th>\n",
       "      <td>100001</td>\n",
       "      <td>160.937</td>\n",
       "      <td>68.768</td>\n",
       "      <td>103.235</td>\n",
       "      <td>48.146</td>\n",
       "      <td>-999.00</td>\n",
       "      <td>-999.000</td>\n",
       "      <td>-999.000</td>\n",
       "      <td>3.473</td>\n",
       "      <td>2.078</td>\n",
       "      <td>...</td>\n",
       "      <td>1</td>\n",
       "      <td>46.226</td>\n",
       "      <td>0.725</td>\n",
       "      <td>1.158</td>\n",
       "      <td>-999.000</td>\n",
       "      <td>-999.00</td>\n",
       "      <td>-999.000</td>\n",
       "      <td>46.226</td>\n",
       "      <td>2.233584</td>\n",
       "      <td>b</td>\n",
       "    </tr>\n",
       "    <tr>\n",
       "      <th>2</th>\n",
       "      <td>100002</td>\n",
       "      <td>-999.000</td>\n",
       "      <td>162.172</td>\n",
       "      <td>125.953</td>\n",
       "      <td>35.635</td>\n",
       "      <td>-999.00</td>\n",
       "      <td>-999.000</td>\n",
       "      <td>-999.000</td>\n",
       "      <td>3.148</td>\n",
       "      <td>9.336</td>\n",
       "      <td>...</td>\n",
       "      <td>1</td>\n",
       "      <td>44.251</td>\n",
       "      <td>2.053</td>\n",
       "      <td>-2.028</td>\n",
       "      <td>-999.000</td>\n",
       "      <td>-999.00</td>\n",
       "      <td>-999.000</td>\n",
       "      <td>44.251</td>\n",
       "      <td>2.347389</td>\n",
       "      <td>b</td>\n",
       "    </tr>\n",
       "    <tr>\n",
       "      <th>3</th>\n",
       "      <td>100003</td>\n",
       "      <td>143.905</td>\n",
       "      <td>81.417</td>\n",
       "      <td>80.943</td>\n",
       "      <td>0.414</td>\n",
       "      <td>-999.00</td>\n",
       "      <td>-999.000</td>\n",
       "      <td>-999.000</td>\n",
       "      <td>3.310</td>\n",
       "      <td>0.414</td>\n",
       "      <td>...</td>\n",
       "      <td>0</td>\n",
       "      <td>-999.000</td>\n",
       "      <td>-999.000</td>\n",
       "      <td>-999.000</td>\n",
       "      <td>-999.000</td>\n",
       "      <td>-999.00</td>\n",
       "      <td>-999.000</td>\n",
       "      <td>-0.000</td>\n",
       "      <td>5.446378</td>\n",
       "      <td>b</td>\n",
       "    </tr>\n",
       "    <tr>\n",
       "      <th>4</th>\n",
       "      <td>100004</td>\n",
       "      <td>175.864</td>\n",
       "      <td>16.915</td>\n",
       "      <td>134.805</td>\n",
       "      <td>16.405</td>\n",
       "      <td>-999.00</td>\n",
       "      <td>-999.000</td>\n",
       "      <td>-999.000</td>\n",
       "      <td>3.891</td>\n",
       "      <td>16.405</td>\n",
       "      <td>...</td>\n",
       "      <td>0</td>\n",
       "      <td>-999.000</td>\n",
       "      <td>-999.000</td>\n",
       "      <td>-999.000</td>\n",
       "      <td>-999.000</td>\n",
       "      <td>-999.00</td>\n",
       "      <td>-999.000</td>\n",
       "      <td>0.000</td>\n",
       "      <td>6.245333</td>\n",
       "      <td>b</td>\n",
       "    </tr>\n",
       "  </tbody>\n",
       "</table>\n",
       "<p>5 rows × 33 columns</p>\n",
       "</div>"
      ],
      "text/plain": [
       "   EventId  DER_mass_MMC  DER_mass_transverse_met_lep  DER_mass_vis  DER_pt_h  \\\n",
       "0   100000       138.470                       51.655        97.827    27.980   \n",
       "1   100001       160.937                       68.768       103.235    48.146   \n",
       "2   100002      -999.000                      162.172       125.953    35.635   \n",
       "3   100003       143.905                       81.417        80.943     0.414   \n",
       "4   100004       175.864                       16.915       134.805    16.405   \n",
       "\n",
       "   DER_deltaeta_jet_jet  DER_mass_jet_jet  DER_prodeta_jet_jet  \\\n",
       "0                  0.91           124.711                2.666   \n",
       "1               -999.00          -999.000             -999.000   \n",
       "2               -999.00          -999.000             -999.000   \n",
       "3               -999.00          -999.000             -999.000   \n",
       "4               -999.00          -999.000             -999.000   \n",
       "\n",
       "   DER_deltar_tau_lep  DER_pt_tot  ...    PRI_jet_num  PRI_jet_leading_pt  \\\n",
       "0               3.064      41.928  ...              2              67.435   \n",
       "1               3.473       2.078  ...              1              46.226   \n",
       "2               3.148       9.336  ...              1              44.251   \n",
       "3               3.310       0.414  ...              0            -999.000   \n",
       "4               3.891      16.405  ...              0            -999.000   \n",
       "\n",
       "   PRI_jet_leading_eta  PRI_jet_leading_phi  PRI_jet_subleading_pt  \\\n",
       "0                2.150                0.444                 46.062   \n",
       "1                0.725                1.158               -999.000   \n",
       "2                2.053               -2.028               -999.000   \n",
       "3             -999.000             -999.000               -999.000   \n",
       "4             -999.000             -999.000               -999.000   \n",
       "\n",
       "   PRI_jet_subleading_eta  PRI_jet_subleading_phi  PRI_jet_all_pt    Weight  \\\n",
       "0                    1.24                  -2.475         113.497  0.002653   \n",
       "1                 -999.00                -999.000          46.226  2.233584   \n",
       "2                 -999.00                -999.000          44.251  2.347389   \n",
       "3                 -999.00                -999.000          -0.000  5.446378   \n",
       "4                 -999.00                -999.000           0.000  6.245333   \n",
       "\n",
       "   Label  \n",
       "0      s  \n",
       "1      b  \n",
       "2      b  \n",
       "3      b  \n",
       "4      b  \n",
       "\n",
       "[5 rows x 33 columns]"
      ]
     },
     "execution_count": 71,
     "metadata": {},
     "output_type": "execute_result"
    }
   ],
   "source": [
    "df = pd.read_csv('files/mini-LHC.csv')\n",
    "df.head()"
   ]
  },
  {
   "cell_type": "markdown",
   "metadata": {},
   "source": [
    "## Utilidades:\n",
    "\n",
    "Podemos accesar informacion de la base de datos (DataFrame) mediante las siugientes formas:\n",
    "\n",
    "### Tamaño \n",
    "Para eso podemos usar **len()** (longitud) y **.shape** (forma)."
   ]
  },
  {
   "cell_type": "code",
   "execution_count": 43,
   "metadata": {
    "collapsed": false
   },
   "outputs": [
    {
     "name": "stdout",
     "output_type": "stream",
     "text": [
      "10000\n"
     ]
    }
   ],
   "source": [
    "print(df.shape)"
   ]
  },
  {
   "cell_type": "code",
   "execution_count": null,
   "metadata": {
    "collapsed": true
   },
   "outputs": [],
   "source": [
    "print(len(df))"
   ]
  },
  {
   "cell_type": "markdown",
   "metadata": {},
   "source": [
    "### Columnas"
   ]
  },
  {
   "cell_type": "code",
   "execution_count": 19,
   "metadata": {
    "collapsed": false
   },
   "outputs": [
    {
     "name": "stdout",
     "output_type": "stream",
     "text": [
      "Index([u'EventId', u'DER_mass_MMC', u'DER_mass_transverse_met_lep',\n",
      "       u'DER_mass_vis', u'DER_pt_h', u'DER_deltaeta_jet_jet',\n",
      "       u'DER_mass_jet_jet', u'DER_prodeta_jet_jet', u'DER_deltar_tau_lep',\n",
      "       u'DER_pt_tot', u'DER_sum_pt', u'DER_pt_ratio_lep_tau',\n",
      "       u'DER_met_phi_centrality', u'DER_lep_eta_centrality', u'PRI_tau_pt',\n",
      "       u'PRI_tau_eta', u'PRI_tau_phi', u'PRI_lep_pt', u'PRI_lep_eta',\n",
      "       u'PRI_lep_phi', u'PRI_met', u'PRI_met_phi', u'PRI_met_sumet',\n",
      "       u'PRI_jet_num', u'PRI_jet_leading_pt', u'PRI_jet_leading_eta',\n",
      "       u'PRI_jet_leading_phi', u'PRI_jet_subleading_pt',\n",
      "       u'PRI_jet_subleading_eta', u'PRI_jet_subleading_phi', u'PRI_jet_all_pt',\n",
      "       u'Weight', u'Label'],\n",
      "      dtype='object')\n"
     ]
    }
   ],
   "source": [
    "print(df.columns)"
   ]
  },
  {
   "cell_type": "markdown",
   "metadata": {},
   "source": [
    "## Y si quiero imprimir columnas, una por una?\n",
    "\n",
    "Usamos un for!"
   ]
  },
  {
   "cell_type": "code",
   "execution_count": 38,
   "metadata": {
    "collapsed": false
   },
   "outputs": [
    {
     "name": "stdout",
     "output_type": "stream",
     "text": [
      "EventId\n",
      "DER_mass_MMC\n",
      "DER_mass_transverse_met_lep\n",
      "DER_mass_vis\n",
      "DER_pt_h\n",
      "DER_deltaeta_jet_jet\n",
      "DER_mass_jet_jet\n",
      "DER_prodeta_jet_jet\n",
      "DER_deltar_tau_lep\n",
      "DER_pt_tot\n",
      "DER_sum_pt\n",
      "DER_pt_ratio_lep_tau\n",
      "DER_met_phi_centrality\n",
      "DER_lep_eta_centrality\n",
      "PRI_tau_pt\n",
      "PRI_tau_eta\n",
      "PRI_tau_phi\n",
      "PRI_lep_pt\n",
      "PRI_lep_eta\n",
      "PRI_lep_phi\n",
      "PRI_met\n",
      "PRI_met_phi\n",
      "PRI_met_sumet\n",
      "PRI_jet_num\n",
      "PRI_jet_leading_pt\n",
      "PRI_jet_leading_eta\n",
      "PRI_jet_leading_phi\n",
      "PRI_jet_subleading_pt\n",
      "PRI_jet_subleading_eta\n",
      "PRI_jet_subleading_phi\n",
      "PRI_jet_all_pt\n",
      "Weight\n",
      "Label\n"
     ]
    }
   ],
   "source": [
    "for col in df.columns:\n",
    "    print(col)"
   ]
  },
  {
   "cell_type": "markdown",
   "metadata": {},
   "source": [
    "### Recuerda: <br> Para accesar una columna usamos su nombre"
   ]
  },
  {
   "cell_type": "code",
   "execution_count": 39,
   "metadata": {
    "collapsed": false
   },
   "outputs": [
    {
     "data": {
      "text/plain": [
       "0        16.824\n",
       "1        44.704\n",
       "2        54.283\n",
       "3        31.082\n",
       "4         2.723\n",
       "5        40.735\n",
       "6        38.421\n",
       "7        22.275\n",
       "8        37.791\n",
       "9       132.678\n",
       "10       51.276\n",
       "11       22.385\n",
       "12       43.910\n",
       "13       12.439\n",
       "14       75.197\n",
       "15       19.959\n",
       "16       41.899\n",
       "17       17.557\n",
       "18       44.698\n",
       "19       72.981\n",
       "20       67.909\n",
       "21       27.431\n",
       "22       12.556\n",
       "23       17.960\n",
       "24       27.318\n",
       "25       10.098\n",
       "26       32.070\n",
       "27       69.364\n",
       "28       39.141\n",
       "29       26.438\n",
       "         ...   \n",
       "9970     34.756\n",
       "9971     32.176\n",
       "9972      6.182\n",
       "9973     32.681\n",
       "9974     19.568\n",
       "9975     16.777\n",
       "9976     55.911\n",
       "9977    152.360\n",
       "9978     40.559\n",
       "9979     76.026\n",
       "9980    104.796\n",
       "9981     25.502\n",
       "9982     27.240\n",
       "9983     21.641\n",
       "9984     86.910\n",
       "9985     24.584\n",
       "9986     23.453\n",
       "9987     38.499\n",
       "9988     18.259\n",
       "9989     60.186\n",
       "9990     37.312\n",
       "9991     72.903\n",
       "9992     21.698\n",
       "9993      0.505\n",
       "9994     29.066\n",
       "9995     39.056\n",
       "9996     48.681\n",
       "9997      1.344\n",
       "9998      9.784\n",
       "9999     23.558\n",
       "Name: PRI_met, dtype: float64"
      ]
     },
     "execution_count": 39,
     "metadata": {},
     "output_type": "execute_result"
    }
   ],
   "source": [
    "df['PRI_met']"
   ]
  },
  {
   "cell_type": "markdown",
   "metadata": {},
   "source": [
    "### Dividir datos\n",
    "Finalmente vamos dividir los datos entre los que son bosones (s) y los que no.\n",
    "Cada uno sera una base de datos seprada"
   ]
  },
  {
   "cell_type": "code",
   "execution_count": 46,
   "metadata": {
    "collapsed": true
   },
   "outputs": [],
   "source": [
    "boson_df = df[df['Label']=='s']\n",
    "ruido_df = df[df['Label']=='b']"
   ]
  },
  {
   "cell_type": "markdown",
   "metadata": {},
   "source": [
    "## Preguntas:\n",
    "\n",
    "* Cuantos Bosones tenemos?\n",
    "* Y cuantos de ruido?"
   ]
  },
  {
   "cell_type": "code",
   "execution_count": 42,
   "metadata": {
    "collapsed": false
   },
   "outputs": [
    {
     "name": "stdout",
     "output_type": "stream",
     "text": [
      "(6628, 33)\n"
     ]
    }
   ],
   "source": []
  },
  {
   "cell_type": "markdown",
   "metadata": {},
   "source": [
    "## Visualizar!\n",
    "\n",
    "Ahora que sabemos accesar a los datos, vamos a visualizar los datos.\n",
    "\n",
    "Como ejemplo usaremos la propiedad fisica **DER_mass_MMC** que de acuerdo al documento de datos dice:\n",
    "\n",
    "> **DER_mass_MMC:** The estimated mass mH of the Higgs boson candidate, obtained through a prob- abilistic phase space integration\n",
    "\n",
    "Es decir la masa estimada de la particula.\n",
    "\n",
    "## BoxPlot\n",
    "\n",
    "Con los boxplots, vemos el minimo, maximo, promedio y una caja donde esta concentrado la mayoria de los datos (75%).\n",
    "\n",
    "Con boxplots usamos todos los datos no divididos (**df**)..le decimos quien es esta en el eje x (**Label**) y quien en el eje y que puede ser cualquier propiedad fisica."
   ]
  },
  {
   "cell_type": "code",
   "execution_count": 60,
   "metadata": {
    "collapsed": false
   },
   "outputs": [
    {
     "data": {
      "image/png": "[encoded data removed]",
      "text/plain": [
       "<matplotlib.figure.Figure at 0x104c0c250>"
      ]
     },
     "metadata": {},
     "output_type": "display_data"
    }
   ],
   "source": [
    "sns.boxplot(x=\"Label\", y=\"DER_mass_MMC\",data=df)\n",
    "plt.show()"
   ]
  },
  {
   "cell_type": "markdown",
   "metadata": {},
   "source": [
    "## Histogramas\n",
    "\n",
    "Usando la funcion **sns.distplot**, esta combina la funcionalidad de un histograma y ademas trata de ajustar una curva a los datos."
   ]
  },
  {
   "cell_type": "code",
   "execution_count": 69,
   "metadata": {
    "collapsed": false
   },
   "outputs": [
    {
     "data": {
      "image/png": "[encoded data removed]",
      "text/plain": [
       "<matplotlib.figure.Figure at 0x10a172ad0>"
      ]
     },
     "metadata": {},
     "output_type": "display_data"
    }
   ],
   "source": [
    "sns.distplot(boson_df[\"DER_mass_MMC\"],label='boson')\n",
    "sns.distplot(ruido_df[\"DER_mass_MMC\"],label='ruido')\n",
    "plt.ylabel('Frecuencia')\n",
    "plt.legend()\n",
    "plt.title(\"Distribucion de DER_mass_MMC\")\n",
    "plt.show()"
   ]
  },
  {
   "cell_type": "markdown",
   "metadata": {},
   "source": [
    "## Scatter plots\n",
    "\n",
    "Con scatter plots podemos ver la relacion de dos variables, graficando puntos en una dimension (X) y luego en otra (Y).\n",
    "\n",
    "En este caso escojemos una variable extra **PRI_tau_pt**  que segun la documentacion representa\n",
    "\n",
    "> **PRI_tau_pt** The transverse momentum  $\\sqrt{p^2_x + p^2_y}$ of the hadronic tau.\n",
    "\n",
    "Es decir el momento transversal del tau hadronico..algo loco\n",
    "\n",
    "Probemoslo:"
   ]
  },
  {
   "cell_type": "code",
   "execution_count": 93,
   "metadata": {
    "collapsed": false
   },
   "outputs": [
    {
     "data": {
      "image/png": "[encoded data removed]",
      "text/plain": [
       "<matplotlib.figure.Figure at 0x108c15b10>"
      ]
     },
     "metadata": {},
     "output_type": "display_data"
    }
   ],
   "source": [
    "ejeX = \"DER_mass_MMC\"\n",
    "ejeY = \"PRI_tau_pt\"\n",
    "plt.scatter(df[ejeX],df[ejeY],alpha=0.5)\n",
    "plt.xlabel(ejeX)\n",
    "plt.ylabel(ejeY)\n",
    "plt.show()"
   ]
  },
  {
   "cell_type": "markdown",
   "metadata": {},
   "source": [
    "#### Ven algun problema ?\n",
    "\n",
    "En este caso tiene sentido visualizar los datos separados...asi tenemos una mejor idea"
   ]
  },
  {
   "cell_type": "code",
   "execution_count": 89,
   "metadata": {
    "collapsed": false
   },
   "outputs": [
    {
     "data": {
      "image/png": "[encoded data removed]",
      "text/plain": [
       "<matplotlib.figure.Figure at 0x109c57710>"
      ]
     },
     "metadata": {},
     "output_type": "display_data"
    }
   ],
   "source": [
    "ejeX = \"DER_mass_MMC\"\n",
    "ejeY = \"PRI_tau_pt\"\n",
    "plt.scatter(boson_df[ejeX],boson_df[ejeY],c='r',alpha=0.5,label='boson')\n",
    "plt.scatter(ruido_df[ejeX],ruido_df[ejeY],c='g',alpha=0.5,label='ruido')\n",
    "plt.xlabel(ejeX)\n",
    "plt.ylabel(ejeY)\n",
    "plt.legend()\n",
    "plt.show()"
   ]
  },
  {
   "cell_type": "markdown",
   "metadata": {},
   "source": [
    "# Actividad: Como separar el higgs?\n",
    "\n",
    "Juntarse en grupos de 5, y juntos exploraran todas las variables que hay.\n",
    "\n",
    "Que hacer:\n",
    "\n",
    "* Usar las herramientas que ya vimos para visualizar las variables, en una dimension y en dos.\n",
    "\n",
    "\n",
    "Discutir:\n",
    "\n",
    "* Que variables son las mas imporates visualmente?\n",
    "* Como separariamos al boson visualmente?\n",
    "* Que retos ven? Es decir que dificultades hay con este enfoque?\n",
    "* Como las podrian resolver?\n"
   ]
  },
  {
   "cell_type": "code",
   "execution_count": null,
   "metadata": {
    "collapsed": true
   },
   "outputs": [],
   "source": []
  }
 ],
 "metadata": {
  "kernelspec": {
   "display_name": "Python 2",
   "language": "python",
   "name": "python2"
  },
  "language_info": {
   "codemirror_mode": {
    "name": "ipython",
    "version": 2
   },
   "file_extension": ".py",
   "mimetype": "text/x-python",
   "name": "python",
   "nbconvert_exporter": "python",
   "pygments_lexer": "ipython2",
   "version": "2.7.11"
  },
  "latex_envs": {
   "bibliofile": "biblio.bib",
   "cite_by": "apalike",
   "current_citInitial": 1,
   "eqLabelWithNumbers": true,
   "eqNumInitial": 0
  }
 },
 "nbformat": 4,
 "nbformat_minor": 0
}
