{
 "cells": [
  {
   "cell_type": "markdown",
   "metadata": {},
   "source": [
    "##<i class=\"fa fa-diamond\"></i> Primero pimpea tu libreta!"
   ]
  },
  {
   "cell_type": "code",
   "execution_count": 1,
   "metadata": {
    "collapsed": false,
    "scrolled": true
   },
   "outputs": [
    {
     "data": {
      "text/html": [
       "<style>\n",
       "@import url('http://fonts.googleapis.com/css?family=Lato:200');\n",
       "\n",
       "body {\n",
       "    font-family: Lato, 'Helvetica Neue', Helvetica, Arial, sans-serif;\n",
       "}\n",
       "\n",
       "/* Apple pips */\n",
       "div.CodeMirror-lines {\n",
       "    border: 0px;\n",
       "    padding-bottom: 1em;\n",
       "}\n",
       "\n",
       "/* Based on Sxq-light */\n",
       "\n",
       ".cm-s-ipython {background: #ffffff; color: #701;}\n",
       ".cm-s-ipython span.cm-keyword {line-height: 1em; font-weight: bold; color: #5A5CAD; }\n",
       ".cm-s-ipython span.cm-atom {color: #6C8CD5;}\n",
       ".cm-s-ipython span.cm-number {color: #562;}\n",
       ".cm-s-ipython span.cm-def {text-decoration:underline; color:#164;}\n",
       ".cm-s-ipython span.cm-variable {color: black; }\n",
       ".cm-s-ipython span.cm-variable-2 {color:black;}\n",
       ".cm-s-ipython span.cm-variable-3 {color: black; }\n",
       ".cm-s-ipython span.cm-property {color:green}\n",
       ".cm-s-ipython span.cm-operator {color:green}\n",
       ".cm-s-ipython span.cm-comment {color: #0080FF; font-style: italic;}\n",
       ".cm-s-ipython span.cm-string {color: red;}\n",
       ".cm-s-ipython span.cm-meta {color: yellow;}\n",
       ".cm-s-ipython span.cm-qualifier {color: green}\n",
       ".cm-s-ipython span.cm-builtin {color: #202a16;}\n",
       ".cm-s-ipython span.cm-bracket {color: #337;}\n",
       ".cm-s-ipython span.cm-tag {color: #3F7F7F;}\n",
       ".cm-s-ipython span.cm-attribute {color: #7F007F;}\n",
       ".cm-s-ipython span.cm-error {color: #f00;}\n",
       ".cm-s-ipython .CodeMirror-linenumber {\n",
       "  color: #1d2;\n",
       "}\n",
       ".cm-s-ipython .CodeMirror-activeline-background {background: #e8f2ff !important;}\n",
       ".cm-s-ipython .CodeMirror-matchingbracket {outline:1px solid green;color:black !important;background:yellow;}\n",
       "\n",
       "\n",
       ".cm-s-ipython .CodeMirror-matchingbracket {\n",
       "  text-decoration: underline;\n",
       "  color: red !important;\n",
       "}\n",
       "\n",
       ".CodeMirror-gutters {\n",
       " background-color: #d5d5d5;\n",
       " font-size: 14pt;\n",
       "}\n",
       "\n",
       "/* Formatting code in markdown cells */\n",
       "div.rendered_html code {\n",
       "    font-style: italic;\n",
       "    font-weight: bold;\n",
       "    color: #8C6900;\n",
       "}\n",
       "\n",
       ".CodeMirror {\n",
       "    font-family: \"Inconsolata\",monospace;\n",
       "    font-size: 13pt;\n",
       "}\n",
       "\n",
       "/* Header */\n",
       "\n",
       ".rendered_html {\n",
       "    font-size: 13pt;\n",
       "}\n",
       "\n",
       "\n",
       ".text_cell_render h1 {\n",
       "    font-size: 2.5em;\n",
       "    line-height: 100%;\n",
       "    margin-bottom: 0.1em;\n",
       "    margin-top: 0.1em;\n",
       "    display: block;\n",
       "    color: rgb(44, 62, 120);\n",
       "}\n",
       "\n",
       ".text_cell_render h2 {\n",
       "    line-height: 100%;\n",
       "    font-size: 2em;\n",
       "    margin-bottom: 0.1em;\n",
       "    margin-top: 0.1em;\n",
       "    display: block;\n",
       "    color: rgb(44, 62, 80);\n",
       "}\n",
       "\n",
       ".text_cell_render h3 {\n",
       "    font-size: 1.5em;\n",
       "    margin-bottom: 0.1em;\n",
       "    margin-top: 0.1em;\n",
       "    color: rgb(44, 62, 80);\n",
       "}\n",
       "\n",
       ".text_cell_render h4 {\n",
       "    font-size: 1.25em;\n",
       "    margin-bottom: 0.05em;\n",
       "    margin-top: 0.05em;\n",
       "    color: rgb(180, 62, 80);\n",
       "}\n",
       "/* Header */\n",
       "\n",
       "\n",
       "span#notebook_name {\n",
       "    font-size: 2em;\n",
       "\n",
       "}\n",
       "\n",
       "div#notebook { /* centre the content */\n",
       "    background: #fff; /* white background for content */\n",
       "    margin: auto;\n",
       "}\n",
       "\n",
       "span#notebook_name.ui-state-hover {\n",
       "    color: #ffff00;\n",
       "}\n",
       "\n",
       "\n",
       "\n",
       "\n",
       "/* draw border around running cells */\n",
       "div.cell.border-box-sizing.code_cell.running {\n",
       "    border: 3px solid #F11;\n",
       "}\n",
       "\n",
       "/*Input and output cells formatting*/\n",
       "div.prompt.input_prompt, div.prompt.output_prompt {\n",
       "    color: #FF0000;\n",
       "    border: 0px;\n",
       "    width: 2.5em;\n",
       "    font-size: 1em\n",
       "}\n",
       "\n",
       "div.prompt.input_prompt {\n",
       "    background-color: #FFFFFF;\n",
       "}\n",
       "\n",
       "div.prompt.output_prompt {\n",
       "    background-color: #FFFFFF;\n",
       "    padding-top: 0.5em;\n",
       "    margin: 8px; /*This is for getting the box-shadow property of the parent to display properly;*/\n",
       "}\n",
       "\n",
       "div.prompt {\n",
       "    width: 2.5em;\n",
       "    min-width: 10ex;\n",
       "}\n",
       "\n",
       "\n",
       "\n",
       "div.input_area {\n",
       "    border: 0px;\n",
       "    margin-bottom: 0;\n",
       "}\n",
       "\n",
       "div.out_prompt_overlay.prompt {\n",
       "    width: 1em;\n",
       "    border: 0px;\n",
       "}\n",
       "\n",
       "div.out_prompt_overlay.prompt:hover {\n",
       "    border: 0px;\n",
       "    background-color: #f92672;\n",
       "    box-shadow: none;\n",
       "    -webkit-border-radius: 0;\n",
       "    -moz-border-radius: 0;\n",
       "    border-radius: 0;\n",
       "    opacity:0.2;\n",
       "}\n",
       "\n",
       "div.output_subarea.output_text.output_stream.output_stdout,div.output_subarea.output_text {\n",
       "    margin-left: 0em;\n",
       "    padding-top: 1em;\n",
       "    padding-bottom: 0.5em;\n",
       "    margin-top: 8px; /*This is for getting the box-shadow property of the parent to display properly;*/\n",
       "}\n",
       "\n",
       "div.output_wrapper {\n",
       "    background-color: #FFFFFF;\n",
       "    margin-bottom: 2em;\n",
       "    margin-top: 0;\n",
       "}\n",
       "\n",
       "div.output.vbox {\n",
       "    box-shadow:inset 0 0 8px #4d4d4d;   /* Check the output prompt settings when changing this*/\n",
       "}\n",
       "\n",
       "/* list style */\n",
       "\n",
       "div#header {\n",
       "    background-color:        #000;\n",
       "    color: #f92672;\n",
       "    background-image: url(\"files/Header.png\");\n",
       "    background-repeat:no-repeat;\n",
       "    background-position: center center;\n",
       "    height: 3em;\n",
       "    border: 0px;\n",
       "}\n",
       "\n",
       "</style>"
      ],
      "text/plain": [
       "<IPython.core.display.HTML object>"
      ]
     },
     "execution_count": 1,
     "metadata": {},
     "output_type": "execute_result"
    }
   ],
   "source": [
    "from IPython.core.display import HTML\n",
    "import os\n",
    "def css_styling():\n",
    "    \"\"\"Load default custom.css file from ipython profile\"\"\"\n",
    "    base = os.getcwd()\n",
    "    styles = \"<style>\\n%s\\n</style>\" % (open(os.path.join(base,'files/custom.css'),'r').read())\n",
    "    return HTML(styles)\n",
    "css_styling()"
   ]
  },
  {
   "cell_type": "code",
   "execution_count": 4,
   "metadata": {
    "collapsed": true
   },
   "outputs": [],
   "source": [
    "import pandas as pd\n",
    "import numpy as np"
   ]
  },
  {
   "cell_type": "code",
   "execution_count": 5,
   "metadata": {
    "collapsed": false
   },
   "outputs": [],
   "source": [
    "df = pd.read_csv('training.csv')"
   ]
  },
  {
   "cell_type": "code",
   "execution_count": 7,
   "metadata": {
    "collapsed": false,
    "scrolled": true
   },
   "outputs": [
    {
     "data": {
      "text/html": [
       "<div>\n",
       "<table border=\"1\" class=\"dataframe\">\n",
       "  <thead>\n",
       "    <tr style=\"text-align: right;\">\n",
       "      <th></th>\n",
       "      <th>EventId</th>\n",
       "      <th>DER_mass_MMC</th>\n",
       "      <th>DER_mass_transverse_met_lep</th>\n",
       "      <th>DER_mass_vis</th>\n",
       "      <th>DER_pt_h</th>\n",
       "      <th>DER_deltaeta_jet_jet</th>\n",
       "      <th>DER_mass_jet_jet</th>\n",
       "      <th>DER_prodeta_jet_jet</th>\n",
       "      <th>DER_deltar_tau_lep</th>\n",
       "      <th>DER_pt_tot</th>\n",
       "      <th>...</th>\n",
       "      <th>PRI_jet_num</th>\n",
       "      <th>PRI_jet_leading_pt</th>\n",
       "      <th>PRI_jet_leading_eta</th>\n",
       "      <th>PRI_jet_leading_phi</th>\n",
       "      <th>PRI_jet_subleading_pt</th>\n",
       "      <th>PRI_jet_subleading_eta</th>\n",
       "      <th>PRI_jet_subleading_phi</th>\n",
       "      <th>PRI_jet_all_pt</th>\n",
       "      <th>Weight</th>\n",
       "      <th>Label</th>\n",
       "    </tr>\n",
       "  </thead>\n",
       "  <tbody>\n",
       "    <tr>\n",
       "      <th>0</th>\n",
       "      <td>100000</td>\n",
       "      <td>138.47</td>\n",
       "      <td>51.655</td>\n",
       "      <td>97.827</td>\n",
       "      <td>27.98</td>\n",
       "      <td>0.91</td>\n",
       "      <td>124.711</td>\n",
       "      <td>2.666</td>\n",
       "      <td>3.064</td>\n",
       "      <td>41.928</td>\n",
       "      <td>...</td>\n",
       "      <td>2</td>\n",
       "      <td>67.435</td>\n",
       "      <td>2.15</td>\n",
       "      <td>0.444</td>\n",
       "      <td>46.062</td>\n",
       "      <td>1.24</td>\n",
       "      <td>-2.475</td>\n",
       "      <td>113.497</td>\n",
       "      <td>0.002653</td>\n",
       "      <td>s</td>\n",
       "    </tr>\n",
       "  </tbody>\n",
       "</table>\n",
       "<p>1 rows × 33 columns</p>\n",
       "</div>"
      ],
      "text/plain": [
       "   EventId  DER_mass_MMC  DER_mass_transverse_met_lep  DER_mass_vis  DER_pt_h  \\\n",
       "0   100000        138.47                       51.655        97.827     27.98   \n",
       "\n",
       "   DER_deltaeta_jet_jet  DER_mass_jet_jet  DER_prodeta_jet_jet  \\\n",
       "0                  0.91           124.711                2.666   \n",
       "\n",
       "   DER_deltar_tau_lep  DER_pt_tot  ...    PRI_jet_num  PRI_jet_leading_pt  \\\n",
       "0               3.064      41.928  ...              2              67.435   \n",
       "\n",
       "   PRI_jet_leading_eta  PRI_jet_leading_phi  PRI_jet_subleading_pt  \\\n",
       "0                 2.15                0.444                 46.062   \n",
       "\n",
       "   PRI_jet_subleading_eta  PRI_jet_subleading_phi  PRI_jet_all_pt    Weight  \\\n",
       "0                    1.24                  -2.475         113.497  0.002653   \n",
       "\n",
       "   Label  \n",
       "0      s  \n",
       "\n",
       "[1 rows x 33 columns]"
      ]
     },
     "execution_count": 7,
     "metadata": {},
     "output_type": "execute_result"
    }
   ],
   "source": [
    "df.head(1)"
   ]
  },
  {
   "cell_type": "code",
   "execution_count": 10,
   "metadata": {
    "collapsed": false
   },
   "outputs": [],
   "source": [
    "bueno=df['Label'].replace(to_replace=['s','b'],value=[1,0])\n",
    "df['class_int']= bueno"
   ]
  },
  {
   "cell_type": "code",
   "execution_count": 13,
   "metadata": {
    "collapsed": false
   },
   "outputs": [],
   "source": [
    "df.drop('EventId',axis=1,inplace=True)\n",
    "df.drop('Label',axis=1,inplace=True)\n",
    "df.drop('class_int',axis=1,inplace=True)"
   ]
  },
  {
   "cell_type": "code",
   "execution_count": 29,
   "metadata": {
    "collapsed": false
   },
   "outputs": [],
   "source": [
    "X = df.values\n",
    "Y = bueno"
   ]
  },
  {
   "cell_type": "code",
   "execution_count": 32,
   "metadata": {
    "collapsed": false
   },
   "outputs": [
    {
     "name": "stdout",
     "output_type": "stream",
     "text": [
      "(250000, 31)\n",
      "(250000,)\n"
     ]
    }
   ],
   "source": [
    "print(X.shape)\n",
    "print(Y.shape)"
   ]
  },
  {
   "cell_type": "code",
   "execution_count": 33,
   "metadata": {
    "collapsed": false
   },
   "outputs": [],
   "source": []
  },
  {
   "cell_type": "code",
   "execution_count": 34,
   "metadata": {
    "collapsed": false
   },
   "outputs": [
    {
     "name": "stdout",
     "output_type": "stream",
     "text": [
      "(12500, 31)\n",
      "(12500,)\n"
     ]
    }
   ],
   "source": [
    "print(X_train.shape)\n",
    "print(Y_train.shape)"
   ]
  },
  {
   "cell_type": "markdown",
   "metadata": {},
   "source": [
    "# experimentar con\n",
    "\n",
    "* max_features\n",
    "* max_depth\n",
    "* min_samples_leaf \n",
    "* n_estimators"
   ]
  },
  {
   "cell_type": "code",
   "execution_count": 45,
   "metadata": {
    "collapsed": false
   },
   "outputs": [
    {
     "data": {
      "text/plain": [
       "0.93377684210526313"
      ]
     },
     "execution_count": 45,
     "metadata": {},
     "output_type": "execute_result"
    }
   ],
   "source": [
    "from sklearn.ensemble import RandomForestClassifier\n",
    "\n",
    "clf = RandomForestClassifier(\n",
    "    max_features=3,\n",
    "    max_depth=10,\n",
    "    min_samples_leaf=50,\n",
    "    n_estimators=5\n",
    ")\n",
    "clf.fit(X_train,Y_train)\n",
    "clf.score(X_test,Y_test)"
   ]
  }
 ],
 "metadata": {
  "kernelspec": {
   "display_name": "Python 2",
   "language": "python",
   "name": "python2"
  },
  "language_info": {
   "codemirror_mode": {
    "name": "ipython",
    "version": 2
   },
   "file_extension": ".py",
   "mimetype": "text/x-python",
   "name": "python",
   "nbconvert_exporter": "python",
   "pygments_lexer": "ipython2",
   "version": "2.7.9"
  }
 },
 "nbformat": 4,
 "nbformat_minor": 0
}
