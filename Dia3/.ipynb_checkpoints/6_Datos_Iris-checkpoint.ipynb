{
 "cells": [
  {
   "cell_type": "markdown",
   "metadata": {},
   "source": [
    "# Classificando Iris\n",
    "\n",
    "Ahora vamos a ver un conjunto de datos muy famosos, los datos **iris**, son 150 mediciones sobre 3 especies de plantas:\n",
    "![](files/iris.png)\n",
    "\n",
    "Cada planta tiene cuatro propiedades que se midieron:\n",
    "![](files/iris_petal_sepal.png)\n",
    "\n",
    "Vamos a empezar con varias versiones de los datos, incrementando en complejidad:\n",
    "\n",
    "* Datos 2D sobre los sepalos de \n",
    "* Datos 2D sobre los petalos de las tres especies.\n",
    "* Datos 4D sobre los petalos de las tres especies. Los datos completos!\n",
    "\n",
    "## Su mission: <br> Disenar estrategis empiricas para classificar las plantas.\n",
    "\n",
    "\n",
    "\n",
    "\n",
    "## Primero las librerias"
   ]
  },
  {
   "cell_type": "code",
   "execution_count": null,
   "metadata": {
    "collapsed": false
   },
   "outputs": [],
   "source": [
    "import pandas as pd\n",
    "import numpy as np # modulo de computo numerico\n",
    "import matplotlib.pyplot as plt # modulo de graficas\n",
    "# esta linea hace que las graficas salgan en el notebook\n",
    "import seaborn as sns\n",
    "%matplotlib inline"
   ]
  },
  {
   "cell_type": "markdown",
   "metadata": {},
   "source": [
    "## Un mini-ejemplo: Classificacion\n",
    "\n",
    "Usaremos el archivo **'files/ejemplo.csv'** en conjunto con pandas:\n"
   ]
  },
  {
   "cell_type": "code",
   "execution_count": null,
   "metadata": {
    "collapsed": false
   },
   "outputs": [],
   "source": [
    "df=pd.read_csv('files/ejemplo.csv')\n",
    "print('df.shape)\n",
    "df.head()"
   ]
  },
  {
   "cell_type": "markdown",
   "metadata": {},
   "source": [
    "## Visualizando\n",
    "\n",
    "Utilizaremos la funcion **sns.pairplot()** que combina las técnicas de visualización que ya vimos, para cada variable crea una versión 1D (Histograma) y luego para cada pareja de variables crea un scatter plot.\n",
    "\n",
    "Usamos **hue='Tipo'** para colorear los datos en base a el tipo de dato.\n"
   ]
  },
  {
   "cell_type": "code",
   "execution_count": null,
   "metadata": {
    "collapsed": false
   },
   "outputs": [],
   "source": [
    "sns.pairplot(df,hue='Tipo')\n",
    "plt.title('Distribuciones de Datos')\n",
    "plt.show()"
   ]
  },
  {
   "cell_type": "markdown",
   "metadata": {
    "collapsed": true
   },
   "source": [
    "## 2D con 2 especies\n",
    "\n",
    "Usa el archivo **'files/iris_2d_a.csv'**"
   ]
  },
  {
   "cell_type": "code",
   "execution_count": null,
   "metadata": {
    "collapsed": false
   },
   "outputs": [],
   "source": []
  },
  {
   "cell_type": "code",
   "execution_count": null,
   "metadata": {
    "collapsed": false
   },
   "outputs": [],
   "source": []
  },
  {
   "cell_type": "markdown",
   "metadata": {},
   "source": [
    "## 2D con las tres especies\n",
    "\n",
    "Usa el archivo **'files/iris_2d_b.csv'**"
   ]
  },
  {
   "cell_type": "code",
   "execution_count": null,
   "metadata": {
    "collapsed": false
   },
   "outputs": [],
   "source": []
  },
  {
   "cell_type": "code",
   "execution_count": null,
   "metadata": {
    "collapsed": false
   },
   "outputs": [],
   "source": []
  },
  {
   "cell_type": "markdown",
   "metadata": {},
   "source": [
    "## Datos completos (4D)\n",
    "Usa el archivo **'files/iris_full.csv'**"
   ]
  },
  {
   "cell_type": "code",
   "execution_count": null,
   "metadata": {
    "collapsed": false
   },
   "outputs": [],
   "source": []
  },
  {
   "cell_type": "code",
   "execution_count": null,
   "metadata": {
    "collapsed": false
   },
   "outputs": [],
   "source": []
  },
  {
   "cell_type": "markdown",
   "metadata": {},
   "source": [
    "## <i class=\"fa fa-comments\"></i> / <i class=\"fa fa-question-circle\"></i> Discutir\n",
    "\n",
    "* Que pasa cuando tenemos mas dimensiones? Si tuvieramos 33 en vez de 4? \n",
    "* En que casos se complica la classificacion?\n",
    "* Que estrategias se pueden utilizar para classificar?\n",
    "\n",
    "\n"
   ]
  },
  {
   "cell_type": "code",
   "execution_count": null,
   "metadata": {
    "collapsed": true
   },
   "outputs": [],
   "source": []
  }
 ],
 "metadata": {
  "kernelspec": {
   "display_name": "Python 3",
   "language": "python",
   "name": "python3"
  },
  "language_info": {
   "codemirror_mode": {
    "name": "ipython",
    "version": 3
   },
   "file_extension": ".py",
   "mimetype": "text/x-python",
   "name": "python",
   "nbconvert_exporter": "python",
   "pygments_lexer": "ipython3",
   "version": "3.5.1"
  },
  "latex_envs": {
   "bibliofile": "biblio.bib",
   "cite_by": "apalike",
   "current_citInitial": 1,
   "eqLabelWithNumbers": true,
   "eqNumInitial": 0
  }
 },
 "nbformat": 4,
 "nbformat_minor": 0
}
