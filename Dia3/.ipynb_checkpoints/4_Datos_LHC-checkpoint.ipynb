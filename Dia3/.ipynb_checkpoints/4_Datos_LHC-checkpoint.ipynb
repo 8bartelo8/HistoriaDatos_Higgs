{
 "cells": [
  {
   "cell_type": "markdown",
   "metadata": {},
   "source": [
    "# A explorar los datos del LHC\n",
    "\n",
    "![](files/CMS_Higgs-event.jpg)\n",
    "\n",
    "Hoy vamos a combinar dos conceptos que vimos ayer:\n",
    "\n",
    "* Abrir bases de datos con pandas\n",
    "* Visualizar datos mediante histogramas\n",
    "\n",
    "Ademas veremos como:\n",
    "\n",
    "* Utilizar scatter plots 2D \n",
    "* Box plots\n",
    "\n",
    "### Nuestra meta: <br> Pensar como classificar un datos como boson (s) o ruido (b)\n",
    "\n",
    "## Primero las librerias\n",
    "\n",
    "Instalaremos una libreria (**seaborn**) para visualizacion avanzada usando el comando en su terminal (**anaconda prompt** o **terminal**):\n",
    "```shell\n",
    "conda install seaborn\n",
    "```\n",
    "\n",
    "\n"
   ]
  },
  {
   "cell_type": "code",
   "execution_count": null,
   "metadata": {
    "collapsed": false
   },
   "outputs": [],
   "source": [
    "import pandas as pd\n",
    "import numpy as np # modulo de computo numerico\n",
    "import matplotlib.pyplot as plt # modulo de graficas\n",
    "# esta linea hace que las graficas salgan en el notebook\n",
    "import seaborn as sns\n",
    "%matplotlib inline"
   ]
  },
  {
   "cell_type": "markdown",
   "metadata": {},
   "source": [
    "## Datos LHC\n",
    "\n",
    "Hemos preparado una version mini de los datos, que funcionara bastante bien.\n",
    "Los datos estan en formato CSV  (Que siginifica CSV?)"
   ]
  },
  {
   "cell_type": "code",
   "execution_count": null,
   "metadata": {
    "collapsed": false
   },
   "outputs": [],
   "source": [
    "df = pd.read_csv('files/mini-LHC.csv')\n",
    "df.head()"
   ]
  },
  {
   "cell_type": "markdown",
   "metadata": {},
   "source": [
    "## Utilidades:\n",
    "\n",
    "Podemos accesar informacion de la base de datos (DataFrame) mediante las siugientes formas:\n",
    "\n",
    "### Tamaño \n",
    "Para eso podemos usar **len()** (longitud) y **.shape** (forma)."
   ]
  },
  {
   "cell_type": "code",
   "execution_count": null,
   "metadata": {
    "collapsed": false
   },
   "outputs": [],
   "source": [
    "print(df.shape)"
   ]
  },
  {
   "cell_type": "code",
   "execution_count": null,
   "metadata": {
    "collapsed": false
   },
   "outputs": [],
   "source": [
    "print(len(df))"
   ]
  },
  {
   "cell_type": "markdown",
   "metadata": {},
   "source": [
    "### Columnas"
   ]
  },
  {
   "cell_type": "code",
   "execution_count": null,
   "metadata": {
    "collapsed": false
   },
   "outputs": [],
   "source": [
    "print(df.columns)"
   ]
  },
  {
   "cell_type": "markdown",
   "metadata": {},
   "source": [
    "## Y si quiero imprimir columnas, una por una?\n",
    "\n",
    "Usamos un for!"
   ]
  },
  {
   "cell_type": "code",
   "execution_count": null,
   "metadata": {
    "collapsed": false
   },
   "outputs": [],
   "source": [
    "for col in df.columns:\n",
    "    print(col)"
   ]
  },
  {
   "cell_type": "markdown",
   "metadata": {},
   "source": [
    "### Recuerda: <br> Para accesar una columna usamos su nombre"
   ]
  },
  {
   "cell_type": "code",
   "execution_count": null,
   "metadata": {
    "collapsed": false
   },
   "outputs": [],
   "source": [
    "df['PRI_met']"
   ]
  },
  {
   "cell_type": "markdown",
   "metadata": {},
   "source": [
    "### Dividir datos\n",
    "Finalmente vamos dividir los datos entre los que son bosones (s) y los que no.\n",
    "Cada uno sera una base de datos seprada"
   ]
  },
  {
   "cell_type": "code",
   "execution_count": null,
   "metadata": {
    "collapsed": true
   },
   "outputs": [],
   "source": [
    "boson_df = df[df['Label']=='s']\n",
    "ruido_df = df[df['Label']=='b']"
   ]
  },
  {
   "cell_type": "markdown",
   "metadata": {},
   "source": [
    "## Preguntas:\n",
    "\n",
    "* Cuantos Bosones tenemos?\n",
    "* Y cuantos de ruido?"
   ]
  },
  {
   "cell_type": "code",
   "execution_count": null,
   "metadata": {
    "collapsed": false
   },
   "outputs": [],
   "source": []
  },
  {
   "cell_type": "markdown",
   "metadata": {},
   "source": [
    "## Visualizar!\n",
    "\n",
    "Ahora que sabemos accesar a los datos, vamos a visualizar los datos.\n",
    "\n",
    "Como ejemplo usaremos la propiedad fisica **DER_mass_MMC** que de acuerdo al documento de datos dice:\n",
    "\n",
    "> **DER_mass_MMC:** The estimated mass mH of the Higgs boson candidate, obtained through a prob- abilistic phase space integration\n",
    "\n",
    "Es decir la masa estimada de la particula.\n",
    "\n",
    "## BoxPlot\n",
    "\n",
    "Con los boxplots, vemos el minimo, maximo, promedio y una caja donde esta concentrado la mayoria de los datos (75%).\n",
    "\n",
    "Con boxplots usamos todos los datos no divididos (**df**)..le decimos quien es esta en el eje x (**Label**) y quien en el eje y que puede ser cualquier propiedad fisica."
   ]
  },
  {
   "cell_type": "code",
   "execution_count": null,
   "metadata": {
    "collapsed": false
   },
   "outputs": [],
   "source": [
    "sns.boxplot(x=\"Label\", y=\"DER_mass_MMC\",data=df)\n",
    "plt.show()"
   ]
  },
  {
   "cell_type": "markdown",
   "metadata": {},
   "source": [
    "## Histogramas\n",
    "\n",
    "Usando la funcion **sns.distplot**, esta combina la funcionalidad de un histograma y ademas trata de ajustar una curva a los datos."
   ]
  },
  {
   "cell_type": "code",
   "execution_count": null,
   "metadata": {
    "collapsed": false
   },
   "outputs": [],
   "source": [
    "sns.distplot(boson_df[\"DER_mass_MMC\"],label='boson')\n",
    "sns.distplot(ruido_df[\"DER_mass_MMC\"],label='ruido')\n",
    "plt.ylabel('Frecuencia')\n",
    "plt.legend()\n",
    "plt.title(\"Distribucion de DER_mass_MMC\")\n",
    "plt.show()"
   ]
  },
  {
   "cell_type": "markdown",
   "metadata": {},
   "source": [
    "## Scatter plots\n",
    "\n",
    "Con scatter plots podemos ver la relacion de dos variables, graficando puntos en una dimension (X) y luego en otra (Y).\n",
    "\n",
    "En este caso escojemos una variable extra **PRI_tau_pt**  que segun la documentacion representa\n",
    "\n",
    "> **PRI_tau_pt** The transverse momentum  $\\sqrt{p^2_x + p^2_y}$ of the hadronic tau.\n",
    "\n",
    "Es decir el momento transversal del tau hadronico..algo loco\n",
    "\n",
    "Probemoslo:"
   ]
  },
  {
   "cell_type": "code",
   "execution_count": null,
   "metadata": {
    "collapsed": false
   },
   "outputs": [],
   "source": [
    "ejeX = \"DER_mass_MMC\"\n",
    "ejeY = \"PRI_tau_pt\"\n",
    "plt.scatter(df[ejeX],df[ejeY],alpha=0.5)\n",
    "plt.xlabel(ejeX)\n",
    "plt.ylabel(ejeY)\n",
    "plt.show()"
   ]
  },
  {
   "cell_type": "markdown",
   "metadata": {},
   "source": [
    "#### Ven algun problema ?\n",
    "\n",
    "En este caso tiene sentido visualizar los datos separados...asi tenemos una mejor idea"
   ]
  },
  {
   "cell_type": "code",
   "execution_count": null,
   "metadata": {
    "collapsed": false
   },
   "outputs": [],
   "source": [
    "ejeX = \"DER_mass_MMC\"\n",
    "ejeY = \"PRI_tau_pt\"\n",
    "plt.scatter(boson_df[ejeX],boson_df[ejeY],c='r',alpha=0.1,s=20,label='boson',lw=0)\n",
    "plt.scatter(ruido_df[ejeX],ruido_df[ejeY],c='g',alpha=0.1,s=10,label='ruido',lw=0)\n",
    "plt.xlabel(ejeX)\n",
    "plt.ylabel(ejeY)\n",
    "plt.legend()\n",
    "plt.show()"
   ]
  },
  {
   "cell_type": "markdown",
   "metadata": {},
   "source": [
    "# Actividad: Como classificar el higgs?\n",
    "\n",
    "![](files/classificar.png)\n",
    "\n",
    "\n",
    "Juntarse en grupos de 6, y juntos exploraran todas las variables que hay.\n",
    "\n",
    "Que hacer:\n",
    "\n",
    "* Usar las herramientas que ya vimos para visualizar las variables, en una dimension y en dos.\n",
    "\n",
    "\n",
    "Discutir:\n",
    "\n",
    "* Que variables son las mas imporates visualmente?\n",
    "* Como separariamos al boson visualmente?\n",
    "* Que retos ven? Es decir que dificultades hay con este enfoque?\n",
    "* Como las podrian resolver?\n",
    "* Por que es necesario classificar el boson?"
   ]
  },
  {
   "cell_type": "code",
   "execution_count": null,
   "metadata": {
    "collapsed": true
   },
   "outputs": [],
   "source": []
  }
 ],
 "metadata": {
  "kernelspec": {
   "display_name": "Python 3",
   "language": "python",
   "name": "python3"
  },
  "language_info": {
   "codemirror_mode": {
    "name": "ipython",
    "version": 3
   },
   "file_extension": ".py",
   "mimetype": "text/x-python",
   "name": "python",
   "nbconvert_exporter": "python",
   "pygments_lexer": "ipython3",
   "version": "3.5.1"
  },
  "latex_envs": {
   "bibliofile": "biblio.bib",
   "cite_by": "apalike",
   "current_citInitial": 1,
   "eqLabelWithNumbers": true,
   "eqNumInitial": 0
  }
 },
 "nbformat": 4,
 "nbformat_minor": 0
}
