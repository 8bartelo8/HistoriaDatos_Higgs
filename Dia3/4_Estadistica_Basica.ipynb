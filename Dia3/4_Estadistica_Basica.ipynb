{
 "cells": [
  {
   "cell_type": "markdown",
   "metadata": {},
   "source": [
    "##<i class=\"fa fa-diamond\"></i> Primero pimpea tu libreta!"
   ]
  },
  {
   "cell_type": "code",
   "execution_count": 2,
   "metadata": {
    "collapsed": false
   },
   "outputs": [
    {
     "data": {
      "text/html": [
       "<style>\n",
       "@import url('http://fonts.googleapis.com/css?family=Lato:200');\n",
       "\n",
       "body {\n",
       "    font-family: Lato, 'Helvetica Neue', Helvetica, Arial, sans-serif;\n",
       "}\n",
       "\n",
       "/* Apple pips */\n",
       "div.CodeMirror-lines {\n",
       "    border: 0px;\n",
       "    padding-bottom: 1em;\n",
       "}\n",
       "\n",
       "/* Based on Sxq-light */\n",
       "\n",
       ".cm-s-ipython {background: #ffffff; color: #701;}\n",
       ".cm-s-ipython span.cm-keyword {line-height: 1em; font-weight: bold; color: #5A5CAD; }\n",
       ".cm-s-ipython span.cm-atom {color: #6C8CD5;}\n",
       ".cm-s-ipython span.cm-number {color: #562;}\n",
       ".cm-s-ipython span.cm-def {text-decoration:underline; color:#164;}\n",
       ".cm-s-ipython span.cm-variable {color: black; }\n",
       ".cm-s-ipython span.cm-variable-2 {color:black;}\n",
       ".cm-s-ipython span.cm-variable-3 {color: black; }\n",
       ".cm-s-ipython span.cm-property {color:green}\n",
       ".cm-s-ipython span.cm-operator {color:green}\n",
       ".cm-s-ipython span.cm-comment {color: #0080FF; font-style: italic;}\n",
       ".cm-s-ipython span.cm-string {color: red;}\n",
       ".cm-s-ipython span.cm-meta {color: yellow;}\n",
       ".cm-s-ipython span.cm-qualifier {color: green}\n",
       ".cm-s-ipython span.cm-builtin {color: #202a16;}\n",
       ".cm-s-ipython span.cm-bracket {color: #337;}\n",
       ".cm-s-ipython span.cm-tag {color: #3F7F7F;}\n",
       ".cm-s-ipython span.cm-attribute {color: #7F007F;}\n",
       ".cm-s-ipython span.cm-error {color: #f00;}\n",
       ".cm-s-ipython .CodeMirror-linenumber {\n",
       "  color: #1d2;\n",
       "}\n",
       ".cm-s-ipython .CodeMirror-activeline-background {background: #e8f2ff !important;}\n",
       ".cm-s-ipython .CodeMirror-matchingbracket {outline:1px solid green;color:black !important;background:yellow;}\n",
       "\n",
       "\n",
       ".cm-s-ipython .CodeMirror-matchingbracket {\n",
       "  text-decoration: underline;\n",
       "  color: red !important;\n",
       "}\n",
       "\n",
       ".CodeMirror-gutters {\n",
       " background-color: #d5d5d5;\n",
       " font-size: 14pt;\n",
       "}\n",
       "\n",
       "/* Formatting code in markdown cells */\n",
       "div.rendered_html code {\n",
       "    font-style: italic;\n",
       "    font-weight: bold;\n",
       "    color: #8C6900;\n",
       "}\n",
       "\n",
       ".CodeMirror {\n",
       "    font-family: \"Inconsolata\",monospace;\n",
       "    font-size: 13pt;\n",
       "}\n",
       "\n",
       "/* Header */\n",
       "\n",
       ".rendered_html {\n",
       "    font-size: 13pt;\n",
       "}\n",
       "\n",
       "\n",
       ".text_cell_render h1 {\n",
       "    font-size: 2.5em;\n",
       "    line-height: 100%;\n",
       "    margin-bottom: 0.1em;\n",
       "    margin-top: 0.1em;\n",
       "    display: block;\n",
       "    color: rgb(44, 62, 120);\n",
       "}\n",
       "\n",
       ".text_cell_render h2 {\n",
       "    line-height: 100%;\n",
       "    font-size: 2em;\n",
       "    margin-bottom: 0.1em;\n",
       "    margin-top: 0.1em;\n",
       "    display: block;\n",
       "    color: rgb(44, 62, 80);\n",
       "}\n",
       "\n",
       ".text_cell_render h3 {\n",
       "    font-size: 1.5em;\n",
       "    margin-bottom: 0.1em;\n",
       "    margin-top: 0.1em;\n",
       "    color: rgb(44, 62, 80);\n",
       "}\n",
       "\n",
       ".text_cell_render h4 {\n",
       "    font-size: 1.25em;\n",
       "    margin-bottom: 0.05em;\n",
       "    margin-top: 0.05em;\n",
       "    color: rgb(180, 62, 80);\n",
       "}\n",
       "/* Header */\n",
       "\n",
       "\n",
       "span#notebook_name {\n",
       "    font-size: 2em;\n",
       "\n",
       "}\n",
       "\n",
       "div#notebook { /* centre the content */\n",
       "    background: #fff; /* white background for content */\n",
       "    margin: auto;\n",
       "}\n",
       "\n",
       "span#notebook_name.ui-state-hover {\n",
       "    color: #ffff00;\n",
       "}\n",
       "\n",
       "\n",
       "\n",
       "\n",
       "/* draw border around running cells */\n",
       "div.cell.border-box-sizing.code_cell.running {\n",
       "    border: 3px solid #F11;\n",
       "}\n",
       "\n",
       "/*Input and output cells formatting*/\n",
       "div.prompt.input_prompt, div.prompt.output_prompt {\n",
       "    color: #FF0000;\n",
       "    border: 0px;\n",
       "    width: 2.5em;\n",
       "    font-size: 1em\n",
       "}\n",
       "\n",
       "div.prompt.input_prompt {\n",
       "    background-color: #FFFFFF;\n",
       "}\n",
       "\n",
       "div.prompt.output_prompt {\n",
       "    background-color: #FFFFFF;\n",
       "    padding-top: 0.5em;\n",
       "    margin: 8px; /*This is for getting the box-shadow property of the parent to display properly;*/\n",
       "}\n",
       "\n",
       "div.prompt {\n",
       "    width: 2.5em;\n",
       "    min-width: 10ex;\n",
       "}\n",
       "\n",
       "\n",
       "\n",
       "div.input_area {\n",
       "    border: 0px;\n",
       "    margin-bottom: 0;\n",
       "}\n",
       "\n",
       "div.out_prompt_overlay.prompt {\n",
       "    width: 1em;\n",
       "    border: 0px;\n",
       "}\n",
       "\n",
       "div.out_prompt_overlay.prompt:hover {\n",
       "    border: 0px;\n",
       "    background-color: #f92672;\n",
       "    box-shadow: none;\n",
       "    -webkit-border-radius: 0;\n",
       "    -moz-border-radius: 0;\n",
       "    border-radius: 0;\n",
       "    opacity:0.2;\n",
       "}\n",
       "\n",
       "div.output_subarea.output_text.output_stream.output_stdout,div.output_subarea.output_text {\n",
       "    margin-left: 0em;\n",
       "    padding-top: 1em;\n",
       "    padding-bottom: 0.5em;\n",
       "    margin-top: 8px; /*This is for getting the box-shadow property of the parent to display properly;*/\n",
       "}\n",
       "\n",
       "div.output_wrapper {\n",
       "    background-color: #FFFFFF;\n",
       "    margin-bottom: 2em;\n",
       "    margin-top: 0;\n",
       "}\n",
       "\n",
       "div.output.vbox {\n",
       "    box-shadow:inset 0 0 8px #4d4d4d;   /* Check the output prompt settings when changing this*/\n",
       "}\n",
       "\n",
       "/* list style */\n",
       "\n",
       "div#header {\n",
       "    background-color:        #000;\n",
       "    color: #f92672;\n",
       "    background-image: url(\"files/Header.png\");\n",
       "    background-repeat:no-repeat;\n",
       "    background-position: center center;\n",
       "    height: 3em;\n",
       "    border: 0px;\n",
       "}\n",
       "\n",
       "</style>"
      ],
      "text/plain": [
       "<IPython.core.display.HTML object>"
      ]
     },
     "execution_count": 2,
     "metadata": {},
     "output_type": "execute_result"
    }
   ],
   "source": [
    "from IPython.core.display import HTML\n",
    "import os\n",
    "def css_styling():\n",
    "    \"\"\"Load default custom.css file from ipython profile\"\"\"\n",
    "    base = os.getcwd()\n",
    "    styles = \"<style>\\n%s\\n</style>\" % (open(os.path.join(base,'files/custom.css'),'r').read())\n",
    "    return HTML(styles)\n",
    "css_styling()"
   ]
  },
  {
   "cell_type": "markdown",
   "metadata": {},
   "source": [
    "#Un poco de estadística"
   ]
  },
  {
   "cell_type": "code",
   "execution_count": 9,
   "metadata": {
    "collapsed": true
   },
   "outputs": [],
   "source": [
    "import numpy as np\n",
    "import matplotlib.pyplot as plt\n",
    "%matplotlib inline"
   ]
  },
  {
   "cell_type": "markdown",
   "metadata": {},
   "source": [
    "Hacemos dos listas, la primera contendrá las edades de los chavos de clubes de ciencia y la segusda el número de personas que tienen dicha edad"
   ]
  },
  {
   "cell_type": "code",
   "execution_count": 33,
   "metadata": {
    "collapsed": false
   },
   "outputs": [
    {
     "name": "stdout",
     "output_type": "stream",
     "text": [
      "160\n"
     ]
    },
    {
     "data": {
      "image/png": "[encoded data removed]",
      "text/plain": [
       "<matplotlib.figure.Figure at 0xafdd326c>"
      ]
     },
     "metadata": {},
     "output_type": "display_data"
    }
   ],
   "source": [
    "Edades = np.array([15, 16, 17, 18, 19, 20, 21, 22, 23, 24])\n",
    "Frecuencia = np.array([10, 22, 39, 32, 26, 10, 7, 5, 8, 1])\n",
    "print sum(Frecuencia)\n",
    "plt.bar(Edades, Frecuencia)\n",
    "plt.show()"
   ]
  },
  {
   "cell_type": "markdown",
   "metadata": {},
   "source": [
    "##Distribución uniforme\n",
    "Lotería mexicana\n",
    "![](https://img1.etsystatic.com/036/1/8048697/il_570xN.629571783_s192.jpg)"
   ]
  },
  {
   "cell_type": "code",
   "execution_count": 35,
   "metadata": {
    "collapsed": false
   },
   "outputs": [
    {
     "data": {
      "image/png": "[encoded data removed]",
      "text/plain": [
       "<matplotlib.figure.Figure at 0xafb5f58c>"
      ]
     },
     "metadata": {},
     "output_type": "display_data"
    }
   ],
   "source": [
    "x1=np.random.rand(50)\n",
    "plt.hist(x1)\n",
    "plt.show()"
   ]
  },
  {
   "cell_type": "markdown",
   "metadata": {},
   "source": [
    "##Distribución de Poisson\n",
    "Número de solicitudes de amistad en facebook en una semana\n",
    "\n",
    "![](http://practicopedia.lainformacion.com/files/portada_facebook01_476.gif)"
   ]
  },
  {
   "cell_type": "code",
   "execution_count": 49,
   "metadata": {
    "collapsed": false
   },
   "outputs": [
    {
     "data": {
      "image/png": "[encoded data removed]",
      "text/plain": [
       "<matplotlib.figure.Figure at 0xafd886ec>"
      ]
     },
     "metadata": {},
     "output_type": "display_data"
    }
   ],
   "source": [
    "s = np.random.poisson(5,20)\n",
    "plt.hist(s)\n",
    "plt.show()"
   ]
  },
  {
   "cell_type": "markdown",
   "metadata": {},
   "source": [
    "##Distribución normal\n",
    "Distribución de calificaciones en un exámen\n",
    "\n",
    "![](http://www.sopitas.com/site/155097-calificaciones-estilo-gringo-en-las-boletas-escolares-de-mexico/bart-simson_reprobado/)\n",
    "\n",
    "![](http://3.bp.blogspot.com/-ASz0EaorF6s/TZ8-IWsVjEI/AAAAAAAAADw/U9iZtVfamlI/s1600/examenes1.jpg)\n"
   ]
  },
  {
   "cell_type": "code",
   "execution_count": 34,
   "metadata": {
    "collapsed": false
   },
   "outputs": [
    {
     "data": {
      "image/png": "[encoded data removed]",
      "text/plain": [
       "<matplotlib.figure.Figure at 0xafc7684c>"
      ]
     },
     "metadata": {},
     "output_type": "display_data"
    }
   ],
   "source": [
    "x=np.random.randn(50)\n",
    "plt.hist(x)\n",
    "plt.show()"
   ]
  },
  {
   "cell_type": "code",
   "execution_count": 36,
   "metadata": {
    "collapsed": false
   },
   "outputs": [
    {
     "data": {
      "image/png": "[encoded data removed]",
      "text/plain": [
       "<matplotlib.figure.Figure at 0xafc2f84c>"
      ]
     },
     "metadata": {},
     "output_type": "display_data"
    }
   ],
   "source": [
    "x=np.random.randn(100)\n",
    "plt.hist(x)\n",
    "plt.show()"
   ]
  },
  {
   "cell_type": "code",
   "execution_count": 37,
   "metadata": {
    "collapsed": false
   },
   "outputs": [
    {
     "data": {
      "image/png": "[encoded data removed]",
      "text/plain": [
       "<matplotlib.figure.Figure at 0xafd9124c>"
      ]
     },
     "metadata": {},
     "output_type": "display_data"
    }
   ],
   "source": [
    "x=np.random.randn(200)\n",
    "plt.hist(x)\n",
    "plt.show()"
   ]
  },
  {
   "cell_type": "markdown",
   "metadata": {},
   "source": [
    "Una forma de automatizar esto es:"
   ]
  },
  {
   "cell_type": "code",
   "execution_count": 38,
   "metadata": {
    "collapsed": false
   },
   "outputs": [
    {
     "data": {
      "image/png": "[encoded data removed]",
      "text/plain": [
       "<matplotlib.figure.Figure at 0xafaec82c>"
      ]
     },
     "metadata": {},
     "output_type": "display_data"
    },
    {
     "data": {
      "image/png": "[encoded data removed]",
      "text/plain": [
       "<matplotlib.figure.Figure at 0xafbe676c>"
      ]
     },
     "metadata": {},
     "output_type": "display_data"
    },
    {
     "data": {
      "image/png": "[encoded data removed]",
      "text/plain": [
       "<matplotlib.figure.Figure at 0xb4aaf12c>"
      ]
     },
     "metadata": {},
     "output_type": "display_data"
    },
    {
     "data": {
      "image/png": "[encoded data removed]",
      "text/plain": [
       "<matplotlib.figure.Figure at 0xb4aaf0ac>"
      ]
     },
     "metadata": {},
     "output_type": "display_data"
    },
    {
     "data": {
      "image/png": "[encoded data removed]",
      "text/plain": [
       "<matplotlib.figure.Figure at 0xb64a66cc>"
      ]
     },
     "metadata": {},
     "output_type": "display_data"
    },
    {
     "data": {
      "image/png": "[encoded data removed]",
      "text/plain": [
       "<matplotlib.figure.Figure at 0xafe78f4c>"
      ]
     },
     "metadata": {},
     "output_type": "display_data"
    },
    {
     "data": {
      "image/png": "[encoded data removed]",
      "text/plain": [
       "<matplotlib.figure.Figure at 0xafb4ffec>"
      ]
     },
     "metadata": {},
     "output_type": "display_data"
    }
   ],
   "source": [
    "tams = [1,2,3,4,5,6,7]\n",
    "\n",
    "for tam in tams:\n",
    "    numeros = np.random.randn(10**tam)\n",
    "    plt.hist(numeros,bins=20 )\n",
    "    plt.title('%d' %tam)\n",
    "    plt.show()"
   ]
  },
  {
   "cell_type": "code",
   "execution_count": null,
   "metadata": {
    "collapsed": true
   },
   "outputs": [],
   "source": [
    "numeros = np.random.normal(loc=2.0,scale=2.0,size=1000)\n",
    "plt.hist(numeros)\n",
    "plt.show()"
   ]
  },
  {
   "cell_type": "markdown",
   "metadata": {},
   "source": [
    "Probabilidad en una distribución normal\n",
    "![](http://blogs.scientificamerican.com/observations/files/2012/07/400px-Standard_deviation_diagram.svg_.png)\n",
    "\n",
    "$1 \\sigma$ = 68.26%\n",
    "\n",
    "$2 \\sigma$ = 95.44%\n",
    "\n",
    "$3 \\sigma$ = 99.74%\n",
    "\n",
    "$4 \\sigma$ = 99.995%\n",
    "\n",
    "$5 \\sigma$ = 99.99995%"
   ]
  },
  {
   "cell_type": "markdown",
   "metadata": {},
   "source": [
    "## Actividades\n",
    "\n",
    "Grafica lo siguiente:\n",
    "\n",
    "* Crear 3 distribuciones variando mean\n",
    "* Crear 3 distribuciones variando std\n",
    "* Crear 2 distribuciones con cierto sobrelape\n"
   ]
  },
  {
   "cell_type": "markdown",
   "metadata": {},
   "source": [
    "## Campanas gaussianas en la Naturaleza\n",
    "\n",
    "Examenes de salidad en prepas en Polonia:\n",
    "![](http://imgur.com/4nnbyru)"
   ]
  },
  {
   "cell_type": "markdown",
   "metadata": {},
   "source": [
    "## Distribución normal en 2D"
   ]
  },
  {
   "cell_type": "code",
   "execution_count": 43,
   "metadata": {
    "collapsed": false
   },
   "outputs": [
    {
     "data": {
      "image/png": "[encoded data removed]",
      "text/plain": [
       "<matplotlib.figure.Figure at 0xafbc3b8c>"
      ]
     },
     "metadata": {},
     "output_type": "display_data"
    }
   ],
   "source": [
    "x = np.random.normal(loc=2.0,scale=2.0,size=100)\n",
    "y = np.random.normal(loc=2.0,scale=2.0,size=100)\n",
    "plt.scatter(x,y)\n",
    "plt.show()"
   ]
  },
  {
   "cell_type": "markdown",
   "metadata": {
    "collapsed": true
   },
   "source": [
    "## Actividades\n",
    "\n",
    "* Crear 3 distribuciones variando mean\n",
    "* Crear 3 distribuciones variando std\n",
    "* Crear 2 distribuciones con cierto sobrelape\n"
   ]
  },
  {
   "cell_type": "code",
   "execution_count": null,
   "metadata": {
    "collapsed": true
   },
   "outputs": [],
   "source": []
  }
 ],
 "metadata": {
  "kernelspec": {
   "display_name": "Python 2",
   "language": "python",
   "name": "python2"
  },
  "language_info": {
   "codemirror_mode": {
    "name": "ipython",
    "version": 2
   },
   "file_extension": ".py",
   "mimetype": "text/x-python",
   "name": "python",
   "nbconvert_exporter": "python",
   "pygments_lexer": "ipython2",
   "version": "2.7.9"
  }
 },
 "nbformat": 4,
 "nbformat_minor": 0
}
