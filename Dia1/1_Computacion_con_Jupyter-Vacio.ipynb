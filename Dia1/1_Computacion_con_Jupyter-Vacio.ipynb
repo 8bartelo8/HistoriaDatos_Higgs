{
 "cells": [
  {
   "cell_type": "markdown",
   "metadata": {},
   "source": [
    "# 1 Introduccion a IPython notebooks/ Jupyter\n",
    "\n",
    "\n",
    "![ipython logo](http://ipython.org/_static/IPy_header.png)\n",
    "![jupyter logo](https://jupyter.org/assets/main-logo.svg)\n",
    "![python logo](https://www.python.org/static/community_logos/python-logo-generic.svg)\n",
    "\n",
    "## Que es exactamente?\n",
    "Una libreta IPython/Jupyter es un ambiente interactivo para escribir y correr codigo de python. Es un **historial completo y auto-contenido de un calculo** y puede ser convertido a otros formatos para compartir con otros.\n",
    "\n",
    "En particular es batante popular en la comunidad cientifica porque es una herramienta interactiva, iterativa para analisis de datos, visualizacion y contar historias.\n",
    "\n",
    "\n",
    "Puedes combinar:\n",
    "- Codigo en vivo\n",
    "- Widgets Interactivos\n",
    "- Graficas\n",
    "- Texto Narrrativo\n",
    "- Ecuaciones\n",
    "- Imagenes\n",
    "- Video\n",
    "\n",
    " \n",
    "## Un poco mas...\n",
    "\n",
    "El projecto Ipython reciente se expandio en la versio 3.0 para incluir otros kerneles de computo como R, Julia, C++ y Matlab.\n",
    "Para mas informacion/ideas checa los links abajo de este Ipython Notebook.\n"
   ]
  },
  {
   "cell_type": "markdown",
   "metadata": {},
   "source": [
    "## Vamos a empezar!\n",
    "### Corriendo codigo\n",
    "\n",
    "Notas: Presionar shift + enter"
   ]
  },
  {
   "cell_type": "markdown",
   "metadata": {},
   "source": [
    "Corre tu codido usando `Shift-Enter` o presionando el boton <button class='btn btn-default btn-xs'><i class=\"icon-play fa fa-play\"></i></button> en la barra de herramientas arriba."
   ]
  },
  {
   "cell_type": "code",
   "execution_count": null,
   "metadata": {
    "collapsed": false
   },
   "outputs": [],
   "source": [
    "print(  3*3 )"
   ]
  },
  {
   "cell_type": "markdown",
   "metadata": {},
   "source": [
    "### Computo Iterativo\n",
    "El \"kernel\" mantiene un estado de todos los calculos del la libreta.\n",
    "\n",
    "Por ejemplo puedes guardar el resultado de un calculo en una variable \n"
   ]
  },
  {
   "cell_type": "code",
   "execution_count": null,
   "metadata": {
    "collapsed": false
   },
   "outputs": [],
   "source": [
    "usuario = 32\n",
    "x = 1000"
   ]
  },
  {
   "cell_type": "markdown",
   "metadata": {},
   "source": [
    "y usarlo en otra celda"
   ]
  },
  {
   "cell_type": "code",
   "execution_count": null,
   "metadata": {
    "collapsed": false
   },
   "outputs": [],
   "source": [
    "usuario + x"
   ]
  },
  {
   "cell_type": "markdown",
   "metadata": {},
   "source": [
    "### Parar codigo\n",
    "El codigo se corre en un proceso separado llamado el\"kernel:\". Este puede ser interumpido o reseteado.\n",
    "Trata de correr el siguiente codigo y dale al boton <button class='btn btn-default btn-xs'><i class='icon-stop fa fa-stop'></i></button>."
   ]
  },
  {
   "cell_type": "code",
   "execution_count": null,
   "metadata": {
    "collapsed": false
   },
   "outputs": [],
   "source": [
    "import time\n",
    "time.sleep(1000)"
   ]
  },
  {
   "cell_type": "markdown",
   "metadata": {},
   "source": [
    "### Resetear\n",
    "\n",
    "Puedes resetear usando el boton <button class='btn btn-default btn-xs'><i class='fa fa-repeat icon-repeat'></i></button>."
   ]
  },
  {
   "cell_type": "markdown",
   "metadata": {},
   "source": [
    "## Python Basico\n",
    "### Lists and Arrays (Listas y arreglos)"
   ]
  },
  {
   "cell_type": "code",
   "execution_count": null,
   "metadata": {
    "collapsed": false
   },
   "outputs": [],
   "source": [
    "lista = ['perro' ,'delfin','perezoso','leon','gato']\n",
    "lista2 = [3,8,10,3]\n",
    "print(lista)"
   ]
  },
  {
   "cell_type": "markdown",
   "metadata": {},
   "source": [
    "podemos agregar elementos"
   ]
  },
  {
   "cell_type": "code",
   "execution_count": null,
   "metadata": {
    "collapsed": false
   },
   "outputs": [],
   "source": [
    "lista[1]"
   ]
  },
  {
   "cell_type": "markdown",
   "metadata": {},
   "source": [
    "o podemos usar el modulo Numpy para arreglos numericos (Protip: quieres saber mas? dale click a la imagen)\n",
    "\n",
    "[![](http://upload.wikimedia.org/wikipedia/en/1/1b/NumPy_logo.png)](http://www.numpy.org/)"
   ]
  },
  {
   "cell_type": "code",
   "execution_count": null,
   "metadata": {
    "collapsed": false
   },
   "outputs": [],
   "source": [
    "import numpy as np\n",
    "\n",
    "array_1 = np.array([3,4,5]) \n",
    "array_2 = np.array([4,8,7]) \n",
    "array_1 + array_2"
   ]
  },
  {
   "cell_type": "markdown",
   "metadata": {},
   "source": [
    "y que tal arreglos vacios? Aqui creamos un vector de 5 x 1 "
   ]
  },
  {
   "cell_type": "code",
   "execution_count": null,
   "metadata": {
    "collapsed": false
   },
   "outputs": [],
   "source": [
    "array_1 = np.zeros(17304)\n",
    "print(array_1)"
   ]
  },
  {
   "cell_type": "markdown",
   "metadata": {},
   "source": [
    "podemos cambiar valores usando  \\[ indice \\]:"
   ]
  },
  {
   "cell_type": "code",
   "execution_count": null,
   "metadata": {
    "collapsed": false
   },
   "outputs": [],
   "source": [
    "array_1[1100]"
   ]
  },
  {
   "cell_type": "markdown",
   "metadata": {},
   "source": [
    "y que tal arreglos de numeros aleatorios?"
   ]
  },
  {
   "cell_type": "code",
   "execution_count": null,
   "metadata": {
    "collapsed": false
   },
   "outputs": [],
   "source": []
  },
  {
   "cell_type": "markdown",
   "metadata": {},
   "source": [
    "#### Utilidades de Array\n",
    "Tenemos muchas utilidades para trabajar con arreglos...\n",
    "\n",
    "* **Sortear valores:** entoces usamos **np.sort(array)**\n",
    "* **Encontrar Maximo, Minimo:** entoces usamos **np.min(array)**, **np.max(array)**\n",
    "* **Encontrar el indices del Maximo o Minimo:** entoces usamos **np.argmin(array)**, **np.argmax(array)**\n",
    "* **Calcular medias o desviaciones estandar :** usamos **np.mean(array)**,**np.std(array)**"
   ]
  },
  {
   "cell_type": "code",
   "execution_count": null,
   "metadata": {
    "collapsed": false
   },
   "outputs": [],
   "source": [
    "arreglo = np.random.randint(1,10,500000)\n",
    "np.mean(arreglo)"
   ]
  },
  {
   "cell_type": "code",
   "execution_count": null,
   "metadata": {
    "collapsed": true
   },
   "outputs": [],
   "source": []
  },
  {
   "cell_type": "code",
   "execution_count": null,
   "metadata": {
    "collapsed": true
   },
   "outputs": [],
   "source": []
  },
  {
   "cell_type": "markdown",
   "metadata": {},
   "source": [
    "### For loops (Ciclos For)\n",
    "\n",
    "Un for loop va sobre cada elemento del ciclo, **Ojo! nota el espaciamiento/indentacion** justo despues del for!"
   ]
  },
  {
   "cell_type": "code",
   "execution_count": null,
   "metadata": {
    "collapsed": false
   },
   "outputs": [],
   "source": [
    "lista = ['perro' ,'delfin','perezoso','leon','gato']\n",
    "\n",
    "for domesticos in lista:\n",
    "    print(domesticos)\n",
    "    print(\"Otro animal:\")"
   ]
  },
  {
   "cell_type": "markdown",
   "metadata": {},
   "source": [
    "### Doble!"
   ]
  },
  {
   "cell_type": "code",
   "execution_count": null,
   "metadata": {
    "collapsed": false
   },
   "outputs": [],
   "source": [
    "lista = ['perro' ,'delfin','perezoso','leon','gato']\n",
    "\n",
    "for domesticos in lista:\n",
    "    for animal in lista:\n",
    "        print(domesticos,animal)\n",
    "        print(\" nada\")\n",
    "        "
   ]
  },
  {
   "cell_type": "markdown",
   "metadata": {},
   "source": [
    "un loop pero enumerado, te rergresa un indice y un elemento"
   ]
  },
  {
   "cell_type": "code",
   "execution_count": null,
   "metadata": {
    "collapsed": false
   },
   "outputs": [],
   "source": [
    "arreglo = np.random.randint(1,10,5000)\n",
    "\n",
    "for indice,animal in enumerate(arreglo):\n",
    "    print(indice,animal)\n",
    "print(\"fin\")"
   ]
  },
  {
   "cell_type": "markdown",
   "metadata": {},
   "source": [
    "### Y si quieres un elemento aleatorio de la lista?\n",
    "\n",
    "El modulo random al rescate, corre varias veces la celda y checa si son aleatorios\n"
   ]
  },
  {
   "cell_type": "code",
   "execution_count": null,
   "metadata": {
    "collapsed": false
   },
   "outputs": [],
   "source": []
  },
  {
   "cell_type": "code",
   "execution_count": null,
   "metadata": {
    "collapsed": false
   },
   "outputs": [],
   "source": []
  },
  {
   "cell_type": "markdown",
   "metadata": {},
   "source": [
    "### **Que tal funciones?**"
   ]
  },
  {
   "cell_type": "code",
   "execution_count": null,
   "metadata": {
    "collapsed": false
   },
   "outputs": [],
   "source": [
    "def tienda(animalito):\n",
    "    print(\"barato baratoooo\")\n",
    "    print(animalito)\n",
    "    return"
   ]
  },
  {
   "cell_type": "code",
   "execution_count": null,
   "metadata": {
    "collapsed": false
   },
   "outputs": [],
   "source": [
    "for animal in lista:\n",
    "    tienda(animal)"
   ]
  },
  {
   "cell_type": "markdown",
   "metadata": {},
   "source": [
    "# Actividad 1 : Ejercicios de Programacion\n",
    "\n",
    "## Meta: Obtener confianza con Python.\n",
    "\n",
    "### 1.a) Usa un ciclo-for e imprime tus platillos bolivianos favoritos\n",
    "\n"
   ]
  },
  {
   "cell_type": "code",
   "execution_count": null,
   "metadata": {
    "collapsed": false
   },
   "outputs": [],
   "source": [
    "lista = ['mAJAdITO','picopas de pollo','quemacho','trancapechos']\n",
    "for i in lista:\n",
    "    print(i)"
   ]
  },
  {
   "cell_type": "markdown",
   "metadata": {},
   "source": [
    "### 1.b) Crea un arreglo de numeros aleatorios de tamano $n$"
   ]
  },
  {
   "cell_type": "code",
   "execution_count": null,
   "metadata": {
    "collapsed": false
   },
   "outputs": [],
   "source": [
    "n =20\n",
    "arreglo = np.random.randint(1,10,n)\n",
    "print(arreglo)"
   ]
  },
  {
   "cell_type": "markdown",
   "metadata": {},
   "source": [
    "### 1.c) Encapsula la funcion pasada en una funcion"
   ]
  },
  {
   "cell_type": "code",
   "execution_count": null,
   "metadata": {
    "collapsed": false
   },
   "outputs": [],
   "source": [
    "def mifuncion(n):\n",
    "    arreglo = np.random.randint(1,10,n)\n",
    "    return arreglo\n",
    "\n",
    "mifuncion(66)"
   ]
  },
  {
   "cell_type": "markdown",
   "metadata": {},
   "source": [
    "### 1.d)  Grafica un histograma de numeros aleatorios con $n=10,50,100,1k,10k$\n",
    "\n",
    "Para graficar histogramas usa **plt.hist()**."
   ]
  },
  {
   "cell_type": "code",
   "execution_count": 4,
   "metadata": {
    "collapsed": false
   },
   "outputs": [
    {
     "data": {
      "text/plain": [
       "(array([ 2.,  0.,  0.,  2.,  0.,  1.,  0.,  0.,  4.,  1.]),\n",
       " array([ 3. ,  3.6,  4.2,  4.8,  5.4,  6. ,  6.6,  7.2,  7.8,  8.4,  9. ]),\n",
       " <a list of 10 Patch objects>)"
      ]
     },
     "execution_count": 4,
     "metadata": {},
     "output_type": "execute_result"
    },
    {
     "data": {
      "image/png": "[encoded data removed]",
      "text/plain": [
       "<matplotlib.figure.Figure at 0x10881bcf8>"
      ]
     },
     "metadata": {},
     "output_type": "display_data"
    }
   ],
   "source": [
    "import matplotlib.pyplot as plt\n",
    "import numpy as np\n",
    "%matplotlib inline\n",
    "\n",
    "a = np.random.randint(1,10,10)\n",
    "plt.hist(a)"
   ]
  },
  {
   "cell_type": "markdown",
   "metadata": {},
   "source": [
    "# Extra: Sumatoria de ondas\n",
    "\n",
    "![](https://upload.wikimedia.org/wikipedia/commons/b/bc/Fourier_series_for_square_wave.gif)\n",
    "\n",
    "Aproximaremos la siguiente onda cuadrada:\n",
    "$$\n",
    "f(x) = \\sum^{\\infty}_{n=1} \\frac{ sin(2 \\pi (2n-1) x)}{2n -1}\n",
    "$$\n",
    "via la formula:\n",
    "\n",
    "$$\n",
    "f(x) = \\sum^{N}_{n=1} \\frac{ sin(2 \\pi (2n-1) x)}{2n -1}\n",
    "$$\n",
    "Pasos:\n",
    "\n",
    "1. Crear una onda sinosoidal y graficarla $sin(2 \\pi  x)$\n",
    "2. Crear una onda sumada de cuatro ondas sinosoidal (n=1,2,3,4) y graficarla.\n",
    "3. Lo mismo pero utilizando un ciclo para un numero arbitraio $n$\n",
    "4. Crear una funcion que para un numero $n$ crea una aproximacion a la onda cuadrada.\n",
    "5. Graficar para $n=4,8,12,16,50$\n"
   ]
  },
  {
   "cell_type": "code",
   "execution_count": null,
   "metadata": {
    "collapsed": true
   },
   "outputs": [],
   "source": []
  },
  {
   "cell_type": "code",
   "execution_count": null,
   "metadata": {
    "collapsed": true
   },
   "outputs": [],
   "source": []
  },
  {
   "cell_type": "code",
   "execution_count": null,
   "metadata": {
    "collapsed": true
   },
   "outputs": [],
   "source": []
  },
  {
   "cell_type": "markdown",
   "metadata": {},
   "source": [
    "## Extra: Mas cosas para darle sabor\n",
    "### Celdas de Texto: Latex & Markdown\n",
    "Celdas se crean por default como celdas de codigo, pero se pueden cambiar.\n",
    "Cell are by default created as code cells, can be but can be easily changed to text cells by cliking on the toolbar.\n",
    "    ![text cell](files/TextCell.png)\n",
    "\n",
    "In text cells you can embed narrative text using [Markdown](https://guides.github.com/features/mastering-markdown/), HTML code and LaTeX equations with inline dollar signs \\$ *insert equation* \\$ and new line as \\$\\$ *insert equation* \\$\\$.\n",
    "\n",
    "For example: $$H\\psi = E\\psi$$\n",
    "\n",
    "The code for this cell is:\n",
    "```markdown\n",
    "### Text Cells: Latex & Markdown\n",
    "Cell are by default created as code cells, can be but can be easily changed to text cells by cliking on the toolbar.\n",
    "    ![text cell](TextCell.png)\n",
    "\n",
    "In text cells you can embed narrative text using [Markdown](https://guides.github.com/features/mastering-markdown/), HTML code and LaTeX equations with inline dollar signs \\$ *insert equation* \\$ and new line as \\$\\$ *insert equation* \\$\\$.\n",
    "\n",
    "For example: $$H\\psi = E\\psi$$\n",
    "```\n"
   ]
  },
  {
   "cell_type": "markdown",
   "metadata": {},
   "source": [
    "### Images\n",
    "We can work with images (JPEG, PNG) and SVG via the `Image` and `SVG` class."
   ]
  },
  {
   "cell_type": "code",
   "execution_count": null,
   "metadata": {
    "collapsed": false
   },
   "outputs": [],
   "source": [
    "from IPython.display import Image\n",
    "Image(filename='files/large-hadron-collider.jpg')"
   ]
  },
  {
   "cell_type": "markdown",
   "metadata": {},
   "source": [
    "### Videos?\n"
   ]
  },
  {
   "cell_type": "code",
   "execution_count": null,
   "metadata": {
    "collapsed": false
   },
   "outputs": [],
   "source": [
    "from IPython.display import YouTubeVideo\n",
    "#https://www.youtube.com/watch?v=_6uKZWnJLCM\n",
    "YouTubeVideo('_6uKZWnJLCM')"
   ]
  },
  {
   "cell_type": "markdown",
   "metadata": {},
   "source": [
    "### External Websites, HTML?"
   ]
  },
  {
   "cell_type": "code",
   "execution_count": null,
   "metadata": {
    "collapsed": false
   },
   "outputs": [],
   "source": [
    "from IPython.display import HTML\n",
    "HTML('<iframe src=http://ipython.org/ width=700 height=350></iframe>')"
   ]
  },
  {
   "cell_type": "markdown",
   "metadata": {},
   "source": [
    "## Extra: Por si quieres leer mas\n"
   ]
  },
  {
   "cell_type": "markdown",
   "metadata": {},
   "source": [
    "### Installing Ipython on your computer:\n",
    "* http://nbviewer.ipython.org/github/demotu/BMC/blob/master/notebooks/PythonInstallation.ipynb\n",
    " \n",
    "### Squeezing all the juice from Ipython\n",
    "* https://github.com/odewahn/ipynb-examples\n",
    "* Ipython minibook: https://github.com/rossant/ipython-minibook http://nbviewer.ipython.org/github/barbagroup/AeroPython/blob/master/lessons/00_Lesson00_QuickPythonIntro.ipynb\n",
    " \n",
    "### Scientific computing con Python:\n",
    "* http://nbviewer.ipython.org/github/demotu/BMC/blob/master/notebooks/PythonForScientificComputing.ipynb\n",
    "* http://nbviewer.ipython.org/github/jrjohansson/scientific-python-lectures/blob/master/Lecture-1-Introduction-to-Python-Programming.ipynb\n",
    "\n",
    "### A gallery of interesting IPython Notebooks\n",
    "* https://github.com/ipython/ipython/wiki/A-gallery-of-interesting-IPython-Notebooks#introductory-tutorials\n",
    "\n",
    "### Kernels\n",
    "* Python(https://github.com/ipython/ipython)\n",
    "* Julia (https://github.com/JuliaLang/IJulia.jl)\n",
    "* R (https://github.com/takluyver/IRkernel)\n",
    "* Ruby (https://github.com/minrk/iruby)\n",
    "* Haskell (https://github.com/gibiansky/IHaskell)\n",
    "* Scala (https://github.com/Bridgewater/scala-notebook)\n",
    "* node.js (https://gist.github.com/Carreau/4279371)\n",
    "* Go (https://github.com/takluyver/igo)\n"
   ]
  }
 ],
 "metadata": {
  "kernelspec": {
   "display_name": "Python 3",
   "language": "python",
   "name": "python3"
  },
  "language_info": {
   "codemirror_mode": {
    "name": "ipython",
    "version": 3
   },
   "file_extension": ".py",
   "mimetype": "text/x-python",
   "name": "python",
   "nbconvert_exporter": "python",
   "pygments_lexer": "ipython3",
   "version": "3.5.1"
  },
  "latex_envs": {
   "bibliofile": "biblio.bib",
   "cite_by": "apalike",
   "current_citInitial": 1,
   "eqLabelWithNumbers": true,
   "eqNumInitial": 0
  }
 },
 "nbformat": 4,
 "nbformat_minor": 0
}
