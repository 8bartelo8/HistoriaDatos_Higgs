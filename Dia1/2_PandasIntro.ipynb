{
 "cells": [
  {
   "cell_type": "markdown",
   "metadata": {},
   "source": [
    "# Hola Pandas!\n",
    "\n",
    "## Pandas = Manejo de informacion facil!\n",
    "### Que es pandas?\n",
    "\n",
    "![alt text](http://pandas.pydata.org/_static/pandas_logo.png)\n",
    "\n",
    "Pandas es un libreria de alto rendimiento, facil de usar para manejar estructuras de datos y analizarlas.\n",
    "\n",
    "Checate mas en :\n",
    "\n",
    "* Pagina oficial : http://pandas.pydata.org/\n",
    "* Un tour de diez minutos con Pandas: http://vimeo.com/59324550\n",
    "\n",
    "Para usar pandas, solo tiene que importar el modulo ..tambien te conviene importar numpy y matplotlib..juega\n",
    "n muy bien con pandas"
   ]
  },
  {
   "cell_type": "code",
   "execution_count": 1,
   "metadata": {
    "collapsed": false
   },
   "outputs": [],
   "source": [
    "import pandas as pd\n",
    "import numpy as np # modulo de computo numerico\n",
    "import matplotlib.pyplot as plt # modulo de graficas\n",
    "# esta linea hace que las graficas salgan en el notebook\n",
    "%matplotlib inline"
   ]
  },
  {
   "cell_type": "markdown",
   "metadata": {},
   "source": [
    "### Y yo para que quiero eso? De que sirve pandas?\n",
    "\n",
    "Pandas te sirve si quieres:\n",
    "\n",
    "* Trabajar con datos de manera facil.\n",
    "* Explorar un conjunto de datos de manera rapida, enterder los datos que tienes.\n",
    "* Facilmente manipular informacion, por ejemplo sacar estadisticas.\n",
    "* Graficas patrones y distribuciones de datos.\n",
    "* Trabajar con Exceles, base de datos, sin tener que suar esas herramientas.\n",
    "\n",
    "Y mucho mas...\n",
    "\n",
    "\n",
    "### El DataFrame en Pandas\n",
    "\n",
    "Una estructura de datos en Pandas se llama un DataFrame, con el manejamos todos los datos y aplicamos tranformaciones.\n",
    "\n",
    "Asi creamos un DataFrame vacio:"
   ]
  },
  {
   "cell_type": "code",
   "execution_count": 12,
   "metadata": {
    "collapsed": false
   },
   "outputs": [],
   "source": [
    "df = pd.DataFrame()"
   ]
  },
  {
   "cell_type": "markdown",
   "metadata": {},
   "source": [
    "No nos sirve nada vacio, entonces agreguemos le informacion!\n",
    "### LLenando informacion con un Dataframe\n",
    "![](https://c1.staticflickr.com/1/4/5903269_4adb837fb8.jpg)\n",
    "#### Situacion:\n",
    "Suponte que eres un taquero y quieres hacer un dataframe de cuantos tacos vendes en una semana igual y para ver que tacos son mas populares y echarle mas ganas en ellos, \n",
    "#### Asumiremos:\n",
    "* Que vende tacos de Pastor, Tripa y Chorizo\n",
    "* Hay 7 dias en una semana de  Lunes a Domingo (obvio)\n",
    "* Crearemos el numero de tacos como numeros enteros aleatorios (np.random.randint)\n",
    "\n",
    "** Ojo! ** Si ponemos la variable de un dataframe al final de una celda no saldra una tabla con los datos, eah!"
   ]
  },
  {
   "cell_type": "code",
   "execution_count": 13,
   "metadata": {
    "collapsed": false
   },
   "outputs": [
    {
     "data": {
      "text/html": [
       "<div>\n",
       "<table border=\"1\" class=\"dataframe\">\n",
       "  <thead>\n",
       "    <tr style=\"text-align: right;\">\n",
       "      <th></th>\n",
       "      <th>Pastor</th>\n",
       "      <th>Tripas</th>\n",
       "      <th>Chorizo</th>\n",
       "    </tr>\n",
       "  </thead>\n",
       "  <tbody>\n",
       "    <tr>\n",
       "      <th>Lunes</th>\n",
       "      <td>95</td>\n",
       "      <td>87</td>\n",
       "      <td>40</td>\n",
       "    </tr>\n",
       "    <tr>\n",
       "      <th>Martes</th>\n",
       "      <td>45</td>\n",
       "      <td>67</td>\n",
       "      <td>86</td>\n",
       "    </tr>\n",
       "    <tr>\n",
       "      <th>Miercoles</th>\n",
       "      <td>47</td>\n",
       "      <td>43</td>\n",
       "      <td>29</td>\n",
       "    </tr>\n",
       "    <tr>\n",
       "      <th>Jueves</th>\n",
       "      <td>92</td>\n",
       "      <td>33</td>\n",
       "      <td>28</td>\n",
       "    </tr>\n",
       "    <tr>\n",
       "      <th>Viernes</th>\n",
       "      <td>66</td>\n",
       "      <td>21</td>\n",
       "      <td>60</td>\n",
       "    </tr>\n",
       "    <tr>\n",
       "      <th>Sabado</th>\n",
       "      <td>95</td>\n",
       "      <td>44</td>\n",
       "      <td>73</td>\n",
       "    </tr>\n",
       "    <tr>\n",
       "      <th>Domingo</th>\n",
       "      <td>43</td>\n",
       "      <td>74</td>\n",
       "      <td>69</td>\n",
       "    </tr>\n",
       "  </tbody>\n",
       "</table>\n",
       "</div>"
      ],
      "text/plain": [
       "           Pastor  Tripas  Chorizo\n",
       "Lunes          95      87       40\n",
       "Martes         45      67       86\n",
       "Miercoles      47      43       29\n",
       "Jueves         92      33       28\n",
       "Viernes        66      21       60\n",
       "Sabado         95      44       73\n",
       "Domingo        43      74       69"
      ]
     },
     "execution_count": 13,
     "metadata": {},
     "output_type": "execute_result"
    }
   ],
   "source": [
    "df['Pastor']=np.random.randint(100, size=7)\n",
    "df['Tripas']=np.random.randint(100, size=7)\n",
    "df['Chorizo']=np.random.randint(100, size=7)\n",
    "\n",
    "df.index=['Lunes','Martes','Miercoles','Jueves','Viernes','Sabado','Domingo']\n",
    "df"
   ]
  },
  {
   "cell_type": "markdown",
   "metadata": {},
   "source": [
    "### Jugando con el Dataframe!\n",
    "#### Estadisticas\n",
    "Ya con teniendo un dataframe podemos hacer muchas cosas, por ejemplo sacar estadisticas, de medias, desviaciones estandares, cuantos elementos:"
   ]
  },
  {
   "cell_type": "code",
   "execution_count": 6,
   "metadata": {
    "collapsed": false
   },
   "outputs": [
    {
     "data": {
      "text/html": [
       "<div>\n",
       "<table border=\"1\" class=\"dataframe\">\n",
       "  <thead>\n",
       "    <tr style=\"text-align: right;\">\n",
       "      <th></th>\n",
       "      <th>Pastor</th>\n",
       "      <th>Tripas</th>\n",
       "      <th>Chorizo</th>\n",
       "    </tr>\n",
       "  </thead>\n",
       "  <tbody>\n",
       "    <tr>\n",
       "      <th>count</th>\n",
       "      <td>7.000000</td>\n",
       "      <td>7.000000</td>\n",
       "      <td>7.000000</td>\n",
       "    </tr>\n",
       "    <tr>\n",
       "      <th>mean</th>\n",
       "      <td>67.714286</td>\n",
       "      <td>33.571429</td>\n",
       "      <td>45.000000</td>\n",
       "    </tr>\n",
       "    <tr>\n",
       "      <th>std</th>\n",
       "      <td>19.669895</td>\n",
       "      <td>29.045121</td>\n",
       "      <td>37.514442</td>\n",
       "    </tr>\n",
       "    <tr>\n",
       "      <th>min</th>\n",
       "      <td>35.000000</td>\n",
       "      <td>3.000000</td>\n",
       "      <td>4.000000</td>\n",
       "    </tr>\n",
       "    <tr>\n",
       "      <th>25%</th>\n",
       "      <td>60.500000</td>\n",
       "      <td>9.000000</td>\n",
       "      <td>8.500000</td>\n",
       "    </tr>\n",
       "    <tr>\n",
       "      <th>50%</th>\n",
       "      <td>68.000000</td>\n",
       "      <td>29.000000</td>\n",
       "      <td>52.000000</td>\n",
       "    </tr>\n",
       "    <tr>\n",
       "      <th>75%</th>\n",
       "      <td>77.000000</td>\n",
       "      <td>54.000000</td>\n",
       "      <td>74.500000</td>\n",
       "    </tr>\n",
       "    <tr>\n",
       "      <th>max</th>\n",
       "      <td>96.000000</td>\n",
       "      <td>77.000000</td>\n",
       "      <td>93.000000</td>\n",
       "    </tr>\n",
       "  </tbody>\n",
       "</table>\n",
       "</div>"
      ],
      "text/plain": [
       "          Pastor     Tripas    Chorizo\n",
       "count   7.000000   7.000000   7.000000\n",
       "mean   67.714286  33.571429  45.000000\n",
       "std    19.669895  29.045121  37.514442\n",
       "min    35.000000   3.000000   4.000000\n",
       "25%    60.500000   9.000000   8.500000\n",
       "50%    68.000000  29.000000  52.000000\n",
       "75%    77.000000  54.000000  74.500000\n",
       "max    96.000000  77.000000  93.000000"
      ]
     },
     "execution_count": 6,
     "metadata": {},
     "output_type": "execute_result"
    }
   ],
   "source": [
    "df.describe()"
   ]
  },
  {
   "cell_type": "markdown",
   "metadata": {},
   "source": [
    "pero talvez solo queramos estadisticas de Pastor, entonces seria:"
   ]
  },
  {
   "cell_type": "code",
   "execution_count": 7,
   "metadata": {
    "collapsed": false
   },
   "outputs": [
    {
     "data": {
      "text/plain": [
       "count     7.000000\n",
       "mean     45.000000\n",
       "std      37.514442\n",
       "min       4.000000\n",
       "25%       8.500000\n",
       "50%      52.000000\n",
       "75%      74.500000\n",
       "max      93.000000\n",
       "Name: Chorizo, dtype: float64"
      ]
     },
     "execution_count": 7,
     "metadata": {},
     "output_type": "execute_result"
    }
   ],
   "source": [
    "df['Chorizo'].describe()"
   ]
  },
  {
   "cell_type": "markdown",
   "metadata": {},
   "source": [
    "o talvez solo nos interese del Lunes:\n",
    "\n",
    "** Ojo! ** Tenemos que usar *.ix* para seleccionar un renglon"
   ]
  },
  {
   "cell_type": "code",
   "execution_count": 8,
   "metadata": {
    "collapsed": false
   },
   "outputs": [
    {
     "data": {
      "text/plain": [
       "Pastor     68\n",
       "Tripas     62\n",
       "Chorizo     4\n",
       "Name: Lunes, dtype: int64"
      ]
     },
     "execution_count": 8,
     "metadata": {},
     "output_type": "execute_result"
    }
   ],
   "source": [
    "df.ix['Lunes']"
   ]
  },
  {
   "cell_type": "markdown",
   "metadata": {},
   "source": [
    "#### Grafica de cajas 'Boxplot'\n",
    "\n",
    "Un boxplot nos da mucha informacion:\n",
    "* Cada caja esta centrada en la mediana\n",
    "* Tiene de alto la desviacion estandar entonces nos dice donde se encuentra el 60% de los datos.\n",
    "* Tiene los minimos y maximos de cada dato."
   ]
  },
  {
   "cell_type": "code",
   "execution_count": 9,
   "metadata": {
    "collapsed": false
   },
   "outputs": [
    {
     "name": "stderr",
     "output_type": "stream",
     "text": [
      "/usr/local/lib/python2.7/site-packages/ipykernel/__main__.py:1: FutureWarning: \n",
      "The default value for 'return_type' will change to 'axes' in a future release.\n",
      " To use the future behavior now, set return_type='axes'.\n",
      " To keep the previous behavior and silence this warning, set return_type='dict'.\n",
      "  if __name__ == '__main__':\n"
     ]
    },
    {
     "data": {
      "image/png": "[encoded data removed]",
      "text/plain": [
       "<matplotlib.figure.Figure at 0x108100b10>"
      ]
     },
     "metadata": {},
     "output_type": "display_data"
    }
   ],
   "source": [
    "df.boxplot()\n",
    "plt.title(\"Boxplot\")\n",
    "plt.show()"
   ]
  },
  {
   "cell_type": "markdown",
   "metadata": {},
   "source": [
    "#### Combinando columnas\n",
    "Que tal si queremos saber cuantos tacos vendimos en total?\n",
    "Pues solamente sumamos las columnas:"
   ]
  },
  {
   "cell_type": "code",
   "execution_count": 10,
   "metadata": {
    "collapsed": false
   },
   "outputs": [
    {
     "data": {
      "text/html": [
       "<div>\n",
       "<table border=\"1\" class=\"dataframe\">\n",
       "  <thead>\n",
       "    <tr style=\"text-align: right;\">\n",
       "      <th></th>\n",
       "      <th>Pastor</th>\n",
       "      <th>Tripas</th>\n",
       "      <th>Chorizo</th>\n",
       "      <th>Tacos Total</th>\n",
       "    </tr>\n",
       "  </thead>\n",
       "  <tbody>\n",
       "    <tr>\n",
       "      <th>Lunes</th>\n",
       "      <td>68</td>\n",
       "      <td>62</td>\n",
       "      <td>4</td>\n",
       "      <td>134</td>\n",
       "    </tr>\n",
       "    <tr>\n",
       "      <th>Martes</th>\n",
       "      <td>96</td>\n",
       "      <td>77</td>\n",
       "      <td>9</td>\n",
       "      <td>182</td>\n",
       "    </tr>\n",
       "    <tr>\n",
       "      <th>Miercoles</th>\n",
       "      <td>58</td>\n",
       "      <td>3</td>\n",
       "      <td>8</td>\n",
       "      <td>69</td>\n",
       "    </tr>\n",
       "    <tr>\n",
       "      <th>Jueves</th>\n",
       "      <td>35</td>\n",
       "      <td>46</td>\n",
       "      <td>52</td>\n",
       "      <td>133</td>\n",
       "    </tr>\n",
       "    <tr>\n",
       "      <th>Viernes</th>\n",
       "      <td>68</td>\n",
       "      <td>29</td>\n",
       "      <td>73</td>\n",
       "      <td>170</td>\n",
       "    </tr>\n",
       "    <tr>\n",
       "      <th>Sabado</th>\n",
       "      <td>63</td>\n",
       "      <td>4</td>\n",
       "      <td>93</td>\n",
       "      <td>160</td>\n",
       "    </tr>\n",
       "    <tr>\n",
       "      <th>Domingo</th>\n",
       "      <td>86</td>\n",
       "      <td>14</td>\n",
       "      <td>76</td>\n",
       "      <td>176</td>\n",
       "    </tr>\n",
       "  </tbody>\n",
       "</table>\n",
       "</div>"
      ],
      "text/plain": [
       "           Pastor  Tripas  Chorizo  Tacos Total\n",
       "Lunes          68      62        4          134\n",
       "Martes         96      77        9          182\n",
       "Miercoles      58       3        8           69\n",
       "Jueves         35      46       52          133\n",
       "Viernes        68      29       73          170\n",
       "Sabado         63       4       93          160\n",
       "Domingo        86      14       76          176"
      ]
     },
     "execution_count": 10,
     "metadata": {},
     "output_type": "execute_result"
    }
   ],
   "source": [
    "df['Tacos Total']=df['Pastor']+df['Tripas']+df['Chorizo']\n",
    "df"
   ]
  },
  {
   "cell_type": "markdown",
   "metadata": {},
   "source": [
    "#### Borrando columnas\n",
    "Aveces simplemente queremos reducir el numero de datos, entonces podemos usar el drop:"
   ]
  },
  {
   "cell_type": "code",
   "execution_count": 11,
   "metadata": {
    "collapsed": false
   },
   "outputs": [
    {
     "data": {
      "text/html": [
       "<div>\n",
       "<table border=\"1\" class=\"dataframe\">\n",
       "  <thead>\n",
       "    <tr style=\"text-align: right;\">\n",
       "      <th></th>\n",
       "      <th>Pastor</th>\n",
       "      <th>Tripas</th>\n",
       "      <th>Tacos Total</th>\n",
       "    </tr>\n",
       "  </thead>\n",
       "  <tbody>\n",
       "    <tr>\n",
       "      <th>Lunes</th>\n",
       "      <td>68</td>\n",
       "      <td>62</td>\n",
       "      <td>134</td>\n",
       "    </tr>\n",
       "    <tr>\n",
       "      <th>Martes</th>\n",
       "      <td>96</td>\n",
       "      <td>77</td>\n",
       "      <td>182</td>\n",
       "    </tr>\n",
       "    <tr>\n",
       "      <th>Miercoles</th>\n",
       "      <td>58</td>\n",
       "      <td>3</td>\n",
       "      <td>69</td>\n",
       "    </tr>\n",
       "    <tr>\n",
       "      <th>Jueves</th>\n",
       "      <td>35</td>\n",
       "      <td>46</td>\n",
       "      <td>133</td>\n",
       "    </tr>\n",
       "    <tr>\n",
       "      <th>Viernes</th>\n",
       "      <td>68</td>\n",
       "      <td>29</td>\n",
       "      <td>170</td>\n",
       "    </tr>\n",
       "    <tr>\n",
       "      <th>Sabado</th>\n",
       "      <td>63</td>\n",
       "      <td>4</td>\n",
       "      <td>160</td>\n",
       "    </tr>\n",
       "    <tr>\n",
       "      <th>Domingo</th>\n",
       "      <td>86</td>\n",
       "      <td>14</td>\n",
       "      <td>176</td>\n",
       "    </tr>\n",
       "  </tbody>\n",
       "</table>\n",
       "</div>"
      ],
      "text/plain": [
       "           Pastor  Tripas  Tacos Total\n",
       "Lunes          68      62          134\n",
       "Martes         96      77          182\n",
       "Miercoles      58       3           69\n",
       "Jueves         35      46          133\n",
       "Viernes        68      29          170\n",
       "Sabado         63       4          160\n",
       "Domingo        86      14          176"
      ]
     },
     "execution_count": 11,
     "metadata": {},
     "output_type": "execute_result"
    }
   ],
   "source": [
    "df=df.drop(\"Chorizo\",axis=1)\n",
    "df"
   ]
  },
  {
   "cell_type": "markdown",
   "metadata": {},
   "source": [
    "#### Exportando a otro formato\n",
    "\n",
    "Aveces queremos guardar nuestros datos (excel, csv, sql database, pickle, json) , por ejemplo a un excel:"
   ]
  },
  {
   "cell_type": "code",
   "execution_count": 19,
   "metadata": {
    "collapsed": false
   },
   "outputs": [],
   "source": [
    "df.to_csv(\"Tacos.csv\")"
   ]
  },
  {
   "cell_type": "markdown",
   "metadata": {},
   "source": [
    "#### Leyendo un DataFrame de otro formato\n",
    "\n",
    "O alrevez, queremos crear un dataframe apartir de un archivo:"
   ]
  },
  {
   "cell_type": "code",
   "execution_count": 20,
   "metadata": {
    "collapsed": false
   },
   "outputs": [],
   "source": [
    "df=pd.read_csv(\"Tacos.csv\")"
   ]
  },
  {
   "cell_type": "markdown",
   "metadata": {},
   "source": [
    "## Ejercicios:\n",
    "\n",
    "* Inventa un Dataframe de tu propio negocio, que quieres vender? Usa numeros aleatorios.\n",
    "* Saca estadisticas de cada columna.\n",
    "* Crea una nueva columna que toma en cuenta la otra informacion. (Promedio, etc..)"
   ]
  },
  {
   "cell_type": "code",
   "execution_count": 21,
   "metadata": {
    "collapsed": false
   },
   "outputs": [
    {
     "ename": "SyntaxError",
     "evalue": "invalid syntax (<ipython-input-21-e58d666df0d6>, line 1)",
     "output_type": "error",
     "traceback": [
      "\u001b[1;36m  File \u001b[1;32m\"<ipython-input-21-e58d666df0d6>\"\u001b[1;36m, line \u001b[1;32m1\u001b[0m\n\u001b[1;33m    blah blah blah\u001b[0m\n\u001b[1;37m            ^\u001b[0m\n\u001b[1;31mSyntaxError\u001b[0m\u001b[1;31m:\u001b[0m invalid syntax\n"
     ]
    }
   ],
   "source": []
  },
  {
   "cell_type": "code",
   "execution_count": null,
   "metadata": {
    "collapsed": true
   },
   "outputs": [],
   "source": []
  }
 ],
 "metadata": {
  "kernelspec": {
   "display_name": "Python 2",
   "language": "python",
   "name": "python2"
  },
  "language_info": {
   "codemirror_mode": {
    "name": "ipython",
    "version": 2
   },
   "file_extension": ".py",
   "mimetype": "text/x-python",
   "name": "python",
   "nbconvert_exporter": "python",
   "pygments_lexer": "ipython2",
   "version": "2.7.11"
  },
  "latex_envs": {
   "bibliofile": "biblio.bib",
   "cite_by": "apalike",
   "current_citInitial": 1,
   "eqLabelWithNumbers": true,
   "eqNumInitial": 0
  }
 },
 "nbformat": 4,
 "nbformat_minor": 0
}
