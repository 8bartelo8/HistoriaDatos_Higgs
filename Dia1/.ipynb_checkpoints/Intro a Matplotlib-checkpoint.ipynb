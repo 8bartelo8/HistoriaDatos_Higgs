{
 "cells": [
  {
   "cell_type": "markdown",
   "metadata": {},
   "source": [
    "# Intro a Matplotlib\n",
    "## Matplotlib = Libreria para graficas cosas matematicas\n",
    "### Que es Matplotlib?\n",
    "\n",
    "![alt text](http://matplotlib.org/_static/logo2.png)\n",
    "\n",
    "Matplotlin es un libreria para crear imagenes 2D de manera facil.\n",
    "\n",
    "Checate mas en :\n",
    "\n",
    "* Pagina oficial : http://matplotlib.org/\n",
    "* Galleria de ejemplo: http://matplotlib.org/gallery.html\n",
    "* Una libreria mas avanzada que usa matplotlib, Seaborn: http://stanford.edu/~mwaskom/software/seaborn/\n",
    "* Libreria de visualizacion interactiva: http://bokeh.pydata.org/\n",
    "* Buenisimo Tutorial: http://www.labri.fr/perso/nrougier/teaching/matplotlib/\n",
    "\n",
    "Para usar matplotlib, solo tiene que importar el modulo ..tambien te conviene importar numpy pues es muy util"
   ]
  },
  {
   "cell_type": "code",
   "execution_count": null,
   "metadata": {
    "collapsed": false
   },
   "outputs": [],
   "source": [
    "import numpy as np # modulo de computo numerico\n",
    "import matplotlib.pyplot as plt # modulo de graficas\n",
    "import pandas as pd # modulo de datos\n",
    "# esta linea hace que las graficas salgan en el notebook\n",
    "%matplotlib inline"
   ]
  },
  {
   "cell_type": "markdown",
   "metadata": {},
   "source": [
    "## Crear graficas (plot)\n",
    "\n",
    "Crear graficas es muy facil en matplotlib, si tienes una lista de valores X y otra y..solo basta usar :"
   ]
  },
  {
   "cell_type": "code",
   "execution_count": null,
   "metadata": {
    "collapsed": false
   },
   "outputs": [],
   "source": [
    "x = np.array([0,1,2,3,4])\n",
    "y = x**2 #cuadramos x\n",
    "plt.plot(x,y)\n",
    "plt.title(\"Grafica sencilla\")\n",
    "plt.show()"
   ]
  },
  {
   "cell_type": "markdown",
   "metadata": {},
   "source": [
    "Podemos usar la funcion **np.linspace** para crear valores en un rango, por ejemplo si queremos 100 numeros entre 0 y 10 usamos:"
   ]
  },
  {
   "cell_type": "code",
   "execution_count": null,
   "metadata": {
    "collapsed": false
   },
   "outputs": [],
   "source": [
    "x = np.linspace(0,10,100)\n",
    "y = x**2 #cuadramos x\n",
    "plt.plot(x,y)\n",
    "plt.title(\"Grafica sencilla\")\n",
    "plt.show()"
   ]
  },
  {
   "cell_type": "markdown",
   "metadata": {},
   "source": [
    "Y podemos graficar dos cosas al mismo tiempo:"
   ]
  },
  {
   "cell_type": "code",
   "execution_count": null,
   "metadata": {
    "collapsed": false
   },
   "outputs": [],
   "source": [
    "x = np.linspace(0,10,100)\n",
    "y1 = x # una linea\n",
    "y2 = x**2 # cuadramos x\n",
    "plt.plot(x,y1)\n",
    "plt.plot(x,y2)\n",
    "plt.title(\"Dos graficas sencillas\")\n",
    "plt.show()"
   ]
  },
  {
   "cell_type": "markdown",
   "metadata": {},
   "source": [
    "Que tal si queremos distinguir cada linea? Pues usamos **legend()**, de leyenda..tambien tenemos que agregarles nombres a cada plot"
   ]
  },
  {
   "cell_type": "code",
   "execution_count": null,
   "metadata": {
    "collapsed": false
   },
   "outputs": [],
   "source": [
    "x = np.linspace(0,10,100)\n",
    "y1 = x # una linea\n",
    "y2 = x**2 # cuadramos x\n",
    "plt.plot(x,y1,label=\"Linea\")\n",
    "plt.plot(x,y2,label=\"Cuadrado\")\n",
    "plt.legend()\n",
    "plt.title(\"Dos graficas sencillas\")\n",
    "plt.show()"
   ]
  },
  {
   "cell_type": "markdown",
   "metadata": {},
   "source": [
    "Tambien podemos hacer mas cosas, como dibujar solamente los puntos, o las lineas con los puntos usando **linestyle**:"
   ]
  },
  {
   "cell_type": "code",
   "execution_count": null,
   "metadata": {
    "collapsed": false
   },
   "outputs": [],
   "source": [
    "x = np.linspace(0,10,100)\n",
    "y1 = x # una linea\n",
    "y2 = x**2 # cuadramos x\n",
    "y3 = np.sqrt(x) # sacamos raiz cuadrada a x\n",
    "y4 = np.power(x,1.5) # elevamos x a la potencia 1.5\n",
    "\n",
    "plt.plot(x,y1,label=\"Linea\",linestyle='-') # linea\n",
    "plt.plot(x,y2,label=\"Cuadrado\",linestyle=':') # puntitos\n",
    "plt.plot(x,y3,label=\"Raiz\",linestyle='-.') # linea y punto\n",
    "plt.plot(x,y4,label=\"potencia 1.5\",linestyle='--') # lineas salteadas\n",
    "plt.legend()\n",
    "plt.title(\"Dos graficas sencillas\")\n",
    "plt.show()"
   ]
  },
  {
   "cell_type": "markdown",
   "metadata": {},
   "source": [
    "## Dibujando puntos (scatter)\n",
    "\n",
    "Aveces no queremos dibujar lineas, sino puntos, esto nos da informacion de donde se encuentras datos de manera espacial. Para esto podemos usarlo de la siguiente manera:"
   ]
  },
  {
   "cell_type": "code",
   "execution_count": null,
   "metadata": {
    "collapsed": false
   },
   "outputs": [],
   "source": [
    "N = 50 # numero de puntos\n",
    "x = np.random.rand(N) # numeros aleatorios entre 0 y 1\n",
    "y = np.random.rand(N)\n",
    "plt.scatter(x, y)\n",
    "plt.title(\"Scatter de puntos aleatorios\")\n",
    "plt.show()"
   ]
  },
  {
   "cell_type": "markdown",
   "metadata": {},
   "source": [
    "Pero ademas podemos meter mas informacion, por ejemplo dar colores cada punto, o darle tamanos diferentes:"
   ]
  },
  {
   "cell_type": "code",
   "execution_count": null,
   "metadata": {
    "collapsed": false
   },
   "outputs": [],
   "source": [
    "N = 50 # numero de puntos\n",
    "x = np.random.rand(N) # numeros aleatorios entre 0 y 1\n",
    "y = np.random.rand(N)\n",
    "colores = np.random.rand(N) # colores aleatorios\n",
    "radios= 15 * np.random.rand(N) # numeros aleatorios entre 0 y 15\n",
    "areas = np.pi * radios**2 # la formula de area de un circulo\n",
    "plt.scatter(x, y, s=areas, c=colores, alpha=0.5)\n",
    "plt.title(\"Scatter plot de puntos aleatorios\")\n",
    "plt.show()"
   ]
  },
  {
   "cell_type": "markdown",
   "metadata": {},
   "source": [
    "## Histogramas (**hist**)\n",
    "\n",
    "Los histogramas nos muestran distribuciones de datos, la forma de los datos, nos muestran el numero de datos de diferentes tipos:"
   ]
  },
  {
   "cell_type": "code",
   "execution_count": null,
   "metadata": {
    "collapsed": false
   },
   "outputs": [],
   "source": [
    "N=500\n",
    "x = np.random.rand(N) # numeros aleatorios entre 0 y 1\n",
    "plt.hist(x)\n",
    "plt.title(\"Histograma aleatorio\")\n",
    "plt.show()"
   ]
  },
  {
   "cell_type": "markdown",
   "metadata": {},
   "source": [
    "otro tipo de datos, tomados de una campana de gauss, es decir una distribucion normal:"
   ]
  },
  {
   "cell_type": "code",
   "execution_count": null,
   "metadata": {
    "collapsed": false
   },
   "outputs": [],
   "source": [
    "N=500\n",
    "x = np.random.randn(N)\n",
    "plt.hist(x)\n",
    "plt.title(\"Histograma aleatorio Normal\")\n",
    "plt.show()"
   ]
  },
  {
   "cell_type": "code",
   "execution_count": null,
   "metadata": {
    "collapsed": false
   },
   "outputs": [],
   "source": [
    "N=1000\n",
    "x1 = np.random.randn(N)\n",
    "x2 = 2+2*np.random.randn(N)\n",
    "\n",
    "plt.hist(x1,20,alpha=0.3)\n",
    "plt.hist(x2,20,alpha=0.3)\n",
    "plt.title(\"Histograma de dos distribuciones\")\n",
    "plt.show()"
   ]
  },
  {
   "cell_type": "markdown",
   "metadata": {
    "collapsed": false
   },
   "source": [
    "## Bases de datos en el internet\n",
    "\n",
    "Aveces los datos que queremos se encuentran en el internet. Asumiendo que se encuentran ordenados y en un formato amigable siempre los podemos bajar y guardar como un DataFrame.\n",
    "\n",
    "#### Por ejemplo:\n",
    "\n",
    "Gapminder es una pagina con mas de 500 conjunto de daatos relacionado a indicadores globales como ingresos, producto interno bruto (PIB=GDP) y esperanza de vida.\n",
    "\n",
    "Aqui bajamos la base de datos de esperanza de vida, lo guardamos en memoria y lo lodeamos como un excel:\n",
    "\n",
    "**Ojo!** Aqui usamos *.head()* para imprimir los primeros 5 renglones del dataframe pues son gigantescos los datos."
   ]
  },
  {
   "cell_type": "code",
   "execution_count": null,
   "metadata": {
    "collapsed": false
   },
   "outputs": [],
   "source": [
    "xurl=\"http://spreadsheets.google.com/pub?key=phAwcNAVuyj2tPLxKvvnNPA&output=xls\"\n",
    "df=pd.read_excel(xurl)\n",
    "print(\"Tamano completo es %s\"%str(df.shape))\n",
    "df.head()"
   ]
  },
  {
   "cell_type": "markdown",
   "metadata": {},
   "source": [
    "## Arreglando los Datos\n",
    "Head nos permite darle un vistazo a los datos... asi a puro ojo vemos que las columnas son anios y los renglones los paises...ponder reversar esto con **transpose**, pero tambien vemos que esta con indices enumerados, prefeririamos que los indices fueran los paises, entonces los cambiamos y tiramos la columna que ya no sirve...al final un head para ver que todo esta bien... a este juego de limpiar y arreglar datos se llama *\"Data Wrangling\"*"
   ]
  },
  {
   "cell_type": "code",
   "execution_count": null,
   "metadata": {
    "collapsed": false
   },
   "outputs": [],
   "source": [
    "df = df.rename(columns={'Life expectancy with projections. Yellow is IHME': 'Life expectancy'})\n",
    "df.index=df['Life expectancy']\n",
    "df=df.drop('Life expectancy',axis=1)\n",
    "df=df.transpose()\n",
    "df.head()"
   ]
  },
  {
   "cell_type": "markdown",
   "metadata": {},
   "source": [
    "Entonces ahora podemos ver la calidad de vida en Mexico atravez del tiempo:"
   ]
  },
  {
   "cell_type": "code",
   "execution_count": null,
   "metadata": {
    "collapsed": false
   },
   "outputs": [],
   "source": [
    "df['Mexico'].plot()\n",
    "print(\"== Esperanza de Vida en Mexico ==\")"
   ]
  },
  {
   "cell_type": "markdown",
   "metadata": {},
   "source": [
    "de esta visualizacion vemos que la caldiad ha ido subiendo apartir de 1900, ademas vemos mucho movimiento entre 1890 y 1950, justo cuando habia muchas guerras en Mexico.\n",
    "\n",
    "Tambien podemos seleccionar un rango selecto de años, vemos que este rango es interesante entonces"
   ]
  },
  {
   "cell_type": "code",
   "execution_count": null,
   "metadata": {
    "collapsed": false
   },
   "outputs": [],
   "source": [
    "subdf=df[ df.index >= 1890 ]\n",
    "subdf=subdf[ subdf.index <= 1955 ]\n",
    "subdf['Mexico'].plot()\n",
    "plt.title(\"Esperanza de Vida en Mexico entre 1890 y 1955\")\n",
    "plt.show()"
   ]
  },
  {
   "cell_type": "markdown",
   "metadata": {},
   "source": [
    "o sin tanto rollo, podemos restringuir el rango de nuestra grafica con **xlim** (los limites del eje X)"
   ]
  },
  {
   "cell_type": "code",
   "execution_count": null,
   "metadata": {
    "collapsed": false
   },
   "outputs": [],
   "source": [
    "df['Mexico'].plot()\n",
    "plt.xlim(1890,1955)\n",
    "plt.title(\"Esperanza de Vida en Mexico entre 1890 y 1955\")\n",
    "plt.show()"
   ]
  },
  {
   "cell_type": "markdown",
   "metadata": {},
   "source": [
    "Tambien es importante ver como esto se compara con otros paises, podemos comparar con todo Norteamerica:"
   ]
  },
  {
   "cell_type": "code",
   "execution_count": null,
   "metadata": {
    "collapsed": false
   },
   "outputs": [],
   "source": [
    "df[['Mexico','United States','Canada']].plot()\n",
    "plt.title(\"Esperanza de Vida en Norte-America\")\n",
    "plt.show()"
   ]
  },
  {
   "cell_type": "markdown",
   "metadata": {},
   "source": [
    "## Ejercicios:\n",
    "\n",
    "* Compara la esperanza de vida en Latino America (o al menos algunos paises de ella).\n",
    "* Solo grafica los años entre 1900 y 2000, tambien 2000-2014.\n",
    "* Quita los paises que tienen valores 'Nan', checa la funcion **.dropna()**.\n",
    "* Saca estadisticas para paises Latino Americanos.\n",
    "* Lo mismo de arriba para diferentes periodos 1800-1900, 1900-2000, 2000-2014"
   ]
  },
  {
   "cell_type": "code",
   "execution_count": null,
   "metadata": {
    "collapsed": true
   },
   "outputs": [],
   "source": []
  }
 ],
 "metadata": {
  "kernelspec": {
   "display_name": "Python 2",
   "language": "python",
   "name": "python2"
  },
  "language_info": {
   "codemirror_mode": {
    "name": "ipython",
    "version": 2
   },
   "file_extension": ".py",
   "mimetype": "text/x-python",
   "name": "python",
   "nbconvert_exporter": "python",
   "pygments_lexer": "ipython2",
   "version": "2.7.9"
  }
 },
 "nbformat": 4,
 "nbformat_minor": 0
}
