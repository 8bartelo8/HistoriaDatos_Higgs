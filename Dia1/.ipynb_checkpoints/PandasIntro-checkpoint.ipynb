{
 "cells": [
  {
   "cell_type": "markdown",
   "metadata": {},
   "source": [
    "# Hola Pandas!\n",
    "\n",
    "## Pandas = Manejo de informacion facil!\n",
    "### Que es pandas?\n",
    "\n",
    "![alt text](http://pandas.pydata.org/_static/pandas_logo.png)\n",
    "\n",
    "Pandas es un libreria de alto rendimiento, facil de usar para manejar estructuras de datos y analizarlas.\n",
    "\n",
    "Checate mas en :\n",
    "\n",
    "* Pagina oficial : http://pandas.pydata.org/\n",
    "* Un tour de diez minutos con Pandas: http://vimeo.com/59324550\n",
    "\n",
    "Para usar pandas, solo tiene que importar el modulo ..tambien te conviene importar numpy y matplotlib..juega\n",
    "n muy bien con pandas"
   ]
  },
  {
   "cell_type": "code",
   "execution_count": 1,
   "metadata": {
    "collapsed": false
   },
   "outputs": [],
   "source": [
    "import pandas as pd\n",
    "import numpy as np # modulo de computo numerico\n",
    "import matplotlib.pyplot as plt # modulo de graficas\n",
    "# esta linea hace que las graficas salgan en el notebook\n",
    "%matplotlib inline"
   ]
  },
  {
   "cell_type": "markdown",
   "metadata": {},
   "source": [
    "### Y yo para que quiero eso? De que sirve pandas?\n",
    "\n",
    "Pandas te sirve si quieres:\n",
    "\n",
    "* Trabajar con datos de manera facil.\n",
    "* Explorar un conjunto de datos de manera rapida, enterder los datos que tienes.\n",
    "* Facilmente manipular informacion, por ejemplo sacar estadisticas.\n",
    "* Graficas patrones y distribuciones de datos.\n",
    "* Trabajar con Exceles, base de datos, sin tener que suar esas herramientas.\n",
    "\n",
    "Y mucho mas...\n",
    "\n",
    "\n",
    "### El DataFrame en Pandas\n",
    "\n",
    "Una estructura de datos en Pandas se llama un DataFrame, con el manejamos todos los datos y aplicamos tranformaciones.\n",
    "\n",
    "Asi creamos un DataFrame vacio:"
   ]
  },
  {
   "cell_type": "code",
   "execution_count": 2,
   "metadata": {
    "collapsed": false
   },
   "outputs": [],
   "source": [
    "df= pd.DataFrame()"
   ]
  },
  {
   "cell_type": "markdown",
   "metadata": {},
   "source": [
    "No nos sirve nada vacio, entonces agreguemos le informacion!\n",
    "### LLenando informacion con un Dataframe\n",
    "![](https://c1.staticflickr.com/1/4/5903269_4adb837fb8.jpg)\n",
    "#### Situacion:\n",
    "Suponte que eres un taquero y quieres hacer un dataframe de cuantos tacos vendes en una semana igual y para ver que tacos son mas populares y echarle mas ganas en ellos, \n",
    "#### Asumiremos:\n",
    "* Que vende tacos de Pastor, Tripa y Chorizo\n",
    "* Hay 7 dias en una semana de  Lunes a Domingo (obvio)\n",
    "* Crearemos el numero de tacos como numeros enteros aleatorios (np.random.randint)\n",
    "\n",
    "** Ojo! ** Si ponemos la variable de un dataframe al final de una celda no saldra una tabla con los datos, eah!"
   ]
  },
  {
   "cell_type": "code",
   "execution_count": 3,
   "metadata": {
    "collapsed": false
   },
   "outputs": [
    {
     "data": {
      "text/html": [
       "<div>\n",
       "<table border=\"1\" class=\"dataframe\">\n",
       "  <thead>\n",
       "    <tr style=\"text-align: right;\">\n",
       "      <th></th>\n",
       "      <th>Pastor</th>\n",
       "      <th>Tripas</th>\n",
       "      <th>Chorizo</th>\n",
       "    </tr>\n",
       "  </thead>\n",
       "  <tbody>\n",
       "    <tr>\n",
       "      <th>Lunes</th>\n",
       "      <td>65</td>\n",
       "      <td>76</td>\n",
       "      <td>96</td>\n",
       "    </tr>\n",
       "    <tr>\n",
       "      <th>Martes</th>\n",
       "      <td>26</td>\n",
       "      <td>33</td>\n",
       "      <td>80</td>\n",
       "    </tr>\n",
       "    <tr>\n",
       "      <th>Miercoles</th>\n",
       "      <td>87</td>\n",
       "      <td>47</td>\n",
       "      <td>83</td>\n",
       "    </tr>\n",
       "    <tr>\n",
       "      <th>Jueves</th>\n",
       "      <td>86</td>\n",
       "      <td>91</td>\n",
       "      <td>27</td>\n",
       "    </tr>\n",
       "    <tr>\n",
       "      <th>Viernes</th>\n",
       "      <td>7</td>\n",
       "      <td>7</td>\n",
       "      <td>51</td>\n",
       "    </tr>\n",
       "    <tr>\n",
       "      <th>Sabado</th>\n",
       "      <td>20</td>\n",
       "      <td>13</td>\n",
       "      <td>42</td>\n",
       "    </tr>\n",
       "    <tr>\n",
       "      <th>Domingo</th>\n",
       "      <td>63</td>\n",
       "      <td>78</td>\n",
       "      <td>2</td>\n",
       "    </tr>\n",
       "  </tbody>\n",
       "</table>\n",
       "</div>"
      ],
      "text/plain": [
       "           Pastor  Tripas  Chorizo\n",
       "Lunes          65      76       96\n",
       "Martes         26      33       80\n",
       "Miercoles      87      47       83\n",
       "Jueves         86      91       27\n",
       "Viernes         7       7       51\n",
       "Sabado         20      13       42\n",
       "Domingo        63      78        2"
      ]
     },
     "execution_count": 3,
     "metadata": {},
     "output_type": "execute_result"
    }
   ],
   "source": [
    "df['Pastor']=np.random.randint(100, size=7)\n",
    "df['Tripas']=np.random.randint(100, size=7)\n",
    "df['Chorizo']=np.random.randint(100, size=7)\n",
    "\n",
    "df.index=['Lunes','Martes','Miercoles','Jueves','Viernes','Sabado','Domingo']\n",
    "df"
   ]
  },
  {
   "cell_type": "markdown",
   "metadata": {},
   "source": [
    "### Jugando con el Dataframe!\n",
    "#### Estadisticas\n",
    "Ya con teniendo un dataframe podemos hacer muchas cosas, por ejemplo sacar estadisticas, de medias, desviaciones estandares, cuantos elementos:"
   ]
  },
  {
   "cell_type": "code",
   "execution_count": 4,
   "metadata": {
    "collapsed": false
   },
   "outputs": [
    {
     "data": {
      "text/html": [
       "<div>\n",
       "<table border=\"1\" class=\"dataframe\">\n",
       "  <thead>\n",
       "    <tr style=\"text-align: right;\">\n",
       "      <th></th>\n",
       "      <th>Pastor</th>\n",
       "      <th>Tripas</th>\n",
       "      <th>Chorizo</th>\n",
       "    </tr>\n",
       "  </thead>\n",
       "  <tbody>\n",
       "    <tr>\n",
       "      <th>count</th>\n",
       "      <td>7.000000</td>\n",
       "      <td>7.000000</td>\n",
       "      <td>7.000000</td>\n",
       "    </tr>\n",
       "    <tr>\n",
       "      <th>mean</th>\n",
       "      <td>50.571429</td>\n",
       "      <td>49.285714</td>\n",
       "      <td>54.428571</td>\n",
       "    </tr>\n",
       "    <tr>\n",
       "      <th>std</th>\n",
       "      <td>32.613173</td>\n",
       "      <td>33.300222</td>\n",
       "      <td>33.827292</td>\n",
       "    </tr>\n",
       "    <tr>\n",
       "      <th>min</th>\n",
       "      <td>7.000000</td>\n",
       "      <td>7.000000</td>\n",
       "      <td>2.000000</td>\n",
       "    </tr>\n",
       "    <tr>\n",
       "      <th>25%</th>\n",
       "      <td>23.000000</td>\n",
       "      <td>23.000000</td>\n",
       "      <td>34.500000</td>\n",
       "    </tr>\n",
       "    <tr>\n",
       "      <th>50%</th>\n",
       "      <td>63.000000</td>\n",
       "      <td>47.000000</td>\n",
       "      <td>51.000000</td>\n",
       "    </tr>\n",
       "    <tr>\n",
       "      <th>75%</th>\n",
       "      <td>75.500000</td>\n",
       "      <td>77.000000</td>\n",
       "      <td>81.500000</td>\n",
       "    </tr>\n",
       "    <tr>\n",
       "      <th>max</th>\n",
       "      <td>87.000000</td>\n",
       "      <td>91.000000</td>\n",
       "      <td>96.000000</td>\n",
       "    </tr>\n",
       "  </tbody>\n",
       "</table>\n",
       "</div>"
      ],
      "text/plain": [
       "          Pastor     Tripas    Chorizo\n",
       "count   7.000000   7.000000   7.000000\n",
       "mean   50.571429  49.285714  54.428571\n",
       "std    32.613173  33.300222  33.827292\n",
       "min     7.000000   7.000000   2.000000\n",
       "25%    23.000000  23.000000  34.500000\n",
       "50%    63.000000  47.000000  51.000000\n",
       "75%    75.500000  77.000000  81.500000\n",
       "max    87.000000  91.000000  96.000000"
      ]
     },
     "execution_count": 4,
     "metadata": {},
     "output_type": "execute_result"
    }
   ],
   "source": [
    "df.describe()"
   ]
  },
  {
   "cell_type": "markdown",
   "metadata": {},
   "source": [
    "pero talvez solo queramos estadisticas de Pastor, entonces seria:"
   ]
  },
  {
   "cell_type": "code",
   "execution_count": 5,
   "metadata": {
    "collapsed": false
   },
   "outputs": [
    {
     "data": {
      "text/plain": [
       "count     7.000000\n",
       "mean     50.571429\n",
       "std      32.613173\n",
       "min       7.000000\n",
       "25%      23.000000\n",
       "50%      63.000000\n",
       "75%      75.500000\n",
       "max      87.000000\n",
       "Name: Pastor, dtype: float64"
      ]
     },
     "execution_count": 5,
     "metadata": {},
     "output_type": "execute_result"
    }
   ],
   "source": [
    "df['Pastor'].describe()"
   ]
  },
  {
   "cell_type": "markdown",
   "metadata": {},
   "source": [
    "o talvez solo nos interese del Lunes:\n",
    "\n",
    "** Ojo! ** Tenemos que usar *.ix* para seleccionar un renglon"
   ]
  },
  {
   "cell_type": "code",
   "execution_count": 6,
   "metadata": {
    "collapsed": false
   },
   "outputs": [
    {
     "data": {
      "text/plain": [
       "Pastor     65\n",
       "Tripas     76\n",
       "Chorizo    96\n",
       "Name: Lunes, dtype: int64"
      ]
     },
     "execution_count": 6,
     "metadata": {},
     "output_type": "execute_result"
    }
   ],
   "source": [
    "df.ix['Lunes']"
   ]
  },
  {
   "cell_type": "markdown",
   "metadata": {},
   "source": [
    "#### Grafica de cajas 'Boxplot'\n",
    "\n",
    "Un boxplot nos da mucha informacion:\n",
    "* Cada caja esta centrada en la mediana\n",
    "* Tiene de alto la desviacion estandar entonces nos dice donde se encuentra el 60% de los datos.\n",
    "* Tiene los minimos y maximos de cada dato."
   ]
  },
  {
   "cell_type": "code",
   "execution_count": 8,
   "metadata": {
    "collapsed": false
   },
   "outputs": [
    {
     "data": {
      "image/png": "[encoded data removed]",
      "text/plain": [
       "<matplotlib.figure.Figure at 0x7f85c7b79950>"
      ]
     },
     "metadata": {},
     "output_type": "display_data"
    }
   ],
   "source": [
    "df.boxplot()\n",
    "plt.title(\"Boxplot\")\n",
    "plt.show()"
   ]
  },
  {
   "cell_type": "markdown",
   "metadata": {},
   "source": [
    "#### Combinando columnas\n",
    "Que tal si queremos saber cuantos tacos vendimos en total?\n",
    "Pues solamente sumamos las columnas:"
   ]
  },
  {
   "cell_type": "code",
   "execution_count": 9,
   "metadata": {
    "collapsed": false
   },
   "outputs": [
    {
     "data": {
      "text/html": [
       "<div>\n",
       "<table border=\"1\" class=\"dataframe\">\n",
       "  <thead>\n",
       "    <tr style=\"text-align: right;\">\n",
       "      <th></th>\n",
       "      <th>Pastor</th>\n",
       "      <th>Tripas</th>\n",
       "      <th>Chorizo</th>\n",
       "      <th>Tacos Total</th>\n",
       "    </tr>\n",
       "  </thead>\n",
       "  <tbody>\n",
       "    <tr>\n",
       "      <th>Lunes</th>\n",
       "      <td>65</td>\n",
       "      <td>76</td>\n",
       "      <td>96</td>\n",
       "      <td>141</td>\n",
       "    </tr>\n",
       "    <tr>\n",
       "      <th>Martes</th>\n",
       "      <td>26</td>\n",
       "      <td>33</td>\n",
       "      <td>80</td>\n",
       "      <td>59</td>\n",
       "    </tr>\n",
       "    <tr>\n",
       "      <th>Miercoles</th>\n",
       "      <td>87</td>\n",
       "      <td>47</td>\n",
       "      <td>83</td>\n",
       "      <td>134</td>\n",
       "    </tr>\n",
       "    <tr>\n",
       "      <th>Jueves</th>\n",
       "      <td>86</td>\n",
       "      <td>91</td>\n",
       "      <td>27</td>\n",
       "      <td>177</td>\n",
       "    </tr>\n",
       "    <tr>\n",
       "      <th>Viernes</th>\n",
       "      <td>7</td>\n",
       "      <td>7</td>\n",
       "      <td>51</td>\n",
       "      <td>14</td>\n",
       "    </tr>\n",
       "    <tr>\n",
       "      <th>Sabado</th>\n",
       "      <td>20</td>\n",
       "      <td>13</td>\n",
       "      <td>42</td>\n",
       "      <td>33</td>\n",
       "    </tr>\n",
       "    <tr>\n",
       "      <th>Domingo</th>\n",
       "      <td>63</td>\n",
       "      <td>78</td>\n",
       "      <td>2</td>\n",
       "      <td>141</td>\n",
       "    </tr>\n",
       "  </tbody>\n",
       "</table>\n",
       "</div>"
      ],
      "text/plain": [
       "           Pastor  Tripas  Chorizo  Tacos Total\n",
       "Lunes          65      76       96          141\n",
       "Martes         26      33       80           59\n",
       "Miercoles      87      47       83          134\n",
       "Jueves         86      91       27          177\n",
       "Viernes         7       7       51           14\n",
       "Sabado         20      13       42           33\n",
       "Domingo        63      78        2          141"
      ]
     },
     "execution_count": 9,
     "metadata": {},
     "output_type": "execute_result"
    }
   ],
   "source": [
    "df['Tacos Total']=df['Pastor']+df['Tripas']\n",
    "df"
   ]
  },
  {
   "cell_type": "markdown",
   "metadata": {},
   "source": [
    "#### Borrando columnas\n",
    "Aveces simplemente queremos reducir el numero de datos, entonces podemos usar el drop:"
   ]
  },
  {
   "cell_type": "code",
   "execution_count": 10,
   "metadata": {
    "collapsed": false
   },
   "outputs": [
    {
     "data": {
      "text/html": [
       "<div>\n",
       "<table border=\"1\" class=\"dataframe\">\n",
       "  <thead>\n",
       "    <tr style=\"text-align: right;\">\n",
       "      <th></th>\n",
       "      <th>Pastor</th>\n",
       "      <th>Chorizo</th>\n",
       "      <th>Tacos Total</th>\n",
       "    </tr>\n",
       "  </thead>\n",
       "  <tbody>\n",
       "    <tr>\n",
       "      <th>Lunes</th>\n",
       "      <td>65</td>\n",
       "      <td>96</td>\n",
       "      <td>141</td>\n",
       "    </tr>\n",
       "    <tr>\n",
       "      <th>Martes</th>\n",
       "      <td>26</td>\n",
       "      <td>80</td>\n",
       "      <td>59</td>\n",
       "    </tr>\n",
       "    <tr>\n",
       "      <th>Miercoles</th>\n",
       "      <td>87</td>\n",
       "      <td>83</td>\n",
       "      <td>134</td>\n",
       "    </tr>\n",
       "    <tr>\n",
       "      <th>Jueves</th>\n",
       "      <td>86</td>\n",
       "      <td>27</td>\n",
       "      <td>177</td>\n",
       "    </tr>\n",
       "    <tr>\n",
       "      <th>Viernes</th>\n",
       "      <td>7</td>\n",
       "      <td>51</td>\n",
       "      <td>14</td>\n",
       "    </tr>\n",
       "    <tr>\n",
       "      <th>Sabado</th>\n",
       "      <td>20</td>\n",
       "      <td>42</td>\n",
       "      <td>33</td>\n",
       "    </tr>\n",
       "    <tr>\n",
       "      <th>Domingo</th>\n",
       "      <td>63</td>\n",
       "      <td>2</td>\n",
       "      <td>141</td>\n",
       "    </tr>\n",
       "  </tbody>\n",
       "</table>\n",
       "</div>"
      ],
      "text/plain": [
       "           Pastor  Chorizo  Tacos Total\n",
       "Lunes          65       96          141\n",
       "Martes         26       80           59\n",
       "Miercoles      87       83          134\n",
       "Jueves         86       27          177\n",
       "Viernes         7       51           14\n",
       "Sabado         20       42           33\n",
       "Domingo        63        2          141"
      ]
     },
     "execution_count": 10,
     "metadata": {},
     "output_type": "execute_result"
    }
   ],
   "source": [
    "df=df.drop(\"Tripas\",axis=1)\n",
    "df"
   ]
  },
  {
   "cell_type": "markdown",
   "metadata": {},
   "source": [
    "#### Exportando a otro formato\n",
    "\n",
    "Aveces queremos guardar nuestros datos (excel, csv, sql database, pickle, json) , por ejemplo a un excel:"
   ]
  },
  {
   "cell_type": "code",
   "execution_count": 11,
   "metadata": {
    "collapsed": false
   },
   "outputs": [],
   "source": [
    "df.to_csv(\"Tacos.csv\")"
   ]
  },
  {
   "cell_type": "markdown",
   "metadata": {},
   "source": [
    "#### Leyendo un DataFrame de otro formato\n",
    "\n",
    "O alrevez, queremos crear un dataframe apartir de un archivo:"
   ]
  },
  {
   "cell_type": "code",
   "execution_count": 13,
   "metadata": {
    "collapsed": false
   },
   "outputs": [],
   "source": [
    "df=pd.read_csv(\"Tacos.csv\")"
   ]
  },
  {
   "cell_type": "markdown",
   "metadata": {},
   "source": [
    "## Ejercicios:\n",
    "\n",
    "* Inventa un Dataframe de tu propio negocio, que quieres vender? Usa numeros aleatorios.\n",
    "* Saca estadisticas de cada columna.\n",
    "* Crea una nueva columna que toma en cuenta la otra informacion. (Promedio, etc..)"
   ]
  }
 ],
 "metadata": {
  "kernelspec": {
   "display_name": "Python 2",
   "language": "python",
   "name": "python2"
  },
  "language_info": {
   "codemirror_mode": {
    "name": "ipython",
    "version": 2
   },
   "file_extension": ".py",
   "mimetype": "text/x-python",
   "name": "python",
   "nbconvert_exporter": "python",
   "pygments_lexer": "ipython2",
   "version": "2.7.9"
  }
 },
 "nbformat": 4,
 "nbformat_minor": 0
}
