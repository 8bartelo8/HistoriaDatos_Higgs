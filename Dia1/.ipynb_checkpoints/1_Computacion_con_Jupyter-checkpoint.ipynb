{
 "cells": [
  {
   "cell_type": "markdown",
   "metadata": {},
   "source": [
    "# 1 Introduccion a IPython notebooks/ Jupyter\n",
    "\n",
    "\n",
    "![ipython logo](http://ipython.org/_static/IPy_header.png)\n",
    "![jupyter logo](https://jupyter.org/assets/main-logo.svg)\n",
    "![python logo](https://www.python.org/static/community_logos/python-logo-generic.svg)\n",
    "\n",
    "## Que es exactamente?\n",
    "Una libreta IPython/Jupyter es un ambiente interactivo para escribir y correr codigo de python. Es un **historial completo y auto-contenido de un calculo** y puede ser convertido a otros formatos para compartir con otros.\n",
    "\n",
    "En particular es batante popular en la comunidad cientifica porque es una herramienta interactiva, iterativa para analisis de datos, visualizacion y contar historias.\n",
    "\n",
    "\n",
    "Puedes combinar:\n",
    "- Codigo en vivo\n",
    "- Widgets Interactivos\n",
    "- Graficas\n",
    "- Texto Narrrativo\n",
    "- Ecuaciones\n",
    "- Imagenes\n",
    "- Video\n",
    "\n",
    " \n",
    "## Un poco mas...\n",
    "\n",
    "El projecto Ipython reciente se expandio en la versio 3.0 para incluir otros kerneles de computo como R, Julia, C++ y Matlab.\n",
    "Para mas informacion/ideas checa los links abajo de este Ipython Notebook.\n"
   ]
  },
  {
   "cell_type": "markdown",
   "metadata": {},
   "source": [
    "## Vamos a empezar!\n",
    "### Corriendo codigo"
   ]
  },
  {
   "cell_type": "markdown",
   "metadata": {},
   "source": [
    "Corre tu codido usando `Shift-Enter` o presionando el boton <button class='btn btn-default btn-xs'><i class=\"icon-play fa fa-play\"></i></button> en la barra de herramientas arriba."
   ]
  },
  {
   "cell_type": "code",
   "execution_count": null,
   "metadata": {
    "collapsed": false
   },
   "outputs": [],
   "source": [
    "print(\"hola bolivia\")"
   ]
  },
  {
   "cell_type": "markdown",
   "metadata": {},
   "source": [
    "### Computo Iterativo\n",
    "El \"kernel\" mantiene un estado de todos los calculos del la libreta.\n",
    "\n",
    "Por ejemplo puedes guardar el resultado de un calculo en una variable \n"
   ]
  },
  {
   "cell_type": "code",
   "execution_count": null,
   "metadata": {
    "collapsed": false
   },
   "outputs": [],
   "source": [
    "un_str = \"Cuanto es 2 x 4 ?\"\n",
    "resultado= 2 * 4"
   ]
  },
  {
   "cell_type": "markdown",
   "metadata": {},
   "source": [
    "y usarlo en otra celda"
   ]
  },
  {
   "cell_type": "code",
   "execution_count": null,
   "metadata": {
    "collapsed": false
   },
   "outputs": [],
   "source": [
    "print(un_str)\n",
    "print(resultado)\n",
    "print(\"Magia!\")"
   ]
  },
  {
   "cell_type": "markdown",
   "metadata": {},
   "source": [
    "### Parar codigo\n",
    "El codigo se corre en un proceso separado llamado el\"kernel:\". Este puede ser interumpido o reseteado.\n",
    "Trata de correr el siguiente codigo y dale al boton <button class='btn btn-default btn-xs'><i class='icon-stop fa fa-stop'></i></button>."
   ]
  },
  {
   "cell_type": "code",
   "execution_count": null,
   "metadata": {
    "collapsed": false
   },
   "outputs": [],
   "source": [
    "import time\n",
    "time.sleep(10)"
   ]
  },
  {
   "cell_type": "markdown",
   "metadata": {},
   "source": [
    "### Resetear\n",
    "\n",
    "Puedes resetear usando el boton <button class='btn btn-default btn-xs'><i class='fa fa-repeat icon-repeat'></i></button>."
   ]
  },
  {
   "cell_type": "markdown",
   "metadata": {},
   "source": [
    "## Python Basico\n",
    "### Lists and Arrays (Listas y arreglos)"
   ]
  },
  {
   "cell_type": "code",
   "execution_count": null,
   "metadata": {
    "collapsed": false
   },
   "outputs": [],
   "source": [
    "a_list = [ \"vaca\", \"taco\", \"gato\"] #list\n",
    "print(a_list)"
   ]
  },
  {
   "cell_type": "markdown",
   "metadata": {},
   "source": [
    "podemos agregar elementos"
   ]
  },
  {
   "cell_type": "code",
   "execution_count": null,
   "metadata": {
    "collapsed": false
   },
   "outputs": [],
   "source": [
    "a_list.append(\"pollo\") # now part of the family\n",
    "a_list"
   ]
  },
  {
   "cell_type": "markdown",
   "metadata": {},
   "source": [
    "o podemos usar el modulo Numpy para arreglos numericos (Protip: quieres saber mas? dale click a la imagen)\n",
    "\n",
    "[![](http://upload.wikimedia.org/wikipedia/en/1/1b/NumPy_logo.png)](http://www.numpy.org/)"
   ]
  },
  {
   "cell_type": "code",
   "execution_count": 1,
   "metadata": {
    "collapsed": false
   },
   "outputs": [
    {
     "name": "stdout",
     "output_type": "stream",
     "text": [
      "[ 0  1  2  3  4  5  6  7  8  9 10 11 12 13 14 15 16 17 18 19 20 21 22 23 24\n",
      " 25 26 27 28 29 30 31 32 33 34 35 36 37 38 39 40 41 42 43 44 45 46 47 48 49\n",
      " 50 51 52 53 54 55 56 57 58 59 60 61 62 63 64 65 66 67 68 69 70 71 72 73 74\n",
      " 75 76 77 78 79 80 81 82 83 84 85 86 87 88 89 90 91 92 93 94 95 96 97 98 99]\n"
     ]
    }
   ],
   "source": [
    "import numpy as np\n",
    "\n",
    "# lista de numeros del 0 a 100, en incrementos de 1\n",
    "numeros = np.arange(0,100,1) \n",
    "print(numeros)"
   ]
  },
  {
   "cell_type": "markdown",
   "metadata": {},
   "source": [
    "y que tal arreglos vacios? Aqui creamos un vector de 5 x 1 "
   ]
  },
  {
   "cell_type": "code",
   "execution_count": 2,
   "metadata": {
    "collapsed": false
   },
   "outputs": [
    {
     "data": {
      "text/plain": [
       "array([[ 0.],\n",
       "       [ 0.],\n",
       "       [ 0.],\n",
       "       [ 0.],\n",
       "       [ 0.]])"
      ]
     },
     "execution_count": 2,
     "metadata": {},
     "output_type": "execute_result"
    }
   ],
   "source": [
    "array_vacio = np.zeros((5,1))\n",
    "array_vacio"
   ]
  },
  {
   "cell_type": "markdown",
   "metadata": {},
   "source": [
    "podemos cambiar valores usando  \\[ indice \\]:"
   ]
  },
  {
   "cell_type": "code",
   "execution_count": 3,
   "metadata": {
    "collapsed": false
   },
   "outputs": [
    {
     "data": {
      "text/plain": [
       "array([[ 0.],\n",
       "       [ 0.],\n",
       "       [ 8.],\n",
       "       [ 0.],\n",
       "       [ 0.]])"
      ]
     },
     "execution_count": 3,
     "metadata": {},
     "output_type": "execute_result"
    }
   ],
   "source": [
    "array_vacio[2] = 8 # manipular el tercer elemento\n",
    "array_vacio"
   ]
  },
  {
   "cell_type": "markdown",
   "metadata": {},
   "source": [
    "y que tal arreglos de numeros aleatorios?"
   ]
  },
  {
   "cell_type": "code",
   "execution_count": 4,
   "metadata": {
    "collapsed": false
   },
   "outputs": [
    {
     "data": {
      "text/plain": [
       "array([6, 5, 2, ..., 6, 9, 3])"
      ]
     },
     "execution_count": 4,
     "metadata": {},
     "output_type": "execute_result"
    }
   ],
   "source": [
    "integers = np.random.randint(low=1,high=10, size=100000)\n",
    "integers"
   ]
  },
  {
   "cell_type": "markdown",
   "metadata": {},
   "source": [
    "#### Utilidades de Array\n",
    "Tenemos muchas utilidades para trabajar con arreglos...\n",
    "\n",
    "* **Sortear valores:** entoces usamos **np.sort(array)**\n",
    "* **Encontrar Maximo, Minimo:** entoces usamos **np.min(array)**, **np.max(array)**\n",
    "* **Encontrar el indices del Maximo o Minimo:** entoces usamos **np.argmin(array)**, **np.argmax(array)**\n",
    "* **Calcular medias o desviaciones estandar :** usamos **np.mean(array)**,**np.std(array)**"
   ]
  },
  {
   "cell_type": "code",
   "execution_count": 5,
   "metadata": {
    "collapsed": false
   },
   "outputs": [
    {
     "name": "stdout",
     "output_type": "stream",
     "text": [
      "Sortead : [1 1 1 ..., 9 9 9]\n",
      "Max: 9 , Min: 1\n",
      "Max at: 34 , Min at: 12\n",
      "Mean: 5.00228 , Std: 2.57757537263\n"
     ]
    }
   ],
   "source": [
    "print(\"Sortead :\",np.sort(integers))\n",
    "print(\"Max:\",np.max(integers),\", Min:\",np.min(integers))\n",
    "print(\"Max at:\",np.argmax(integers),\", Min at:\",np.argmin(integers))\n",
    "print(\"Mean:\",np.mean(integers),\", Std:\",np.std(integers))"
   ]
  },
  {
   "cell_type": "markdown",
   "metadata": {},
   "source": [
    "### For loops (Ciclos For)\n",
    "\n",
    "Un for loop va sobre cada elemento del ciclo, **Ojo! nota el espaciamiento/indentacion** justo despues del for!"
   ]
  },
  {
   "cell_type": "code",
   "execution_count": null,
   "metadata": {
    "collapsed": false
   },
   "outputs": [],
   "source": [
    "for i in range(2,10,2):\n",
    "    print(i)\n",
    "\n",
    "print(\"Fin!\")"
   ]
  },
  {
   "cell_type": "markdown",
   "metadata": {},
   "source": [
    "### Doble!"
   ]
  },
  {
   "cell_type": "code",
   "execution_count": null,
   "metadata": {
    "collapsed": false
   },
   "outputs": [],
   "source": [
    "for i in a_list:\n",
    "    for j in a_list:\n",
    "        print i, j\n",
    "print(\"Fin!\")"
   ]
  },
  {
   "cell_type": "markdown",
   "metadata": {},
   "source": [
    "un loop pero enumerado, te rergresa un indice y un elemento"
   ]
  },
  {
   "cell_type": "code",
   "execution_count": null,
   "metadata": {
    "collapsed": false
   },
   "outputs": [],
   "source": [
    "for index,item in enumerate(a_list):\n",
    "    print(index,item)\n",
    "\n",
    "print(\"Done!\")"
   ]
  },
  {
   "cell_type": "markdown",
   "metadata": {},
   "source": [
    "### Y si quieres un elemento aleatorio de la lista?\n",
    "\n",
    "El modulo random al rescate, corre varias veces la celda y checa si son aleatorios\n"
   ]
  },
  {
   "cell_type": "code",
   "execution_count": null,
   "metadata": {
    "collapsed": false
   },
   "outputs": [],
   "source": [
    "import random\n",
    "\n",
    "random.sample(a_list,  2) # select 1"
   ]
  },
  {
   "cell_type": "code",
   "execution_count": null,
   "metadata": {
    "collapsed": false
   },
   "outputs": [],
   "source": [
    "random.sample(numeros,  10)"
   ]
  },
  {
   "cell_type": "markdown",
   "metadata": {},
   "source": [
    "### **Que tal funciones?**"
   ]
  },
  {
   "cell_type": "code",
   "execution_count": null,
   "metadata": {
    "collapsed": false
   },
   "outputs": [],
   "source": [
    "# La definimos..\n",
    "\n",
    "def reordenar(lista):\n",
    "    val=random.sample(lista,1)\n",
    "    return val\n",
    "\n",
    "# la llamamos \n",
    "print(reordenar(numeros))\n",
    "print(reordenar(numeros))"
   ]
  },
  {
   "cell_type": "markdown",
   "metadata": {},
   "source": [
    "# Actividad 1 : Ejercicios de Programacion\n",
    "\n",
    "## Meta: Obtener confianza con Python.\n",
    "\n",
    "### 1.a) Usa un ciclo-for e imprime tus platillos bolivianos favoritos\n",
    "\n"
   ]
  },
  {
   "cell_type": "code",
   "execution_count": null,
   "metadata": {
    "collapsed": true
   },
   "outputs": [],
   "source": []
  },
  {
   "cell_type": "markdown",
   "metadata": {},
   "source": [
    "### 1.b) Crea un arreglo de numeros aleatorios de tamano $n$"
   ]
  },
  {
   "cell_type": "code",
   "execution_count": null,
   "metadata": {
    "collapsed": true
   },
   "outputs": [],
   "source": []
  },
  {
   "cell_type": "markdown",
   "metadata": {},
   "source": [
    "### 1.c) Encapsula la funcion pasada en una funcion"
   ]
  },
  {
   "cell_type": "code",
   "execution_count": null,
   "metadata": {
    "collapsed": true
   },
   "outputs": [],
   "source": []
  },
  {
   "cell_type": "markdown",
   "metadata": {},
   "source": [
    "### 1.d)  Grafica un histograma de numeros aleatorios con $n=10,50,100,1k,10k$\n",
    "\n",
    "Para graficar histogramas usa **plt.hist()**."
   ]
  },
  {
   "cell_type": "code",
   "execution_count": null,
   "metadata": {
    "collapsed": true
   },
   "outputs": [],
   "source": []
  },
  {
   "cell_type": "markdown",
   "metadata": {},
   "source": [
    "# Extra: Sumatoria de ondas"
   ]
  },
  {
   "cell_type": "code",
   "execution_count": null,
   "metadata": {
    "collapsed": true
   },
   "outputs": [],
   "source": []
  },
  {
   "cell_type": "code",
   "execution_count": null,
   "metadata": {
    "collapsed": true
   },
   "outputs": [],
   "source": []
  },
  {
   "cell_type": "code",
   "execution_count": null,
   "metadata": {
    "collapsed": true
   },
   "outputs": [],
   "source": []
  },
  {
   "cell_type": "markdown",
   "metadata": {},
   "source": [
    "## Extra: Mas cosas para darle sabor\n",
    "### Celdas de Texto: Latex & Markdown\n",
    "Celdas se crean por default como celdas de codigo, pero se pueden cambiar.\n",
    "Cell are by default created as code cells, can be but can be easily changed to text cells by cliking on the toolbar.\n",
    "    ![text cell](files/TextCell.png)\n",
    "\n",
    "In text cells you can embed narrative text using [Markdown](https://guides.github.com/features/mastering-markdown/), HTML code and LaTeX equations with inline dollar signs \\$ *insert equation* \\$ and new line as \\$\\$ *insert equation* \\$\\$.\n",
    "\n",
    "For example: $$H\\psi = E\\psi$$\n",
    "\n",
    "The code for this cell is:\n",
    "```markdown\n",
    "### Text Cells: Latex & Markdown\n",
    "Cell are by default created as code cells, can be but can be easily changed to text cells by cliking on the toolbar.\n",
    "    ![text cell](TextCell.png)\n",
    "\n",
    "In text cells you can embed narrative text using [Markdown](https://guides.github.com/features/mastering-markdown/), HTML code and LaTeX equations with inline dollar signs \\$ *insert equation* \\$ and new line as \\$\\$ *insert equation* \\$\\$.\n",
    "\n",
    "For example: $$H\\psi = E\\psi$$\n",
    "```\n"
   ]
  },
  {
   "cell_type": "markdown",
   "metadata": {},
   "source": [
    "### Images\n",
    "We can work with images (JPEG, PNG) and SVG via the `Image` and `SVG` class."
   ]
  },
  {
   "cell_type": "code",
   "execution_count": null,
   "metadata": {
    "collapsed": false
   },
   "outputs": [],
   "source": [
    "from IPython.display import Image\n",
    "Image(filename='files/large-hadron-collider.jpg')"
   ]
  },
  {
   "cell_type": "markdown",
   "metadata": {},
   "source": [
    "### Videos?\n"
   ]
  },
  {
   "cell_type": "code",
   "execution_count": null,
   "metadata": {
    "collapsed": false
   },
   "outputs": [],
   "source": [
    "from IPython.display import YouTubeVideo\n",
    "#https://www.youtube.com/watch?v=_6uKZWnJLCM\n",
    "YouTubeVideo('_6uKZWnJLCM')"
   ]
  },
  {
   "cell_type": "markdown",
   "metadata": {},
   "source": [
    "### External Websites, HTML?"
   ]
  },
  {
   "cell_type": "code",
   "execution_count": null,
   "metadata": {
    "collapsed": false
   },
   "outputs": [],
   "source": [
    "from IPython.display import HTML\n",
    "HTML('<iframe src=http://ipython.org/ width=700 height=350></iframe>')"
   ]
  },
  {
   "cell_type": "markdown",
   "metadata": {},
   "source": [
    "## Extra: Por si quieres leer mas\n"
   ]
  },
  {
   "cell_type": "markdown",
   "metadata": {},
   "source": [
    "### Installing Ipython on your computer:\n",
    "* http://nbviewer.ipython.org/github/demotu/BMC/blob/master/notebooks/PythonInstallation.ipynb\n",
    " \n",
    "### Squeezing all the juice from Ipython\n",
    "* https://github.com/odewahn/ipynb-examples\n",
    "* Ipython minibook: https://github.com/rossant/ipython-minibook http://nbviewer.ipython.org/github/barbagroup/AeroPython/blob/master/lessons/00_Lesson00_QuickPythonIntro.ipynb\n",
    " \n",
    "### Scientific computing con Python:\n",
    "* http://nbviewer.ipython.org/github/demotu/BMC/blob/master/notebooks/PythonForScientificComputing.ipynb\n",
    "* http://nbviewer.ipython.org/github/jrjohansson/scientific-python-lectures/blob/master/Lecture-1-Introduction-to-Python-Programming.ipynb\n",
    "\n",
    "### A gallery of interesting IPython Notebooks\n",
    "* https://github.com/ipython/ipython/wiki/A-gallery-of-interesting-IPython-Notebooks#introductory-tutorials\n",
    "\n",
    "### Kernels\n",
    "* Python(https://github.com/ipython/ipython)\n",
    "* Julia (https://github.com/JuliaLang/IJulia.jl)\n",
    "* R (https://github.com/takluyver/IRkernel)\n",
    "* Ruby (https://github.com/minrk/iruby)\n",
    "* Haskell (https://github.com/gibiansky/IHaskell)\n",
    "* Scala (https://github.com/Bridgewater/scala-notebook)\n",
    "* node.js (https://gist.github.com/Carreau/4279371)\n",
    "* Go (https://github.com/takluyver/igo)\n"
   ]
  }
 ],
 "metadata": {
  "kernelspec": {
   "display_name": "Python 3",
   "language": "python",
   "name": "python3"
  },
  "language_info": {
   "codemirror_mode": {
    "name": "ipython",
    "version": 3
   },
   "file_extension": ".py",
   "mimetype": "text/x-python",
   "name": "python",
   "nbconvert_exporter": "python",
   "pygments_lexer": "ipython3",
   "version": "3.5.1"
  },
  "latex_envs": {
   "bibliofile": "biblio.bib",
   "cite_by": "apalike",
   "current_citInitial": 1,
   "eqLabelWithNumbers": true,
   "eqNumInitial": 0
  }
 },
 "nbformat": 4,
 "nbformat_minor": 0
}
