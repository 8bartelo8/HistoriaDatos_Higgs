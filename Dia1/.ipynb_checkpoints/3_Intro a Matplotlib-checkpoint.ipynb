{
 "cells": [
  {
   "cell_type": "markdown",
   "metadata": {},
   "source": [
    "# Intro a Matplotlib\n",
    "## Matplotlib = Libreria para graficas cosas matematicas\n",
    "### Que es Matplotlib?\n",
    "\n",
    "![alt text](http://matplotlib.org/_static/logo2.png)\n",
    "\n",
    "Matplotlin es un libreria para crear imagenes 2D de manera facil.\n",
    "\n",
    "Checate mas en :\n",
    "\n",
    "* Pagina oficial : http://matplotlib.org/\n",
    "* Galleria de ejemplo: http://matplotlib.org/gallery.html\n",
    "* Una libreria mas avanzada que usa matplotlib, Seaborn: http://stanford.edu/~mwaskom/software/seaborn/\n",
    "* Libreria de visualizacion interactiva: http://bokeh.pydata.org/\n",
    "* Buenisimo Tutorial: http://www.labri.fr/perso/nrougier/teaching/matplotlib/\n",
    "\n",
    "Para usar matplotlib, solo tiene que importar el modulo ..tambien te conviene importar numpy pues es muy util"
   ]
  },
  {
   "cell_type": "code",
   "execution_count": 1,
   "metadata": {
    "collapsed": false
   },
   "outputs": [],
   "source": [
    "import numpy as np # modulo de computo numerico\n",
    "import matplotlib.pyplot as plt # modulo de graficas\n",
    "import pandas as pd # modulo de datos\n",
    "# esta linea hace que las graficas salgan en el notebook\n",
    "%matplotlib inline"
   ]
  },
  {
   "cell_type": "markdown",
   "metadata": {},
   "source": [
    "## Crear graficas (plot)\n",
    "\n",
    "Crear graficas es muy facil en matplotlib, si tienes una lista de valores X y otra y..solo basta usar :"
   ]
  },
  {
   "cell_type": "code",
   "execution_count": null,
   "metadata": {
    "collapsed": false
   },
   "outputs": [],
   "source": [
    "x = np.array([0,1,2,3,4])\n",
    "y = x**2 #cuadramos x\n",
    "plt.plot(x,y)\n",
    "plt.title(\"Grafica sencilla\")\n",
    "plt.show()"
   ]
  },
  {
   "cell_type": "markdown",
   "metadata": {},
   "source": [
    "Podemos usar la funcion **np.linspace** para crear valores en un rango, por ejemplo si queremos 100 numeros entre 0 y 10 usamos:"
   ]
  },
  {
   "cell_type": "code",
   "execution_count": null,
   "metadata": {
    "collapsed": false
   },
   "outputs": [],
   "source": [
    "x = np.linspace(0,10,100)\n",
    "y = x**2 #cuadramos x\n",
    "plt.plot(x,y)\n",
    "plt.title(\"Grafica sencilla\")\n",
    "plt.show()"
   ]
  },
  {
   "cell_type": "markdown",
   "metadata": {},
   "source": [
    "Y podemos graficar dos cosas al mismo tiempo:"
   ]
  },
  {
   "cell_type": "code",
   "execution_count": null,
   "metadata": {
    "collapsed": false
   },
   "outputs": [],
   "source": [
    "x = np.linspace(0,10,100)\n",
    "y1 = x # una linea\n",
    "y2 = x**2 # cuadramos x\n",
    "plt.plot(x,y1)\n",
    "plt.plot(x,y2)\n",
    "plt.title(\"Dos graficas sencillas\")\n",
    "plt.show()"
   ]
  },
  {
   "cell_type": "markdown",
   "metadata": {},
   "source": [
    "Que tal si queremos distinguir cada linea? Pues usamos **legend()**, de leyenda..tambien tenemos que agregarles nombres a cada plot"
   ]
  },
  {
   "cell_type": "code",
   "execution_count": null,
   "metadata": {
    "collapsed": false
   },
   "outputs": [],
   "source": [
    "x = np.linspace(0,10,100)\n",
    "y1 = x # una linea\n",
    "y2 = x**2 # cuadramos x\n",
    "plt.plot(x,y1,label=\"Linea\")\n",
    "plt.plot(x,y2,label=\"Cuadrado\")\n",
    "plt.legend()\n",
    "plt.title(\"Dos graficas sencillas\")\n",
    "plt.show()"
   ]
  },
  {
   "cell_type": "markdown",
   "metadata": {},
   "source": [
    "Tambien podemos hacer mas cosas, como dibujar solamente los puntos, o las lineas con los puntos usando **linestyle**:"
   ]
  },
  {
   "cell_type": "code",
   "execution_count": null,
   "metadata": {
    "collapsed": false
   },
   "outputs": [],
   "source": [
    "x = np.linspace(0,10,100)\n",
    "y1 = x # una linea\n",
    "y2 = x**2 # cuadramos x\n",
    "y3 = np.sqrt(x) # sacamos raiz cuadrada a x\n",
    "y4 = np.power(x,1.5) # elevamos x a la potencia 1.5\n",
    "\n",
    "plt.plot(x,y1,label=\"Linea\",linestyle='-') # linea\n",
    "plt.plot(x,y2,label=\"Cuadrado\",linestyle=':') # puntitos\n",
    "plt.plot(x,y3,label=\"Raiz\",linestyle='-.') # linea y punto\n",
    "plt.plot(x,y4,label=\"potencia 1.5\",linestyle='--') # lineas salteadas\n",
    "plt.legend()\n",
    "plt.title(\"Dos graficas sencillas\")\n",
    "plt.show()"
   ]
  },
  {
   "cell_type": "markdown",
   "metadata": {},
   "source": [
    "## Dibujando puntos (scatter)\n",
    "\n",
    "Aveces no queremos dibujar lineas, sino puntos, esto nos da informacion de donde se encuentras datos de manera espacial. Para esto podemos usarlo de la siguiente manera:"
   ]
  },
  {
   "cell_type": "code",
   "execution_count": null,
   "metadata": {
    "collapsed": false
   },
   "outputs": [],
   "source": [
    "N = 50 # numero de puntos\n",
    "x = np.random.rand(N) # numeros aleatorios entre 0 y 1\n",
    "y = np.random.rand(N)\n",
    "plt.scatter(x, y)\n",
    "plt.title(\"Scatter de puntos aleatorios\")\n",
    "plt.show()"
   ]
  },
  {
   "cell_type": "markdown",
   "metadata": {},
   "source": [
    "Pero ademas podemos meter mas informacion, por ejemplo dar colores cada punto, o darle tamanos diferentes:"
   ]
  },
  {
   "cell_type": "code",
   "execution_count": null,
   "metadata": {
    "collapsed": false
   },
   "outputs": [],
   "source": [
    "N = 50 # numero de puntos\n",
    "x = np.random.rand(N) # numeros aleatorios entre 0 y 1\n",
    "y = np.random.rand(N)\n",
    "colores = np.random.rand(N) # colores aleatorios\n",
    "radios= 15 * np.random.rand(N) # numeros aleatorios entre 0 y 15\n",
    "areas = np.pi * radios**2 # la formula de area de un circulo\n",
    "plt.scatter(x, y, s=areas, c=colores, alpha=0.5)\n",
    "plt.title(\"Scatter plot de puntos aleatorios\")\n",
    "plt.show()"
   ]
  },
  {
   "cell_type": "markdown",
   "metadata": {},
   "source": [
    "## Histogramas (**hist**)\n",
    "\n",
    "Los histogramas nos muestran distribuciones de datos, la forma de los datos, nos muestran el numero de datos de diferentes tipos:"
   ]
  },
  {
   "cell_type": "code",
   "execution_count": null,
   "metadata": {
    "collapsed": false
   },
   "outputs": [],
   "source": [
    "N=500\n",
    "x = np.random.rand(N) # numeros aleatorios entre 0 y 1\n",
    "plt.hist(x)\n",
    "plt.title(\"Histograma aleatorio\")\n",
    "plt.show()"
   ]
  },
  {
   "cell_type": "markdown",
   "metadata": {},
   "source": [
    "otro tipo de datos, tomados de una campana de gauss, es decir una distribucion normal:"
   ]
  },
  {
   "cell_type": "code",
   "execution_count": null,
   "metadata": {
    "collapsed": false
   },
   "outputs": [],
   "source": [
    "N=500\n",
    "x = np.random.randn(N)\n",
    "plt.hist(x)\n",
    "plt.title(\"Histograma aleatorio Normal\")\n",
    "plt.show()"
   ]
  },
  {
   "cell_type": "code",
   "execution_count": null,
   "metadata": {
    "collapsed": false
   },
   "outputs": [],
   "source": [
    "N=1000\n",
    "x1 = np.random.randn(N)\n",
    "x2 = 2+2*np.random.randn(N)\n",
    "\n",
    "plt.hist(x1,20,alpha=0.3)\n",
    "plt.hist(x2,20,alpha=0.3)\n",
    "plt.title(\"Histograma de dos distribuciones\")\n",
    "plt.show()"
   ]
  },
  {
   "cell_type": "markdown",
   "metadata": {
    "collapsed": false
   },
   "source": [
    "## Bases de datos en el internet\n",
    "\n",
    "Aveces los datos que queremos se encuentran en el internet. Asumiendo que se encuentran ordenados y en un formato amigable siempre los podemos bajar y guardar como un DataFrame.\n",
    "\n",
    "#### Por ejemplo:\n",
    "\n",
    "Gapminder es una pagina con mas de 500 conjunto de daatos relacionado a indicadores globales como ingresos, producto interno bruto (PIB=GDP) y esperanza de vida.\n",
    "\n",
    "Aqui bajamos la base de datos de esperanza de vida, lo guardamos en memoria y lo lodeamos como un excel:\n",
    "\n",
    "**Ojo!** Aqui usamos *.head()* para imprimir los primeros 5 renglones del dataframe pues son gigantescos los datos."
   ]
  },
  {
   "cell_type": "code",
   "execution_count": 9,
   "metadata": {
    "collapsed": false
   },
   "outputs": [
    {
     "name": "stdout",
     "output_type": "stream",
     "text": [
      "Tamano completo es (260, 217)\n"
     ]
    },
    {
     "data": {
      "text/html": [
       "<div>\n",
       "<table border=\"1\" class=\"dataframe\">\n",
       "  <thead>\n",
       "    <tr style=\"text-align: right;\">\n",
       "      <th></th>\n",
       "      <th>Life expectancy with projections. Yellow is IHME</th>\n",
       "      <th>1800</th>\n",
       "      <th>1801</th>\n",
       "      <th>1802</th>\n",
       "      <th>1803</th>\n",
       "      <th>1804</th>\n",
       "      <th>1805</th>\n",
       "      <th>1806</th>\n",
       "      <th>1807</th>\n",
       "      <th>1808</th>\n",
       "      <th>...</th>\n",
       "      <th>2006</th>\n",
       "      <th>2007</th>\n",
       "      <th>2008</th>\n",
       "      <th>2009</th>\n",
       "      <th>2010</th>\n",
       "      <th>2011</th>\n",
       "      <th>2012</th>\n",
       "      <th>2013</th>\n",
       "      <th>2014</th>\n",
       "      <th>2015</th>\n",
       "    </tr>\n",
       "  </thead>\n",
       "  <tbody>\n",
       "    <tr>\n",
       "      <th>0</th>\n",
       "      <td>Abkhazia</td>\n",
       "      <td>NaN</td>\n",
       "      <td>NaN</td>\n",
       "      <td>NaN</td>\n",
       "      <td>NaN</td>\n",
       "      <td>NaN</td>\n",
       "      <td>NaN</td>\n",
       "      <td>NaN</td>\n",
       "      <td>NaN</td>\n",
       "      <td>NaN</td>\n",
       "      <td>...</td>\n",
       "      <td>NaN</td>\n",
       "      <td>NaN</td>\n",
       "      <td>NaN</td>\n",
       "      <td>NaN</td>\n",
       "      <td>NaN</td>\n",
       "      <td>NaN</td>\n",
       "      <td>NaN</td>\n",
       "      <td>NaN</td>\n",
       "      <td>NaN</td>\n",
       "      <td>NaN</td>\n",
       "    </tr>\n",
       "    <tr>\n",
       "      <th>1</th>\n",
       "      <td>Afghanistan</td>\n",
       "      <td>28.2110</td>\n",
       "      <td>28.200753</td>\n",
       "      <td>28.190507</td>\n",
       "      <td>28.18026</td>\n",
       "      <td>28.170013</td>\n",
       "      <td>28.159767</td>\n",
       "      <td>28.14952</td>\n",
       "      <td>28.139273</td>\n",
       "      <td>28.129027</td>\n",
       "      <td>...</td>\n",
       "      <td>53.2</td>\n",
       "      <td>53.6</td>\n",
       "      <td>54.0</td>\n",
       "      <td>54.5</td>\n",
       "      <td>54.8</td>\n",
       "      <td>55.2</td>\n",
       "      <td>55.5</td>\n",
       "      <td>56.2</td>\n",
       "      <td>56.91</td>\n",
       "      <td>57.63</td>\n",
       "    </tr>\n",
       "    <tr>\n",
       "      <th>2</th>\n",
       "      <td>Akrotiri and Dhekelia</td>\n",
       "      <td>NaN</td>\n",
       "      <td>NaN</td>\n",
       "      <td>NaN</td>\n",
       "      <td>NaN</td>\n",
       "      <td>NaN</td>\n",
       "      <td>NaN</td>\n",
       "      <td>NaN</td>\n",
       "      <td>NaN</td>\n",
       "      <td>NaN</td>\n",
       "      <td>...</td>\n",
       "      <td>NaN</td>\n",
       "      <td>NaN</td>\n",
       "      <td>NaN</td>\n",
       "      <td>NaN</td>\n",
       "      <td>NaN</td>\n",
       "      <td>NaN</td>\n",
       "      <td>NaN</td>\n",
       "      <td>NaN</td>\n",
       "      <td>NaN</td>\n",
       "      <td>NaN</td>\n",
       "    </tr>\n",
       "    <tr>\n",
       "      <th>3</th>\n",
       "      <td>Albania</td>\n",
       "      <td>35.4000</td>\n",
       "      <td>35.400000</td>\n",
       "      <td>35.400000</td>\n",
       "      <td>35.40000</td>\n",
       "      <td>35.400000</td>\n",
       "      <td>35.400000</td>\n",
       "      <td>35.40000</td>\n",
       "      <td>35.400000</td>\n",
       "      <td>35.400000</td>\n",
       "      <td>...</td>\n",
       "      <td>74.5</td>\n",
       "      <td>74.7</td>\n",
       "      <td>74.9</td>\n",
       "      <td>75.0</td>\n",
       "      <td>75.2</td>\n",
       "      <td>75.5</td>\n",
       "      <td>75.7</td>\n",
       "      <td>75.8</td>\n",
       "      <td>75.90</td>\n",
       "      <td>76.00</td>\n",
       "    </tr>\n",
       "    <tr>\n",
       "      <th>4</th>\n",
       "      <td>Algeria</td>\n",
       "      <td>28.8224</td>\n",
       "      <td>28.822400</td>\n",
       "      <td>28.822400</td>\n",
       "      <td>28.82240</td>\n",
       "      <td>28.822400</td>\n",
       "      <td>28.822400</td>\n",
       "      <td>28.82240</td>\n",
       "      <td>28.822400</td>\n",
       "      <td>28.822400</td>\n",
       "      <td>...</td>\n",
       "      <td>74.8</td>\n",
       "      <td>75.0</td>\n",
       "      <td>75.3</td>\n",
       "      <td>75.6</td>\n",
       "      <td>75.9</td>\n",
       "      <td>76.1</td>\n",
       "      <td>76.2</td>\n",
       "      <td>76.3</td>\n",
       "      <td>76.40</td>\n",
       "      <td>76.50</td>\n",
       "    </tr>\n",
       "  </tbody>\n",
       "</table>\n",
       "<p>5 rows × 217 columns</p>\n",
       "</div>"
      ],
      "text/plain": [
       "  Life expectancy with projections. Yellow is IHME     1800       1801  \\\n",
       "0                                         Abkhazia      NaN        NaN   \n",
       "1                                      Afghanistan  28.2110  28.200753   \n",
       "2                            Akrotiri and Dhekelia      NaN        NaN   \n",
       "3                                          Albania  35.4000  35.400000   \n",
       "4                                          Algeria  28.8224  28.822400   \n",
       "\n",
       "        1802      1803       1804       1805      1806       1807       1808  \\\n",
       "0        NaN       NaN        NaN        NaN       NaN        NaN        NaN   \n",
       "1  28.190507  28.18026  28.170013  28.159767  28.14952  28.139273  28.129027   \n",
       "2        NaN       NaN        NaN        NaN       NaN        NaN        NaN   \n",
       "3  35.400000  35.40000  35.400000  35.400000  35.40000  35.400000  35.400000   \n",
       "4  28.822400  28.82240  28.822400  28.822400  28.82240  28.822400  28.822400   \n",
       "\n",
       "   ...    2006  2007  2008  2009  2010  2011  2012  2013   2014   2015  \n",
       "0  ...     NaN   NaN   NaN   NaN   NaN   NaN   NaN   NaN    NaN    NaN  \n",
       "1  ...    53.2  53.6  54.0  54.5  54.8  55.2  55.5  56.2  56.91  57.63  \n",
       "2  ...     NaN   NaN   NaN   NaN   NaN   NaN   NaN   NaN    NaN    NaN  \n",
       "3  ...    74.5  74.7  74.9  75.0  75.2  75.5  75.7  75.8  75.90  76.00  \n",
       "4  ...    74.8  75.0  75.3  75.6  75.9  76.1  76.2  76.3  76.40  76.50  \n",
       "\n",
       "[5 rows x 217 columns]"
      ]
     },
     "execution_count": 9,
     "metadata": {},
     "output_type": "execute_result"
    }
   ],
   "source": [
    "xurl=\"http://spreadsheets.google.com/pub?key=phAwcNAVuyj2tPLxKvvnNPA&output=xls\"\n",
    "df=pd.read_excel(xurl)\n",
    "print(\"Tamano completo es %s\"%str(df.shape))\n",
    "df.head()"
   ]
  },
  {
   "cell_type": "markdown",
   "metadata": {},
   "source": [
    "## Arreglando los Datos\n",
    "Head nos permite darle un vistazo a los datos... asi a puro ojo vemos que las columnas son anios y los renglones los paises...ponder reversar esto con **transpose**, pero tambien vemos que esta con indices enumerados, prefeririamos que los indices fueran los paises, entonces los cambiamos y tiramos la columna que ya no sirve...al final un head para ver que todo esta bien... a este juego de limpiar y arreglar datos se llama *\"Data Wrangling\"*"
   ]
  },
  {
   "cell_type": "code",
   "execution_count": 10,
   "metadata": {
    "collapsed": false
   },
   "outputs": [
    {
     "data": {
      "text/html": [
       "<div>\n",
       "<table border=\"1\" class=\"dataframe\">\n",
       "  <thead>\n",
       "    <tr style=\"text-align: right;\">\n",
       "      <th>Life expectancy</th>\n",
       "      <th>Abkhazia</th>\n",
       "      <th>Afghanistan</th>\n",
       "      <th>Akrotiri and Dhekelia</th>\n",
       "      <th>Albania</th>\n",
       "      <th>Algeria</th>\n",
       "      <th>American Samoa</th>\n",
       "      <th>Andorra</th>\n",
       "      <th>Angola</th>\n",
       "      <th>Anguilla</th>\n",
       "      <th>Antigua and Barbuda</th>\n",
       "      <th>...</th>\n",
       "      <th>Vietnam</th>\n",
       "      <th>Virgin Islands (U.S.)</th>\n",
       "      <th>North Yemen (former)</th>\n",
       "      <th>South Yemen (former)</th>\n",
       "      <th>Yemen</th>\n",
       "      <th>Yugoslavia</th>\n",
       "      <th>Zambia</th>\n",
       "      <th>Zimbabwe</th>\n",
       "      <th>Åland</th>\n",
       "      <th>South Sudan</th>\n",
       "    </tr>\n",
       "  </thead>\n",
       "  <tbody>\n",
       "    <tr>\n",
       "      <th>1800</th>\n",
       "      <td>NaN</td>\n",
       "      <td>28.211000</td>\n",
       "      <td>NaN</td>\n",
       "      <td>35.4</td>\n",
       "      <td>28.8224</td>\n",
       "      <td>NaN</td>\n",
       "      <td>NaN</td>\n",
       "      <td>26.98</td>\n",
       "      <td>NaN</td>\n",
       "      <td>33.536</td>\n",
       "      <td>...</td>\n",
       "      <td>32</td>\n",
       "      <td>33.403</td>\n",
       "      <td>NaN</td>\n",
       "      <td>NaN</td>\n",
       "      <td>23.387</td>\n",
       "      <td>NaN</td>\n",
       "      <td>32.6</td>\n",
       "      <td>33.7</td>\n",
       "      <td>NaN</td>\n",
       "      <td>26.665</td>\n",
       "    </tr>\n",
       "    <tr>\n",
       "      <th>1801</th>\n",
       "      <td>NaN</td>\n",
       "      <td>28.200753</td>\n",
       "      <td>NaN</td>\n",
       "      <td>35.4</td>\n",
       "      <td>28.8224</td>\n",
       "      <td>NaN</td>\n",
       "      <td>NaN</td>\n",
       "      <td>26.98</td>\n",
       "      <td>NaN</td>\n",
       "      <td>33.536</td>\n",
       "      <td>...</td>\n",
       "      <td>32</td>\n",
       "      <td>33.403</td>\n",
       "      <td>NaN</td>\n",
       "      <td>NaN</td>\n",
       "      <td>23.387</td>\n",
       "      <td>NaN</td>\n",
       "      <td>32.6</td>\n",
       "      <td>33.7</td>\n",
       "      <td>NaN</td>\n",
       "      <td>26.665</td>\n",
       "    </tr>\n",
       "    <tr>\n",
       "      <th>1802</th>\n",
       "      <td>NaN</td>\n",
       "      <td>28.190507</td>\n",
       "      <td>NaN</td>\n",
       "      <td>35.4</td>\n",
       "      <td>28.8224</td>\n",
       "      <td>NaN</td>\n",
       "      <td>NaN</td>\n",
       "      <td>26.98</td>\n",
       "      <td>NaN</td>\n",
       "      <td>33.536</td>\n",
       "      <td>...</td>\n",
       "      <td>32</td>\n",
       "      <td>33.403</td>\n",
       "      <td>NaN</td>\n",
       "      <td>NaN</td>\n",
       "      <td>23.387</td>\n",
       "      <td>NaN</td>\n",
       "      <td>32.6</td>\n",
       "      <td>33.7</td>\n",
       "      <td>NaN</td>\n",
       "      <td>26.665</td>\n",
       "    </tr>\n",
       "    <tr>\n",
       "      <th>1803</th>\n",
       "      <td>NaN</td>\n",
       "      <td>28.180260</td>\n",
       "      <td>NaN</td>\n",
       "      <td>35.4</td>\n",
       "      <td>28.8224</td>\n",
       "      <td>NaN</td>\n",
       "      <td>NaN</td>\n",
       "      <td>26.98</td>\n",
       "      <td>NaN</td>\n",
       "      <td>33.536</td>\n",
       "      <td>...</td>\n",
       "      <td>32</td>\n",
       "      <td>33.403</td>\n",
       "      <td>NaN</td>\n",
       "      <td>NaN</td>\n",
       "      <td>23.387</td>\n",
       "      <td>NaN</td>\n",
       "      <td>32.6</td>\n",
       "      <td>33.7</td>\n",
       "      <td>NaN</td>\n",
       "      <td>26.665</td>\n",
       "    </tr>\n",
       "    <tr>\n",
       "      <th>1804</th>\n",
       "      <td>NaN</td>\n",
       "      <td>28.170013</td>\n",
       "      <td>NaN</td>\n",
       "      <td>35.4</td>\n",
       "      <td>28.8224</td>\n",
       "      <td>NaN</td>\n",
       "      <td>NaN</td>\n",
       "      <td>26.98</td>\n",
       "      <td>NaN</td>\n",
       "      <td>33.536</td>\n",
       "      <td>...</td>\n",
       "      <td>32</td>\n",
       "      <td>33.403</td>\n",
       "      <td>NaN</td>\n",
       "      <td>NaN</td>\n",
       "      <td>23.387</td>\n",
       "      <td>NaN</td>\n",
       "      <td>32.6</td>\n",
       "      <td>33.7</td>\n",
       "      <td>NaN</td>\n",
       "      <td>26.665</td>\n",
       "    </tr>\n",
       "  </tbody>\n",
       "</table>\n",
       "<p>5 rows × 260 columns</p>\n",
       "</div>"
      ],
      "text/plain": [
       "Life expectancy  Abkhazia  Afghanistan  Akrotiri and Dhekelia  Albania  \\\n",
       "1800                  NaN    28.211000                    NaN     35.4   \n",
       "1801                  NaN    28.200753                    NaN     35.4   \n",
       "1802                  NaN    28.190507                    NaN     35.4   \n",
       "1803                  NaN    28.180260                    NaN     35.4   \n",
       "1804                  NaN    28.170013                    NaN     35.4   \n",
       "\n",
       "Life expectancy  Algeria  American Samoa  Andorra  Angola  Anguilla  \\\n",
       "1800             28.8224             NaN      NaN   26.98       NaN   \n",
       "1801             28.8224             NaN      NaN   26.98       NaN   \n",
       "1802             28.8224             NaN      NaN   26.98       NaN   \n",
       "1803             28.8224             NaN      NaN   26.98       NaN   \n",
       "1804             28.8224             NaN      NaN   26.98       NaN   \n",
       "\n",
       "Life expectancy  Antigua and Barbuda     ...       Vietnam  \\\n",
       "1800                          33.536     ...            32   \n",
       "1801                          33.536     ...            32   \n",
       "1802                          33.536     ...            32   \n",
       "1803                          33.536     ...            32   \n",
       "1804                          33.536     ...            32   \n",
       "\n",
       "Life expectancy  Virgin Islands (U.S.)  North Yemen (former)  \\\n",
       "1800                            33.403                   NaN   \n",
       "1801                            33.403                   NaN   \n",
       "1802                            33.403                   NaN   \n",
       "1803                            33.403                   NaN   \n",
       "1804                            33.403                   NaN   \n",
       "\n",
       "Life expectancy  South Yemen (former)   Yemen  Yugoslavia  Zambia  Zimbabwe  \\\n",
       "1800                              NaN  23.387         NaN    32.6      33.7   \n",
       "1801                              NaN  23.387         NaN    32.6      33.7   \n",
       "1802                              NaN  23.387         NaN    32.6      33.7   \n",
       "1803                              NaN  23.387         NaN    32.6      33.7   \n",
       "1804                              NaN  23.387         NaN    32.6      33.7   \n",
       "\n",
       "Life expectancy  Åland  South Sudan  \n",
       "1800               NaN       26.665  \n",
       "1801               NaN       26.665  \n",
       "1802               NaN       26.665  \n",
       "1803               NaN       26.665  \n",
       "1804               NaN       26.665  \n",
       "\n",
       "[5 rows x 260 columns]"
      ]
     },
     "execution_count": 10,
     "metadata": {},
     "output_type": "execute_result"
    }
   ],
   "source": [
    "df = df.rename(columns={'Life expectancy with projections. Yellow is IHME': 'Life expectancy'})\n",
    "df.index=df['Life expectancy']\n",
    "df=df.drop('Life expectancy',axis=1)\n",
    "df=df.transpose()\n",
    "df.head()"
   ]
  },
  {
   "cell_type": "markdown",
   "metadata": {},
   "source": [
    "Entonces ahora podemos ver la calidad de vida en Mexico atravez del tiempo:"
   ]
  },
  {
   "cell_type": "code",
   "execution_count": null,
   "metadata": {
    "collapsed": false
   },
   "outputs": [],
   "source": [
    "df['Mexico'].plot()\n",
    "print(\"== Esperanza de Vida en Mexico ==\")"
   ]
  },
  {
   "cell_type": "markdown",
   "metadata": {},
   "source": [
    "de esta visualizacion vemos que la caldiad ha ido subiendo apartir de 1900, ademas vemos mucho movimiento entre 1890 y 1950, justo cuando habia muchas guerras en Mexico.\n",
    "\n",
    "Tambien podemos seleccionar un rango selecto de años, vemos que este rango es interesante entonces"
   ]
  },
  {
   "cell_type": "code",
   "execution_count": null,
   "metadata": {
    "collapsed": false
   },
   "outputs": [],
   "source": [
    "subdf=df[ df.index >= 1890 ]\n",
    "subdf=subdf[ subdf.index <= 1955 ]\n",
    "subdf['Mexico'].plot()\n",
    "plt.title(\"Esperanza de Vida en Mexico entre 1890 y 1955\")\n",
    "plt.show()"
   ]
  },
  {
   "cell_type": "markdown",
   "metadata": {},
   "source": [
    "o sin tanto rollo, podemos restringuir el rango de nuestra grafica con **xlim** (los limites del eje X)"
   ]
  },
  {
   "cell_type": "code",
   "execution_count": null,
   "metadata": {
    "collapsed": false
   },
   "outputs": [],
   "source": [
    "df['Mexico'].plot()\n",
    "plt.xlim(1890,1955)\n",
    "plt.title(\"Esperanza de Vida en Mexico entre 1890 y 1955\")\n",
    "plt.show()"
   ]
  },
  {
   "cell_type": "markdown",
   "metadata": {},
   "source": [
    "Tambien es importante ver como esto se compara con otros paises, podemos comparar con todo Norteamerica:"
   ]
  },
  {
   "cell_type": "code",
   "execution_count": null,
   "metadata": {
    "collapsed": false
   },
   "outputs": [],
   "source": [
    "df[['Mexico','United States','Canada']].plot()\n",
    "plt.title(\"Esperanza de Vida en Norte-America\")\n",
    "plt.show()"
   ]
  },
  {
   "cell_type": "markdown",
   "metadata": {},
   "source": [
    "## Ejercicios:\n",
    "\n",
    "* Compara la esperanza de vida en Latino America (o al menos algunos paises de ella).\n",
    "* Solo grafica los años entre 1900 y 2000, tambien 2000-2014.\n",
    "* Quita los paises que tienen valores 'Nan', checa la funcion **.dropna()**.\n",
    "* Saca estadisticas para paises Latino Americanos.\n",
    "* Lo mismo de arriba para diferentes periodos 1800-1900, 1900-2000, 2000-2014"
   ]
  },
  {
   "cell_type": "code",
   "execution_count": null,
   "metadata": {
    "collapsed": true
   },
   "outputs": [],
   "source": []
  }
 ],
 "metadata": {
  "kernelspec": {
   "display_name": "Python 3",
   "language": "python",
   "name": "python3"
  },
  "language_info": {
   "codemirror_mode": {
    "name": "ipython",
    "version": 3
   },
   "file_extension": ".py",
   "mimetype": "text/x-python",
   "name": "python",
   "nbconvert_exporter": "python",
   "pygments_lexer": "ipython3",
   "version": "3.5.1"
  },
  "latex_envs": {
   "bibliofile": "biblio.bib",
   "cite_by": "apalike",
   "current_citInitial": 1,
   "eqLabelWithNumbers": true,
   "eqNumInitial": 0
  }
 },
 "nbformat": 4,
 "nbformat_minor": 0
}
