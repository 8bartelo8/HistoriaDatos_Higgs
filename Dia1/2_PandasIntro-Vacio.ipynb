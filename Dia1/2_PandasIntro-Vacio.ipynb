{
 "cells": [
  {
   "cell_type": "markdown",
   "metadata": {},
   "source": [
    "# Hola Pandas!\n",
    "\n",
    "## Pandas = Manejo de informacion facil!\n",
    "### Que es pandas?\n",
    "\n",
    "![alt text](http://pandas.pydata.org/_static/pandas_logo.png)\n",
    "\n",
    "Pandas es un libreria de alto rendimiento, facil de usar para manejar estructuras de datos y analizarlas.\n",
    "\n",
    "Checate mas en :\n",
    "\n",
    "* Pagina oficial : http://pandas.pydata.org/\n",
    "* Un tour de diez minutos con Pandas: http://vimeo.com/59324550\n",
    "\n",
    "Para usar pandas, solo tiene que importar el modulo ..tambien te conviene importar numpy y matplotlib..juega\n",
    "n muy bien con pandas"
   ]
  },
  {
   "cell_type": "code",
   "execution_count": 1,
   "metadata": {
    "collapsed": false
   },
   "outputs": [],
   "source": [
    "import pandas as pd\n",
    "import numpy as np # modulo de computo numerico\n",
    "import matplotlib.pyplot as plt # modulo de graficas\n",
    "# esta linea hace que las graficas salgan en el notebook\n",
    "%matplotlib inline"
   ]
  },
  {
   "cell_type": "markdown",
   "metadata": {},
   "source": [
    "### Y yo para que quiero eso? De que sirve pandas?\n",
    "\n",
    "Pandas te sirve si quieres:\n",
    "\n",
    "* Trabajar con datos de manera facil.\n",
    "* Explorar un conjunto de datos de manera rapida, enterder los datos que tienes.\n",
    "* Facilmente manipular informacion, por ejemplo sacar estadisticas.\n",
    "* Graficas patrones y distribuciones de datos.\n",
    "* Trabajar con Exceles, base de datos, sin tener que suar esas herramientas.\n",
    "\n",
    "Y mucho mas...\n",
    "\n",
    "\n",
    "### El DataFrame en Pandas\n",
    "\n",
    "Una estructura de datos en Pandas se llama un DataFrame, con el manejamos todos los datos y aplicamos tranformaciones.\n",
    "\n",
    "Asi creamos un DataFrame vacio:"
   ]
  },
  {
   "cell_type": "code",
   "execution_count": 4,
   "metadata": {
    "collapsed": false
   },
   "outputs": [
    {
     "data": {
      "text/html": [
       "<div>\n",
       "<table border=\"1\" class=\"dataframe\">\n",
       "  <thead>\n",
       "    <tr style=\"text-align: right;\">\n",
       "      <th></th>\n",
       "    </tr>\n",
       "  </thead>\n",
       "  <tbody>\n",
       "  </tbody>\n",
       "</table>\n",
       "</div>"
      ],
      "text/plain": [
       "Empty DataFrame\n",
       "Columns: []\n",
       "Index: []"
      ]
     },
     "execution_count": 4,
     "metadata": {},
     "output_type": "execute_result"
    }
   ],
   "source": [
    "df = pd.DataFrame()\n",
    "df"
   ]
  },
  {
   "cell_type": "markdown",
   "metadata": {},
   "source": [
    "No nos sirve nada vacio, entonces agreguemos le informacion!\n",
    "### LLenando informacion con un Dataframe\n",
    "![](https://c1.staticflickr.com/1/4/5903269_4adb837fb8.jpg)\n",
    "#### Situacion:\n",
    "Suponte que eres un taquero y quieres hacer un dataframe de cuantos tacos vendes en una semana igual y para ver que tacos son mas populares y echarle mas ganas en ellos, \n",
    "#### Asumiremos:\n",
    "* Que vende tacos de Pastor, Tripa y Chorizo\n",
    "* Hay 7 dias en una semana de  Lunes a Domingo (obvio)\n",
    "* Crearemos el numero de tacos como numeros enteros aleatorios (np.random.randint)\n",
    "\n",
    "** Ojo! ** Si ponemos la variable de un dataframe al final de una celda no saldra una tabla con los datos, eah!"
   ]
  },
  {
   "cell_type": "code",
   "execution_count": 9,
   "metadata": {
    "collapsed": false
   },
   "outputs": [
    {
     "data": {
      "text/html": [
       "<div>\n",
       "<table border=\"1\" class=\"dataframe\">\n",
       "  <thead>\n",
       "    <tr style=\"text-align: right;\">\n",
       "      <th></th>\n",
       "      <th>Tripas</th>\n",
       "      <th>Chorizo</th>\n",
       "      <th>Pastor</th>\n",
       "    </tr>\n",
       "  </thead>\n",
       "  <tbody>\n",
       "    <tr>\n",
       "      <th>L</th>\n",
       "      <td>35</td>\n",
       "      <td>50</td>\n",
       "      <td>10</td>\n",
       "    </tr>\n",
       "    <tr>\n",
       "      <th>Mar</th>\n",
       "      <td>99</td>\n",
       "      <td>89</td>\n",
       "      <td>11</td>\n",
       "    </tr>\n",
       "    <tr>\n",
       "      <th>Mier</th>\n",
       "      <td>5</td>\n",
       "      <td>99</td>\n",
       "      <td>61</td>\n",
       "    </tr>\n",
       "    <tr>\n",
       "      <th>J</th>\n",
       "      <td>76</td>\n",
       "      <td>8</td>\n",
       "      <td>66</td>\n",
       "    </tr>\n",
       "    <tr>\n",
       "      <th>V</th>\n",
       "      <td>97</td>\n",
       "      <td>50</td>\n",
       "      <td>59</td>\n",
       "    </tr>\n",
       "    <tr>\n",
       "      <th>S</th>\n",
       "      <td>28</td>\n",
       "      <td>34</td>\n",
       "      <td>69</td>\n",
       "    </tr>\n",
       "    <tr>\n",
       "      <th>D</th>\n",
       "      <td>74</td>\n",
       "      <td>39</td>\n",
       "      <td>92</td>\n",
       "    </tr>\n",
       "  </tbody>\n",
       "</table>\n",
       "</div>"
      ],
      "text/plain": [
       "      Tripas  Chorizo  Pastor\n",
       "L         35       50      10\n",
       "Mar       99       89      11\n",
       "Mier       5       99      61\n",
       "J         76        8      66\n",
       "V         97       50      59\n",
       "S         28       34      69\n",
       "D         74       39      92"
      ]
     },
     "execution_count": 9,
     "metadata": {},
     "output_type": "execute_result"
    }
   ],
   "source": [
    "df = pd.DataFrame()\n",
    "df['Tripas'] = np.random.randint(100,size=7)\n",
    "df['Chorizo'] = np.random.randint(100,size=7)\n",
    "df['Pastor'] = np.random.randint(100,size=7)\n",
    "\n",
    "df.index = ['L','Mar','Mier','J','V','S','D']\n",
    "df"
   ]
  },
  {
   "cell_type": "markdown",
   "metadata": {},
   "source": [
    "### Jugando con el Dataframe!\n",
    "#### Estadisticas\n",
    "Ya con teniendo un dataframe podemos hacer muchas cosas, por ejemplo sacar estadisticas, de medias, desviaciones estandares, cuantos elementos:"
   ]
  },
  {
   "cell_type": "code",
   "execution_count": 10,
   "metadata": {
    "collapsed": false
   },
   "outputs": [
    {
     "data": {
      "text/html": [
       "<div>\n",
       "<table border=\"1\" class=\"dataframe\">\n",
       "  <thead>\n",
       "    <tr style=\"text-align: right;\">\n",
       "      <th></th>\n",
       "      <th>Tripas</th>\n",
       "      <th>Chorizo</th>\n",
       "      <th>Pastor</th>\n",
       "    </tr>\n",
       "  </thead>\n",
       "  <tbody>\n",
       "    <tr>\n",
       "      <th>count</th>\n",
       "      <td>7.000000</td>\n",
       "      <td>7.000000</td>\n",
       "      <td>7.000000</td>\n",
       "    </tr>\n",
       "    <tr>\n",
       "      <th>mean</th>\n",
       "      <td>59.142857</td>\n",
       "      <td>52.714286</td>\n",
       "      <td>52.571429</td>\n",
       "    </tr>\n",
       "    <tr>\n",
       "      <th>std</th>\n",
       "      <td>36.539607</td>\n",
       "      <td>31.652879</td>\n",
       "      <td>30.707530</td>\n",
       "    </tr>\n",
       "    <tr>\n",
       "      <th>min</th>\n",
       "      <td>5.000000</td>\n",
       "      <td>8.000000</td>\n",
       "      <td>10.000000</td>\n",
       "    </tr>\n",
       "    <tr>\n",
       "      <th>25%</th>\n",
       "      <td>31.500000</td>\n",
       "      <td>36.500000</td>\n",
       "      <td>35.000000</td>\n",
       "    </tr>\n",
       "    <tr>\n",
       "      <th>50%</th>\n",
       "      <td>74.000000</td>\n",
       "      <td>50.000000</td>\n",
       "      <td>61.000000</td>\n",
       "    </tr>\n",
       "    <tr>\n",
       "      <th>75%</th>\n",
       "      <td>86.500000</td>\n",
       "      <td>69.500000</td>\n",
       "      <td>67.500000</td>\n",
       "    </tr>\n",
       "    <tr>\n",
       "      <th>max</th>\n",
       "      <td>99.000000</td>\n",
       "      <td>99.000000</td>\n",
       "      <td>92.000000</td>\n",
       "    </tr>\n",
       "  </tbody>\n",
       "</table>\n",
       "</div>"
      ],
      "text/plain": [
       "          Tripas    Chorizo     Pastor\n",
       "count   7.000000   7.000000   7.000000\n",
       "mean   59.142857  52.714286  52.571429\n",
       "std    36.539607  31.652879  30.707530\n",
       "min     5.000000   8.000000  10.000000\n",
       "25%    31.500000  36.500000  35.000000\n",
       "50%    74.000000  50.000000  61.000000\n",
       "75%    86.500000  69.500000  67.500000\n",
       "max    99.000000  99.000000  92.000000"
      ]
     },
     "execution_count": 10,
     "metadata": {},
     "output_type": "execute_result"
    }
   ],
   "source": [
    "df.describe()"
   ]
  },
  {
   "cell_type": "markdown",
   "metadata": {},
   "source": [
    "pero talvez solo queramos estadisticas de Pastor, entonces seria:"
   ]
  },
  {
   "cell_type": "code",
   "execution_count": 11,
   "metadata": {
    "collapsed": false
   },
   "outputs": [
    {
     "data": {
      "text/plain": [
       "count     7.000000\n",
       "mean     52.571429\n",
       "std      30.707530\n",
       "min      10.000000\n",
       "25%      35.000000\n",
       "50%      61.000000\n",
       "75%      67.500000\n",
       "max      92.000000\n",
       "Name: Pastor, dtype: float64"
      ]
     },
     "execution_count": 11,
     "metadata": {},
     "output_type": "execute_result"
    }
   ],
   "source": [
    "df['Pastor'].describe()"
   ]
  },
  {
   "cell_type": "markdown",
   "metadata": {},
   "source": [
    "o talvez solo nos interese del Lunes:\n",
    "\n",
    "** Ojo! ** Tenemos que usar *.ix* para seleccionar un renglon"
   ]
  },
  {
   "cell_type": "code",
   "execution_count": 13,
   "metadata": {
    "collapsed": false
   },
   "outputs": [
    {
     "data": {
      "text/plain": [
       "count     3.000000\n",
       "mean     31.666667\n",
       "std      20.207259\n",
       "min      10.000000\n",
       "25%      22.500000\n",
       "50%      35.000000\n",
       "75%      42.500000\n",
       "max      50.000000\n",
       "Name: L, dtype: float64"
      ]
     },
     "execution_count": 13,
     "metadata": {},
     "output_type": "execute_result"
    }
   ],
   "source": [
    "df.ix['L'].describe()"
   ]
  },
  {
   "cell_type": "markdown",
   "metadata": {},
   "source": [
    "#### Grafica de cajas 'Boxplot'\n",
    "\n",
    "Un boxplot nos da mucha informacion:\n",
    "* Cada caja esta centrada en la mediana\n",
    "* Tiene de alto la desviacion estandar entonces nos dice donde se encuentra el 60% de los datos.\n",
    "* Tiene los minimos y maximos de cada dato."
   ]
  },
  {
   "cell_type": "code",
   "execution_count": 14,
   "metadata": {
    "collapsed": false
   },
   "outputs": [
    {
     "name": "stderr",
     "output_type": "stream",
     "text": [
      "/usr/local/lib/python2.7/site-packages/ipykernel/__main__.py:1: FutureWarning: \n",
      "The default value for 'return_type' will change to 'axes' in a future release.\n",
      " To use the future behavior now, set return_type='axes'.\n",
      " To keep the previous behavior and silence this warning, set return_type='dict'.\n",
      "  if __name__ == '__main__':\n"
     ]
    },
    {
     "data": {
      "text/plain": [
       "{'boxes': [<matplotlib.lines.Line2D at 0x10ff47dd0>,\n",
       "  <matplotlib.lines.Line2D at 0x10ff72750>,\n",
       "  <matplotlib.lines.Line2D at 0x10ff93390>],\n",
       " 'caps': [<matplotlib.lines.Line2D at 0x10ff57dd0>,\n",
       "  <matplotlib.lines.Line2D at 0x10ff66450>,\n",
       "  <matplotlib.lines.Line2D at 0x10ff7ea10>,\n",
       "  <matplotlib.lines.Line2D at 0x10ff88090>,\n",
       "  <matplotlib.lines.Line2D at 0x10ff9f650>,\n",
       "  <matplotlib.lines.Line2D at 0x10ff9fc90>],\n",
       " 'fliers': [<matplotlib.lines.Line2D at 0x10ff72110>,\n",
       "  <matplotlib.lines.Line2D at 0x10ff88d10>,\n",
       "  <matplotlib.lines.Line2D at 0x10fef9c90>],\n",
       " 'means': [],\n",
       " 'medians': [<matplotlib.lines.Line2D at 0x10ff66a90>,\n",
       "  <matplotlib.lines.Line2D at 0x10ff886d0>,\n",
       "  <matplotlib.lines.Line2D at 0x10ff08650>],\n",
       " 'whiskers': [<matplotlib.lines.Line2D at 0x10ff570d0>,\n",
       "  <matplotlib.lines.Line2D at 0x10ff57790>,\n",
       "  <matplotlib.lines.Line2D at 0x10ff72d50>,\n",
       "  <matplotlib.lines.Line2D at 0x10ff7e3d0>,\n",
       "  <matplotlib.lines.Line2D at 0x10ff93990>,\n",
       "  <matplotlib.lines.Line2D at 0x10ff93fd0>]}"
      ]
     },
     "execution_count": 14,
     "metadata": {},
     "output_type": "execute_result"
    },
    {
     "data": {
      "image/png": "[encoded data removed]",
      "text/plain": [
       "<matplotlib.figure.Figure at 0x10fd68990>"
      ]
     },
     "metadata": {},
     "output_type": "display_data"
    }
   ],
   "source": [
    "df.boxplot()"
   ]
  },
  {
   "cell_type": "markdown",
   "metadata": {},
   "source": [
    "#### Combinando columnas\n",
    "Que tal si queremos saber cuantos tacos vendimos en total?\n",
    "Pues solamente sumamos las columnas:"
   ]
  },
  {
   "cell_type": "code",
   "execution_count": 17,
   "metadata": {
    "collapsed": false
   },
   "outputs": [
    {
     "data": {
      "text/html": [
       "<div>\n",
       "<table border=\"1\" class=\"dataframe\">\n",
       "  <thead>\n",
       "    <tr style=\"text-align: right;\">\n",
       "      <th></th>\n",
       "      <th>Tripas</th>\n",
       "      <th>Chorizo</th>\n",
       "      <th>Pastor</th>\n",
       "      <th>Total</th>\n",
       "    </tr>\n",
       "  </thead>\n",
       "  <tbody>\n",
       "    <tr>\n",
       "      <th>L</th>\n",
       "      <td>35</td>\n",
       "      <td>50</td>\n",
       "      <td>10</td>\n",
       "      <td>95</td>\n",
       "    </tr>\n",
       "    <tr>\n",
       "      <th>Mar</th>\n",
       "      <td>99</td>\n",
       "      <td>89</td>\n",
       "      <td>11</td>\n",
       "      <td>199</td>\n",
       "    </tr>\n",
       "    <tr>\n",
       "      <th>Mier</th>\n",
       "      <td>5</td>\n",
       "      <td>99</td>\n",
       "      <td>61</td>\n",
       "      <td>165</td>\n",
       "    </tr>\n",
       "    <tr>\n",
       "      <th>J</th>\n",
       "      <td>76</td>\n",
       "      <td>8</td>\n",
       "      <td>66</td>\n",
       "      <td>150</td>\n",
       "    </tr>\n",
       "    <tr>\n",
       "      <th>V</th>\n",
       "      <td>97</td>\n",
       "      <td>50</td>\n",
       "      <td>59</td>\n",
       "      <td>206</td>\n",
       "    </tr>\n",
       "    <tr>\n",
       "      <th>S</th>\n",
       "      <td>28</td>\n",
       "      <td>34</td>\n",
       "      <td>69</td>\n",
       "      <td>131</td>\n",
       "    </tr>\n",
       "    <tr>\n",
       "      <th>D</th>\n",
       "      <td>74</td>\n",
       "      <td>39</td>\n",
       "      <td>92</td>\n",
       "      <td>205</td>\n",
       "    </tr>\n",
       "  </tbody>\n",
       "</table>\n",
       "</div>"
      ],
      "text/plain": [
       "      Tripas  Chorizo  Pastor  Total\n",
       "L         35       50      10     95\n",
       "Mar       99       89      11    199\n",
       "Mier       5       99      61    165\n",
       "J         76        8      66    150\n",
       "V         97       50      59    206\n",
       "S         28       34      69    131\n",
       "D         74       39      92    205"
      ]
     },
     "execution_count": 17,
     "metadata": {},
     "output_type": "execute_result"
    }
   ],
   "source": [
    "df['Total']=df['Pastor']+df['Tripas']+df['Chorizo']\n",
    "df"
   ]
  },
  {
   "cell_type": "markdown",
   "metadata": {},
   "source": [
    "#### Borrando columnas\n",
    "Aveces simplemente queremos reducir el numero de datos, entonces podemos usar el drop:"
   ]
  },
  {
   "cell_type": "code",
   "execution_count": 19,
   "metadata": {
    "collapsed": false
   },
   "outputs": [
    {
     "data": {
      "text/html": [
       "<div>\n",
       "<table border=\"1\" class=\"dataframe\">\n",
       "  <thead>\n",
       "    <tr style=\"text-align: right;\">\n",
       "      <th></th>\n",
       "      <th>Tripas</th>\n",
       "      <th>Chorizo</th>\n",
       "      <th>Total</th>\n",
       "    </tr>\n",
       "  </thead>\n",
       "  <tbody>\n",
       "    <tr>\n",
       "      <th>L</th>\n",
       "      <td>35</td>\n",
       "      <td>50</td>\n",
       "      <td>95</td>\n",
       "    </tr>\n",
       "    <tr>\n",
       "      <th>Mar</th>\n",
       "      <td>99</td>\n",
       "      <td>89</td>\n",
       "      <td>199</td>\n",
       "    </tr>\n",
       "    <tr>\n",
       "      <th>Mier</th>\n",
       "      <td>5</td>\n",
       "      <td>99</td>\n",
       "      <td>165</td>\n",
       "    </tr>\n",
       "    <tr>\n",
       "      <th>J</th>\n",
       "      <td>76</td>\n",
       "      <td>8</td>\n",
       "      <td>150</td>\n",
       "    </tr>\n",
       "    <tr>\n",
       "      <th>V</th>\n",
       "      <td>97</td>\n",
       "      <td>50</td>\n",
       "      <td>206</td>\n",
       "    </tr>\n",
       "    <tr>\n",
       "      <th>S</th>\n",
       "      <td>28</td>\n",
       "      <td>34</td>\n",
       "      <td>131</td>\n",
       "    </tr>\n",
       "    <tr>\n",
       "      <th>D</th>\n",
       "      <td>74</td>\n",
       "      <td>39</td>\n",
       "      <td>205</td>\n",
       "    </tr>\n",
       "  </tbody>\n",
       "</table>\n",
       "</div>"
      ],
      "text/plain": [
       "      Tripas  Chorizo  Total\n",
       "L         35       50     95\n",
       "Mar       99       89    199\n",
       "Mier       5       99    165\n",
       "J         76        8    150\n",
       "V         97       50    206\n",
       "S         28       34    131\n",
       "D         74       39    205"
      ]
     },
     "execution_count": 19,
     "metadata": {},
     "output_type": "execute_result"
    }
   ],
   "source": [
    "df.drop('Pastor',axis=1)"
   ]
  },
  {
   "cell_type": "markdown",
   "metadata": {},
   "source": [
    "#### Exportando a otro formato\n",
    "\n",
    "Aveces queremos guardar nuestros datos (excel, csv, sql database, pickle, json) , por ejemplo a un excel:"
   ]
  },
  {
   "cell_type": "code",
   "execution_count": 19,
   "metadata": {
    "collapsed": false
   },
   "outputs": [],
   "source": [
    "df.to"
   ]
  },
  {
   "cell_type": "markdown",
   "metadata": {},
   "source": [
    "#### Leyendo un DataFrame de otro formato\n",
    "\n",
    "O alrevez, queremos crear un dataframe apartir de un archivo:"
   ]
  },
  {
   "cell_type": "code",
   "execution_count": 20,
   "metadata": {
    "collapsed": false
   },
   "outputs": [],
   "source": []
  },
  {
   "cell_type": "markdown",
   "metadata": {},
   "source": [
    "## Ejercicios:\n",
    "\n",
    "* Inventa un Dataframe de tu propio negocio, que quieres vender? Usa numeros aleatorios.\n",
    "* Saca estadisticas de cada columna.\n",
    "* Crea una nueva columna que toma en cuenta la otra informacion. (Promedio, etc..)"
   ]
  },
  {
   "cell_type": "code",
   "execution_count": 21,
   "metadata": {
    "collapsed": false
   },
   "outputs": [
    {
     "ename": "SyntaxError",
     "evalue": "invalid syntax (<ipython-input-21-e58d666df0d6>, line 1)",
     "output_type": "error",
     "traceback": [
      "\u001b[1;36m  File \u001b[1;32m\"<ipython-input-21-e58d666df0d6>\"\u001b[1;36m, line \u001b[1;32m1\u001b[0m\n\u001b[1;33m    blah blah blah\u001b[0m\n\u001b[1;37m            ^\u001b[0m\n\u001b[1;31mSyntaxError\u001b[0m\u001b[1;31m:\u001b[0m invalid syntax\n"
     ]
    }
   ],
   "source": []
  },
  {
   "cell_type": "code",
   "execution_count": null,
   "metadata": {
    "collapsed": true
   },
   "outputs": [],
   "source": []
  }
 ],
 "metadata": {
  "kernelspec": {
   "display_name": "Python 2",
   "language": "python",
   "name": "python2"
  },
  "language_info": {
   "codemirror_mode": {
    "name": "ipython",
    "version": 2
   },
   "file_extension": ".py",
   "mimetype": "text/x-python",
   "name": "python",
   "nbconvert_exporter": "python",
   "pygments_lexer": "ipython2",
   "version": "2.7.11"
  },
  "latex_envs": {
   "bibliofile": "biblio.bib",
   "cite_by": "apalike",
   "current_citInitial": 1,
   "eqLabelWithNumbers": true,
   "eqNumInitial": 0
  }
 },
 "nbformat": 4,
 "nbformat_minor": 0
}
