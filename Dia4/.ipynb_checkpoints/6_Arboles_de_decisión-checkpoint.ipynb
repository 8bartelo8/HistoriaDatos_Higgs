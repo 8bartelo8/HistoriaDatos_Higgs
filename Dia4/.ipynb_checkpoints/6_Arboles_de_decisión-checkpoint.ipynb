{
 "cells": [
  {
   "cell_type": "markdown",
   "metadata": {},
   "source": [
    "##<i class=\"fa fa-diamond\"></i> Primero pimpea tu libreta!"
   ]
  },
  {
   "cell_type": "code",
   "execution_count": 50,
   "metadata": {
    "collapsed": false,
    "scrolled": true
   },
   "outputs": [
    {
     "data": {
      "text/html": [
       "<style>\n",
       "@import url('http://fonts.googleapis.com/css?family=Lato:200');\n",
       "\n",
       "body {\n",
       "    font-family: Lato, 'Helvetica Neue', Helvetica, Arial, sans-serif;\n",
       "}\n",
       "\n",
       "/* Apple pips */\n",
       "div.CodeMirror-lines {\n",
       "    border: 0px;\n",
       "    padding-bottom: 1em;\n",
       "}\n",
       "\n",
       "/* Based on Sxq-light */\n",
       "\n",
       ".cm-s-ipython {background: #ffffff; color: #701;}\n",
       ".cm-s-ipython span.cm-keyword {line-height: 1em; font-weight: bold; color: #5A5CAD; }\n",
       ".cm-s-ipython span.cm-atom {color: #6C8CD5;}\n",
       ".cm-s-ipython span.cm-number {color: #562;}\n",
       ".cm-s-ipython span.cm-def {text-decoration:underline; color:#164;}\n",
       ".cm-s-ipython span.cm-variable {color: black; }\n",
       ".cm-s-ipython span.cm-variable-2 {color:black;}\n",
       ".cm-s-ipython span.cm-variable-3 {color: black; }\n",
       ".cm-s-ipython span.cm-property {color:green}\n",
       ".cm-s-ipython span.cm-operator {color:green}\n",
       ".cm-s-ipython span.cm-comment {color: #0080FF; font-style: italic;}\n",
       ".cm-s-ipython span.cm-string {color: red;}\n",
       ".cm-s-ipython span.cm-meta {color: yellow;}\n",
       ".cm-s-ipython span.cm-qualifier {color: green}\n",
       ".cm-s-ipython span.cm-builtin {color: #202a16;}\n",
       ".cm-s-ipython span.cm-bracket {color: #337;}\n",
       ".cm-s-ipython span.cm-tag {color: #3F7F7F;}\n",
       ".cm-s-ipython span.cm-attribute {color: #7F007F;}\n",
       ".cm-s-ipython span.cm-error {color: #f00;}\n",
       ".cm-s-ipython .CodeMirror-linenumber {\n",
       "  color: #1d2;\n",
       "}\n",
       ".cm-s-ipython .CodeMirror-activeline-background {background: #e8f2ff !important;}\n",
       ".cm-s-ipython .CodeMirror-matchingbracket {outline:1px solid green;color:black !important;background:yellow;}\n",
       "\n",
       "\n",
       ".cm-s-ipython .CodeMirror-matchingbracket {\n",
       "  text-decoration: underline;\n",
       "  color: red !important;\n",
       "}\n",
       "\n",
       ".CodeMirror-gutters {\n",
       " background-color: #d5d5d5;\n",
       " font-size: 14pt;\n",
       "}\n",
       "\n",
       "/* Formatting code in markdown cells */\n",
       "div.rendered_html code {\n",
       "    font-style: italic;\n",
       "    font-weight: bold;\n",
       "    color: #8C6900;\n",
       "}\n",
       "\n",
       ".CodeMirror {\n",
       "    font-family: \"Inconsolata\",monospace;\n",
       "    font-size: 13pt;\n",
       "}\n",
       "\n",
       "/* Header */\n",
       "\n",
       ".rendered_html {\n",
       "    font-size: 13pt;\n",
       "}\n",
       "\n",
       "\n",
       ".text_cell_render h1 {\n",
       "    font-size: 2.5em;\n",
       "    line-height: 100%;\n",
       "    margin-bottom: 0.1em;\n",
       "    margin-top: 0.1em;\n",
       "    display: block;\n",
       "    color: rgb(44, 62, 120);\n",
       "}\n",
       "\n",
       ".text_cell_render h2 {\n",
       "    line-height: 100%;\n",
       "    font-size: 2em;\n",
       "    margin-bottom: 0.1em;\n",
       "    margin-top: 0.1em;\n",
       "    display: block;\n",
       "    color: rgb(44, 62, 80);\n",
       "}\n",
       "\n",
       ".text_cell_render h3 {\n",
       "    font-size: 1.5em;\n",
       "    margin-bottom: 0.1em;\n",
       "    margin-top: 0.1em;\n",
       "    color: rgb(44, 62, 80);\n",
       "}\n",
       "\n",
       ".text_cell_render h4 {\n",
       "    font-size: 1.25em;\n",
       "    margin-bottom: 0.05em;\n",
       "    margin-top: 0.05em;\n",
       "    color: rgb(180, 62, 80);\n",
       "}\n",
       "/* Header */\n",
       "\n",
       "\n",
       "span#notebook_name {\n",
       "    font-size: 2em;\n",
       "\n",
       "}\n",
       "\n",
       "div#notebook { /* centre the content */\n",
       "    background: #fff; /* white background for content */\n",
       "    margin: auto;\n",
       "}\n",
       "\n",
       "span#notebook_name.ui-state-hover {\n",
       "    color: #ffff00;\n",
       "}\n",
       "\n",
       "\n",
       "\n",
       "\n",
       "/* draw border around running cells */\n",
       "div.cell.border-box-sizing.code_cell.running {\n",
       "    border: 3px solid #F11;\n",
       "}\n",
       "\n",
       "/*Input and output cells formatting*/\n",
       "div.prompt.input_prompt, div.prompt.output_prompt {\n",
       "    color: #FF0000;\n",
       "    border: 0px;\n",
       "    width: 2.5em;\n",
       "    font-size: 1em\n",
       "}\n",
       "\n",
       "div.prompt.input_prompt {\n",
       "    background-color: #FFFFFF;\n",
       "}\n",
       "\n",
       "div.prompt.output_prompt {\n",
       "    background-color: #FFFFFF;\n",
       "    padding-top: 0.5em;\n",
       "    margin: 8px; /*This is for getting the box-shadow property of the parent to display properly;*/\n",
       "}\n",
       "\n",
       "div.prompt {\n",
       "    width: 2.5em;\n",
       "    min-width: 10ex;\n",
       "}\n",
       "\n",
       "\n",
       "\n",
       "div.input_area {\n",
       "    border: 0px;\n",
       "    margin-bottom: 0;\n",
       "}\n",
       "\n",
       "div.out_prompt_overlay.prompt {\n",
       "    width: 1em;\n",
       "    border: 0px;\n",
       "}\n",
       "\n",
       "div.out_prompt_overlay.prompt:hover {\n",
       "    border: 0px;\n",
       "    background-color: #f92672;\n",
       "    box-shadow: none;\n",
       "    -webkit-border-radius: 0;\n",
       "    -moz-border-radius: 0;\n",
       "    border-radius: 0;\n",
       "    opacity:0.2;\n",
       "}\n",
       "\n",
       "div.output_subarea.output_text.output_stream.output_stdout,div.output_subarea.output_text {\n",
       "    margin-left: 0em;\n",
       "    padding-top: 1em;\n",
       "    padding-bottom: 0.5em;\n",
       "    margin-top: 8px; /*This is for getting the box-shadow property of the parent to display properly;*/\n",
       "}\n",
       "\n",
       "div.output_wrapper {\n",
       "    background-color: #FFFFFF;\n",
       "    margin-bottom: 2em;\n",
       "    margin-top: 0;\n",
       "}\n",
       "\n",
       "div.output.vbox {\n",
       "    box-shadow:inset 0 0 8px #4d4d4d;   /* Check the output prompt settings when changing this*/\n",
       "}\n",
       "\n",
       "/* list style */\n",
       "\n",
       "div#header {\n",
       "    background-color:        #000;\n",
       "    color: #f92672;\n",
       "    background-image: url(\"files/Header.png\");\n",
       "    background-repeat:no-repeat;\n",
       "    background-position: center center;\n",
       "    height: 3em;\n",
       "    border: 0px;\n",
       "}\n",
       "\n",
       "</style>"
      ],
      "text/plain": [
       "<IPython.core.display.HTML object>"
      ]
     },
     "execution_count": 50,
     "metadata": {},
     "output_type": "execute_result"
    }
   ],
   "source": [
    "from IPython.core.display import HTML\n",
    "import os\n",
    "def css_styling():\n",
    "    \"\"\"Load default custom.css file from ipython profile\"\"\"\n",
    "    base = os.getcwd()\n",
    "    styles = \"<style>\\n%s\\n</style>\" % (open(os.path.join(base,'files/custom.css'),'r').read())\n",
    "    return HTML(styles)\n",
    "css_styling()"
   ]
  },
  {
   "cell_type": "markdown",
   "metadata": {},
   "source": [
    "# <i class=\"fa fa-book\"></i> Primero librerias"
   ]
  },
  {
   "cell_type": "code",
   "execution_count": null,
   "metadata": {
    "collapsed": true
   },
   "outputs": [],
   "source": [
    "import numpy as np\n",
    "import sklearn as sk\n",
    "import matplotlib.pyplot as plt\n",
    "import sklearn.datasets as datasets\n",
    "import seaborn as sns\n",
    "%matplotlib inline"
   ]
  },
  {
   "cell_type": "markdown",
   "metadata": {
    "collapsed": true
   },
   "source": [
    "# <i class=\"fa fa-database\"></i> Vamos a crear datos de jugete\n",
    "## Crea varios \"blobs\"\n",
    "\n",
    "recuerda la funcion de scikit-learn *datasets.make_blobs()*\n",
    " Tambien prueba\n",
    " \n",
    "```python\n",
    " centers = [[1, 1], [-1, -1], [1, -1]]\n",
    " X,Y = datasets.make_blobs(n_samples=10000, centers=centers, cluster_std=0.6)\n",
    "```\n"
   ]
  },
  {
   "cell_type": "code",
   "execution_count": null,
   "metadata": {
    "collapsed": false
   },
   "outputs": [],
   "source": []
  },
  {
   "cell_type": "markdown",
   "metadata": {
    "collapsed": true
   },
   "source": [
    "# <i class=\"fa fa-tree\"></i> Ahora vamos a crear un modelo de arbol\n",
    "\n",
    "![](https://upload.wikimedia.org/wikipedia/commons/thumb/c/cd/Arbol3.PNG/350px-Arbol3.PNG)\n",
    "\n",
    "podemos usar **DecisionTreeClassifier** como clasificador"
   ]
  },
  {
   "cell_type": "code",
   "execution_count": null,
   "metadata": {
    "collapsed": true
   },
   "outputs": [],
   "source": [
    "from sklearn.tree import DecisionTreeClassifier\n"
   ]
  },
  {
   "cell_type": "markdown",
   "metadata": {},
   "source": [
    "## <i class=\"fa fa-question-circle\"></i> Que parametros y funciones tiene el classificador?\n",
    "### Hint: usa **help(cosa)**!"
   ]
  },
  {
   "cell_type": "code",
   "execution_count": null,
   "metadata": {
    "collapsed": false
   },
   "outputs": [],
   "source": [
    "help(clf)"
   ]
  },
  {
   "cell_type": "markdown",
   "metadata": {},
   "source": [
    " vamos a ajustar nuestro modelo con **fit** y sacar su puntaje con **score**"
   ]
  },
  {
   "cell_type": "code",
   "execution_count": null,
   "metadata": {
    "collapsed": false
   },
   "outputs": [],
   "source": []
  },
  {
   "cell_type": "markdown",
   "metadata": {},
   "source": [
    "# <i class=\"fa fa-question-circle\"></i>\n",
    "## Por que no queremos 100%?\n",
    "###  Este problema se llama \"Overfitting\"\n",
    "\n",
    "![](http://scikit-learn.org/stable/_images/plot_underfitting_overfitting_0011.png)"
   ]
  },
  {
   "cell_type": "markdown",
   "metadata": {},
   "source": [
    "## <i class=\"fa fa-list\"></i>   Pasos para un tipico algoritmo ML:\n",
    "\n",
    "* Crear un modelo\n",
    "* Particionar tus datos en diferentes pedazos (10% entrenar y 90% prueba)\n",
    "* Entrenar tu modelo sobre cada pedazo de los datos\n",
    "* Escogete el mejor modelo o el promedio de los modelos\n",
    "* Predice!\n",
    "\n",
    "Primero vamos a particionar los datos usando ** **"
   ]
  },
  {
   "cell_type": "code",
   "execution_count": null,
   "metadata": {
    "collapsed": false
   },
   "outputs": [],
   "source": [
    "from sklearn.cross_validation import train_test_split\n"
   ]
  },
  {
   "cell_type": "markdown",
   "metadata": {},
   "source": [
    "cuales son los tamanios de estos nuevos datos?"
   ]
  },
  {
   "cell_type": "code",
   "execution_count": null,
   "metadata": {
    "collapsed": true
   },
   "outputs": [],
   "source": []
  },
  {
   "cell_type": "markdown",
   "metadata": {},
   "source": [
    "### y ahora entrenamos nuestro modelo y checamos el error"
   ]
  },
  {
   "cell_type": "code",
   "execution_count": null,
   "metadata": {
    "collapsed": false
   },
   "outputs": [],
   "source": []
  },
  {
   "cell_type": "markdown",
   "metadata": {},
   "source": [
    "# <i class=\"fa fa-question-circle\"></i>\n",
    "### Como se ve nuestro modelo?\n",
    "### Que fue mas importante para hacer una decision?\n",
    "### Como podemos mejorar  y controlar como dividimos nuestros datos?\n"
   ]
  },
  {
   "cell_type": "code",
   "execution_count": null,
   "metadata": {
    "collapsed": false
   },
   "outputs": [],
   "source": []
  },
  {
   "cell_type": "markdown",
   "metadata": {},
   "source": [
    "## Validación cruzada y\n",
    "## K-fold\n",
    "\n",
    "![](https://upload.wikimedia.org/wikipedia/commons/f/fc/4fold3class.jpg)\n",
    "\n",
    "![](http://www.mdpi.com/sensors/sensors-12-12489/article_deploy/html/images/sensors-12-12489f7-1024.png)\n",
    "\n",
    "Y lo mejor es que podemos hacer todo de usa sola patada con sci-kit!\n",
    "\n",
    "Hay que usar **cross_val_score**"
   ]
  },
  {
   "cell_type": "code",
   "execution_count": null,
   "metadata": {
    "collapsed": true
   },
   "outputs": [],
   "source": [
    "from sklearn.cross_validation import cross_val_score\n"
   ]
  },
  {
   "cell_type": "code",
   "execution_count": null,
   "metadata": {
    "collapsed": false
   },
   "outputs": [],
   "source": []
  },
  {
   "cell_type": "code",
   "execution_count": null,
   "metadata": {
    "collapsed": true
   },
   "outputs": [],
   "source": []
  },
  {
   "cell_type": "markdown",
   "metadata": {},
   "source": [
    "# <i class=\"fa fa-question-circle\"></i>\n",
    "## Y como podemos mejorar un arbol de decision?\n",
    "![](http://www.diariodemexico.com.mx/wp-content/uploads/2013/06/bosque.jpg)\n",
    "\n",
    "![](http://blog.yhathq.com/static/img/a_random_forest.png)\n",
    "\n",
    "** RandomForestClassifier(n_estimators=n_estimators)** Al rescate!"
   ]
  },
  {
   "cell_type": "code",
   "execution_count": null,
   "metadata": {
    "collapsed": true
   },
   "outputs": [],
   "source": [
    "from sklearn.ensemble import RandomForestClassifier"
   ]
  },
  {
   "cell_type": "markdown",
   "metadata": {},
   "source": [
    "a probarlo!"
   ]
  },
  {
   "cell_type": "code",
   "execution_count": null,
   "metadata": {
    "collapsed": true
   },
   "outputs": [],
   "source": []
  },
  {
   "cell_type": "markdown",
   "metadata": {},
   "source": [
    "mejoro?"
   ]
  },
  {
   "cell_type": "code",
   "execution_count": null,
   "metadata": {
    "collapsed": true
   },
   "outputs": [],
   "source": []
  },
  {
   "cell_type": "markdown",
   "metadata": {},
   "source": [
    "### Pero ahora tenemos un parametro nuevo, cuantos arboles queremos usar?\n",
    "\n",
    "#### <i class=\"fa fa-tree\"></i>,<i class=\"fa fa-tree\"></i>,<i class=\"fa fa-tree\"></i> ...\n",
    "\n",
    "Que tal si probamos con un for loop!? Y checamos el error conforme al numero de arboles?\n",
    "\n",
    "## Actividad!\n",
    "Hay que :\n",
    "\n",
    "* Definir nuestro rango de arboles a probar en un arreglo\n",
    "* hacer un for loop sobre este arreglo\n",
    "    * Para cada elemento, entrena un bosque y saca el score\n",
    "    * Guarda el score en una lista\n",
    "    * graficalo!"
   ]
  },
  {
   "cell_type": "code",
   "execution_count": null,
   "metadata": {
    "collapsed": false
   },
   "outputs": [],
   "source": []
  },
  {
   "cell_type": "markdown",
   "metadata": {},
   "source": [
    "# <i class=\"fa fa-pagelines\"></i> El conjunto de datos Iris\n",
    "## Un modelo multi-dimensional"
   ]
  },
  {
   "cell_type": "code",
   "execution_count": null,
   "metadata": {
    "collapsed": false
   },
   "outputs": [],
   "source": [
    "g = sns.PairGrid(iris, hue=\"species\")\n",
    "g = g.map(plt.scatter)\n",
    "g = g.add_legend()"
   ]
  },
  {
   "cell_type": "markdown",
   "metadata": {},
   "source": [
    "## Actividad:\n",
    "\n",
    "### Objetivo: Entrena un arbol para predecir la especie de la planta\n",
    "\n",
    "* Checa las graficas, que variables podrian ser mas importante?\n",
    "* Agarra los datos, que dimensiones son?\n",
    "* Rompelos en pedacitos y entrena tus modelos\n",
    "* Que scores te da? Que resulto ser importante?"
   ]
  },
  {
   "cell_type": "code",
   "execution_count": null,
   "metadata": {
    "collapsed": true
   },
   "outputs": [],
   "source": [
    "iris = datasets.load_iris()\n",
    "X = iris.data\n",
    "Y = iris.target"
   ]
  },
  {
   "cell_type": "code",
   "execution_count": null,
   "metadata": {
    "collapsed": true
   },
   "outputs": [],
   "source": []
  }
 ],
 "metadata": {
  "kernelspec": {
   "display_name": "Python 2",
   "language": "python",
   "name": "python2"
  },
  "language_info": {
   "codemirror_mode": {
    "name": "ipython",
    "version": 2
   },
   "file_extension": ".py",
   "mimetype": "text/x-python",
   "name": "python",
   "nbconvert_exporter": "python",
   "pygments_lexer": "ipython2",
   "version": "2.7.9"
  }
 },
 "nbformat": 4,
 "nbformat_minor": 0
}
