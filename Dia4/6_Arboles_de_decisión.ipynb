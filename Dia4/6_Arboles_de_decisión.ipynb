{
 "cells": [
  {
   "cell_type": "markdown",
   "metadata": {},
   "source": [
    "##<i class=\"fa fa-diamond\"></i> Primero pimpea tu libreta!"
   ]
  },
  {
   "cell_type": "code",
   "execution_count": 1,
   "metadata": {
    "collapsed": false,
    "scrolled": true
   },
   "outputs": [
    {
     "data": {
      "text/html": [
       "<style>\n",
       "@import url('http://fonts.googleapis.com/css?family=Lato:200');\n",
       "\n",
       "body {\n",
       "    font-family: Lato, 'Helvetica Neue', Helvetica, Arial, sans-serif;\n",
       "}\n",
       "\n",
       "/* Apple pips */\n",
       "div.CodeMirror-lines {\n",
       "    border: 0px;\n",
       "    padding-bottom: 1em;\n",
       "}\n",
       "\n",
       "/* Based on Sxq-light */\n",
       "\n",
       ".cm-s-ipython {background: #ffffff; color: #701;}\n",
       ".cm-s-ipython span.cm-keyword {line-height: 1em; font-weight: bold; color: #5A5CAD; }\n",
       ".cm-s-ipython span.cm-atom {color: #6C8CD5;}\n",
       ".cm-s-ipython span.cm-number {color: #562;}\n",
       ".cm-s-ipython span.cm-def {text-decoration:underline; color:#164;}\n",
       ".cm-s-ipython span.cm-variable {color: black; }\n",
       ".cm-s-ipython span.cm-variable-2 {color:black;}\n",
       ".cm-s-ipython span.cm-variable-3 {color: black; }\n",
       ".cm-s-ipython span.cm-property {color:green}\n",
       ".cm-s-ipython span.cm-operator {color:green}\n",
       ".cm-s-ipython span.cm-comment {color: #0080FF; font-style: italic;}\n",
       ".cm-s-ipython span.cm-string {color: red;}\n",
       ".cm-s-ipython span.cm-meta {color: yellow;}\n",
       ".cm-s-ipython span.cm-qualifier {color: green}\n",
       ".cm-s-ipython span.cm-builtin {color: #202a16;}\n",
       ".cm-s-ipython span.cm-bracket {color: #337;}\n",
       ".cm-s-ipython span.cm-tag {color: #3F7F7F;}\n",
       ".cm-s-ipython span.cm-attribute {color: #7F007F;}\n",
       ".cm-s-ipython span.cm-error {color: #f00;}\n",
       ".cm-s-ipython .CodeMirror-linenumber {\n",
       "  color: #1d2;\n",
       "}\n",
       ".cm-s-ipython .CodeMirror-activeline-background {background: #e8f2ff !important;}\n",
       ".cm-s-ipython .CodeMirror-matchingbracket {outline:1px solid green;color:black !important;background:yellow;}\n",
       "\n",
       "\n",
       ".cm-s-ipython .CodeMirror-matchingbracket {\n",
       "  text-decoration: underline;\n",
       "  color: red !important;\n",
       "}\n",
       "\n",
       ".CodeMirror-gutters {\n",
       " background-color: #d5d5d5;\n",
       " font-size: 14pt;\n",
       "}\n",
       "\n",
       "/* Formatting code in markdown cells */\n",
       "div.rendered_html code {\n",
       "    font-style: italic;\n",
       "    font-weight: bold;\n",
       "    color: #8C6900;\n",
       "}\n",
       "\n",
       ".CodeMirror {\n",
       "    font-family: \"Inconsolata\",monospace;\n",
       "    font-size: 13pt;\n",
       "}\n",
       "\n",
       "/* Header */\n",
       "\n",
       ".rendered_html {\n",
       "    font-size: 13pt;\n",
       "}\n",
       "\n",
       "\n",
       ".text_cell_render h1 {\n",
       "    font-size: 2.5em;\n",
       "    line-height: 100%;\n",
       "    margin-bottom: 0.1em;\n",
       "    margin-top: 0.1em;\n",
       "    display: block;\n",
       "    color: rgb(44, 62, 120);\n",
       "}\n",
       "\n",
       ".text_cell_render h2 {\n",
       "    line-height: 100%;\n",
       "    font-size: 2em;\n",
       "    margin-bottom: 0.1em;\n",
       "    margin-top: 0.1em;\n",
       "    display: block;\n",
       "    color: rgb(44, 62, 80);\n",
       "}\n",
       "\n",
       ".text_cell_render h3 {\n",
       "    font-size: 1.5em;\n",
       "    margin-bottom: 0.1em;\n",
       "    margin-top: 0.1em;\n",
       "    color: rgb(44, 62, 80);\n",
       "}\n",
       "\n",
       ".text_cell_render h4 {\n",
       "    font-size: 1.25em;\n",
       "    margin-bottom: 0.05em;\n",
       "    margin-top: 0.05em;\n",
       "    color: rgb(180, 62, 80);\n",
       "}\n",
       "/* Header */\n",
       "\n",
       "\n",
       "span#notebook_name {\n",
       "    font-size: 2em;\n",
       "\n",
       "}\n",
       "\n",
       "div#notebook { /* centre the content */\n",
       "    background: #fff; /* white background for content */\n",
       "    margin: auto;\n",
       "}\n",
       "\n",
       "span#notebook_name.ui-state-hover {\n",
       "    color: #ffff00;\n",
       "}\n",
       "\n",
       "\n",
       "\n",
       "\n",
       "/* draw border around running cells */\n",
       "div.cell.border-box-sizing.code_cell.running {\n",
       "    border: 3px solid #F11;\n",
       "}\n",
       "\n",
       "/*Input and output cells formatting*/\n",
       "div.prompt.input_prompt, div.prompt.output_prompt {\n",
       "    color: #FF0000;\n",
       "    border: 0px;\n",
       "    width: 2.5em;\n",
       "    font-size: 1em\n",
       "}\n",
       "\n",
       "div.prompt.input_prompt {\n",
       "    background-color: #FFFFFF;\n",
       "}\n",
       "\n",
       "div.prompt.output_prompt {\n",
       "    background-color: #FFFFFF;\n",
       "    padding-top: 0.5em;\n",
       "    margin: 8px; /*This is for getting the box-shadow property of the parent to display properly;*/\n",
       "}\n",
       "\n",
       "div.prompt {\n",
       "    width: 2.5em;\n",
       "    min-width: 10ex;\n",
       "}\n",
       "\n",
       "\n",
       "\n",
       "div.input_area {\n",
       "    border: 0px;\n",
       "    margin-bottom: 0;\n",
       "}\n",
       "\n",
       "div.out_prompt_overlay.prompt {\n",
       "    width: 1em;\n",
       "    border: 0px;\n",
       "}\n",
       "\n",
       "div.out_prompt_overlay.prompt:hover {\n",
       "    border: 0px;\n",
       "    background-color: #f92672;\n",
       "    box-shadow: none;\n",
       "    -webkit-border-radius: 0;\n",
       "    -moz-border-radius: 0;\n",
       "    border-radius: 0;\n",
       "    opacity:0.2;\n",
       "}\n",
       "\n",
       "div.output_subarea.output_text.output_stream.output_stdout,div.output_subarea.output_text {\n",
       "    margin-left: 0em;\n",
       "    padding-top: 1em;\n",
       "    padding-bottom: 0.5em;\n",
       "    margin-top: 8px; /*This is for getting the box-shadow property of the parent to display properly;*/\n",
       "}\n",
       "\n",
       "div.output_wrapper {\n",
       "    background-color: #FFFFFF;\n",
       "    margin-bottom: 2em;\n",
       "    margin-top: 0;\n",
       "}\n",
       "\n",
       "div.output.vbox {\n",
       "    box-shadow:inset 0 0 8px #4d4d4d;   /* Check the output prompt settings when changing this*/\n",
       "}\n",
       "\n",
       "/* list style */\n",
       "\n",
       "div#header {\n",
       "    background-color:        #000;\n",
       "    color: #f92672;\n",
       "    background-image: url(\"files/Header.png\");\n",
       "    background-repeat:no-repeat;\n",
       "    background-position: center center;\n",
       "    height: 3em;\n",
       "    border: 0px;\n",
       "}\n",
       "\n",
       "</style>"
      ],
      "text/plain": [
       "<IPython.core.display.HTML object>"
      ]
     },
     "execution_count": 1,
     "metadata": {},
     "output_type": "execute_result"
    }
   ],
   "source": [
    "from IPython.core.display import HTML\n",
    "import os\n",
    "def css_styling():\n",
    "    \"\"\"Load default custom.css file from ipython profile\"\"\"\n",
    "    base = os.getcwd()\n",
    "    styles = \"<style>\\n%s\\n</style>\" % (open(os.path.join(base,'files/custom.css'),'r').read())\n",
    "    return HTML(styles)\n",
    "css_styling()"
   ]
  },
  {
   "cell_type": "code",
   "execution_count": 5,
   "metadata": {
    "collapsed": false
   },
   "outputs": [
    {
     "name": "stdout",
     "output_type": "stream",
     "text": [
      "  1.000001\n"
     ]
    }
   ],
   "source": [
    "n=  1000000\n",
    "sum =0.0\n",
    "valor = 1/ float(n)\n",
    "\n",
    "for i in range(0,n+1):\n",
    "    sum += valor\n",
    "    \n",
    "print(\"%10f\"%sum)"
   ]
  },
  {
   "cell_type": "markdown",
   "metadata": {},
   "source": [
    "# <i class=\"fa fa-book\"></i> Primero librerias"
   ]
  },
  {
   "cell_type": "code",
   "execution_count": 6,
   "metadata": {
    "collapsed": true
   },
   "outputs": [],
   "source": [
    "import numpy as np\n",
    "import sklearn as sk\n",
    "import matplotlib.pyplot as plt\n",
    "import sklearn.datasets as datasets\n",
    "import seaborn as sns\n",
    "%matplotlib inline"
   ]
  },
  {
   "cell_type": "markdown",
   "metadata": {
    "collapsed": true
   },
   "source": [
    "# <i class=\"fa fa-database\"></i> Vamos a crear datos de jugete\n",
    "## Crea varios \"blobs\"\n",
    "\n",
    "recuerda la funcion de scikit-learn *datasets.make_blobs()*\n",
    " Tambien prueba\n",
    " \n",
    "```python\n",
    " centers = [[1, 1], [-1, -1], [1, -1]]\n",
    " X,Y = datasets.make_blobs(n_samples=10000, centers=centers, cluster_std=0.6)\n",
    "```\n"
   ]
  },
  {
   "cell_type": "code",
   "execution_count": 71,
   "metadata": {
    "collapsed": false
   },
   "outputs": [
    {
     "data": {
      "image/png": "[encoded data removed]",
      "text/plain": [
       "<matplotlib.figure.Figure at 0x7f764400bd10>"
      ]
     },
     "metadata": {},
     "output_type": "display_data"
    }
   ],
   "source": [
    "centers = [[1, 1], [-1, -1], [1, -1]]\n",
    "X,Y = datasets.make_blobs(n_samples=1000, centers=centers, cluster_std=0.6)\n",
    "plt.scatter(X[:,0],X[:,1],c=Y)\n",
    "plt.jet()"
   ]
  },
  {
   "cell_type": "markdown",
   "metadata": {
    "collapsed": true
   },
   "source": [
    "# <i class=\"fa fa-tree\"></i> Ahora vamos a crear un modelo de arbol\n",
    "\n",
    "![](https://upload.wikimedia.org/wikipedia/commons/thumb/c/cd/Arbol3.PNG/350px-Arbol3.PNG)\n",
    "\n",
    "podemos usar **DecisionTreeClassifier** como clasificador"
   ]
  },
  {
   "cell_type": "code",
   "execution_count": 21,
   "metadata": {
    "collapsed": true
   },
   "outputs": [],
   "source": [
    "from sklearn.tree import DecisionTreeClassifier\n",
    "\n",
    "clf = DecisionTreeClassifier()\n"
   ]
  },
  {
   "cell_type": "markdown",
   "metadata": {},
   "source": [
    "## <i class=\"fa fa-question-circle\"></i> Que parametros y funciones tiene el classificador?\n",
    "### Hint: usa **help(cosa)**!"
   ]
  },
  {
   "cell_type": "code",
   "execution_count": 22,
   "metadata": {
    "collapsed": false
   },
   "outputs": [
    {
     "name": "stdout",
     "output_type": "stream",
     "text": [
      "Help on DecisionTreeClassifier in module sklearn.tree.tree object:\n",
      "\n",
      "class DecisionTreeClassifier(BaseDecisionTree, sklearn.base.ClassifierMixin)\n",
      " |  A decision tree classifier.\n",
      " |  \n",
      " |  Parameters\n",
      " |  ----------\n",
      " |  criterion : string, optional (default=\"gini\")\n",
      " |      The function to measure the quality of a split. Supported criteria are\n",
      " |      \"gini\" for the Gini impurity and \"entropy\" for the information gain.\n",
      " |  \n",
      " |  splitter : string, optional (default=\"best\")\n",
      " |      The strategy used to choose the split at each node. Supported\n",
      " |      strategies are \"best\" to choose the best split and \"random\" to choose\n",
      " |      the best random split.\n",
      " |  \n",
      " |  max_features : int, float, string or None, optional (default=None)\n",
      " |      The number of features to consider when looking for the best split:\n",
      " |        - If int, then consider `max_features` features at each split.\n",
      " |        - If float, then `max_features` is a percentage and\n",
      " |          `int(max_features * n_features)` features are considered at each\n",
      " |          split.\n",
      " |        - If \"auto\", then `max_features=sqrt(n_features)`.\n",
      " |        - If \"sqrt\", then `max_features=sqrt(n_features)`.\n",
      " |        - If \"log2\", then `max_features=log2(n_features)`.\n",
      " |        - If None, then `max_features=n_features`.\n",
      " |  \n",
      " |      Note: the search for a split does not stop until at least one\n",
      " |      valid partition of the node samples is found, even if it requires to\n",
      " |      effectively inspect more than ``max_features`` features.\n",
      " |  \n",
      " |  max_depth : int or None, optional (default=None)\n",
      " |      The maximum depth of the tree. If None, then nodes are expanded until\n",
      " |      all leaves are pure or until all leaves contain less than\n",
      " |      min_samples_split samples.\n",
      " |      Ignored if ``max_leaf_nodes`` is not None.\n",
      " |  \n",
      " |  min_samples_split : int, optional (default=2)\n",
      " |      The minimum number of samples required to split an internal node.\n",
      " |  \n",
      " |  min_samples_leaf : int, optional (default=1)\n",
      " |      The minimum number of samples required to be at a leaf node.\n",
      " |  \n",
      " |  min_weight_fraction_leaf : float, optional (default=0.)\n",
      " |      The minimum weighted fraction of the input samples required to be at a\n",
      " |      leaf node.\n",
      " |  \n",
      " |  max_leaf_nodes : int or None, optional (default=None)\n",
      " |      Grow a tree with ``max_leaf_nodes`` in best-first fashion.\n",
      " |      Best nodes are defined as relative reduction in impurity.\n",
      " |      If None then unlimited number of leaf nodes.\n",
      " |      If not None then ``max_depth`` will be ignored.\n",
      " |  \n",
      " |  class_weight : dict, list of dicts, \"auto\" or None, optional (default=None)\n",
      " |      Weights associated with classes in the form ``{class_label: weight}``.\n",
      " |      If not given, all classes are supposed to have weight one. For\n",
      " |      multi-output problems, a list of dicts can be provided in the same\n",
      " |      order as the columns of y.\n",
      " |  \n",
      " |      The \"auto\" mode uses the values of y to automatically adjust\n",
      " |      weights inversely proportional to class frequencies in the input data.\n",
      " |  \n",
      " |      For multi-output, the weights of each column of y will be multiplied.\n",
      " |  \n",
      " |      Note that these weights will be multiplied with sample_weight (passed\n",
      " |      through the fit method) if sample_weight is specified.\n",
      " |  \n",
      " |  random_state : int, RandomState instance or None, optional (default=None)\n",
      " |      If int, random_state is the seed used by the random number generator;\n",
      " |      If RandomState instance, random_state is the random number generator;\n",
      " |      If None, the random number generator is the RandomState instance used\n",
      " |      by `np.random`.\n",
      " |  \n",
      " |  Attributes\n",
      " |  ----------\n",
      " |  tree_ : Tree object\n",
      " |      The underlying Tree object.\n",
      " |  \n",
      " |  max_features_ : int,\n",
      " |      The inferred value of max_features.\n",
      " |  \n",
      " |  classes_ : array of shape = [n_classes] or a list of such arrays\n",
      " |      The classes labels (single output problem),\n",
      " |      or a list of arrays of class labels (multi-output problem).\n",
      " |  \n",
      " |  n_classes_ : int or list\n",
      " |      The number of classes (for single output problems),\n",
      " |      or a list containing the number of classes for each\n",
      " |      output (for multi-output problems).\n",
      " |  \n",
      " |  feature_importances_ : array of shape = [n_features]\n",
      " |      The feature importances. The higher, the more important the\n",
      " |      feature. The importance of a feature is computed as the (normalized)\n",
      " |      total reduction of the criterion brought by that feature.  It is also\n",
      " |      known as the Gini importance [4]_.\n",
      " |  \n",
      " |  See also\n",
      " |  --------\n",
      " |  DecisionTreeRegressor\n",
      " |  \n",
      " |  References\n",
      " |  ----------\n",
      " |  \n",
      " |  .. [1] http://en.wikipedia.org/wiki/Decision_tree_learning\n",
      " |  \n",
      " |  .. [2] L. Breiman, J. Friedman, R. Olshen, and C. Stone, \"Classification\n",
      " |         and Regression Trees\", Wadsworth, Belmont, CA, 1984.\n",
      " |  \n",
      " |  .. [3] T. Hastie, R. Tibshirani and J. Friedman. \"Elements of Statistical\n",
      " |         Learning\", Springer, 2009.\n",
      " |  \n",
      " |  .. [4] L. Breiman, and A. Cutler, \"Random Forests\",\n",
      " |         http://www.stat.berkeley.edu/~breiman/RandomForests/cc_home.htm\n",
      " |  \n",
      " |  Examples\n",
      " |  --------\n",
      " |  >>> from sklearn.datasets import load_iris\n",
      " |  >>> from sklearn.cross_validation import cross_val_score\n",
      " |  >>> from sklearn.tree import DecisionTreeClassifier\n",
      " |  >>> clf = DecisionTreeClassifier(random_state=0)\n",
      " |  >>> iris = load_iris()\n",
      " |  >>> cross_val_score(clf, iris.data, iris.target, cv=10)\n",
      " |  ...                             # doctest: +SKIP\n",
      " |  ...\n",
      " |  array([ 1.     ,  0.93...,  0.86...,  0.93...,  0.93...,\n",
      " |          0.93...,  0.93...,  1.     ,  0.93...,  1.      ])\n",
      " |  \n",
      " |  Method resolution order:\n",
      " |      DecisionTreeClassifier\n",
      " |      BaseDecisionTree\n",
      " |      abc.NewBase\n",
      " |      sklearn.base.BaseEstimator\n",
      " |      sklearn.feature_selection.from_model._LearntSelectorMixin\n",
      " |      sklearn.base.TransformerMixin\n",
      " |      sklearn.base.ClassifierMixin\n",
      " |      __builtin__.object\n",
      " |  \n",
      " |  Methods defined here:\n",
      " |  \n",
      " |  __init__(self, criterion='gini', splitter='best', max_depth=None, min_samples_split=2, min_samples_leaf=1, min_weight_fraction_leaf=0.0, max_features=None, random_state=None, max_leaf_nodes=None, class_weight=None)\n",
      " |  \n",
      " |  predict_log_proba(self, X)\n",
      " |      Predict class log-probabilities of the input samples X.\n",
      " |      \n",
      " |      Parameters\n",
      " |      ----------\n",
      " |      X : array-like or sparse matrix of shape = [n_samples, n_features]\n",
      " |          The input samples. Internally, it will be converted to\n",
      " |          ``dtype=np.float32`` and if a sparse matrix is provided\n",
      " |          to a sparse ``csr_matrix``.\n",
      " |      \n",
      " |      Returns\n",
      " |      -------\n",
      " |      p : array of shape = [n_samples, n_classes], or a list of n_outputs\n",
      " |          such arrays if n_outputs > 1.\n",
      " |          The class log-probabilities of the input samples. The order of the\n",
      " |          classes corresponds to that in the attribute `classes_`.\n",
      " |  \n",
      " |  predict_proba(self, X, check_input=True)\n",
      " |      Predict class probabilities of the input samples X.\n",
      " |      \n",
      " |      The predicted class probability is the fraction of samples of the same\n",
      " |      class in a leaf.\n",
      " |      \n",
      " |      check_input : boolean, (default=True)\n",
      " |          Allow to bypass several input checking.\n",
      " |          Don't use this parameter unless you know what you do.\n",
      " |      \n",
      " |      Parameters\n",
      " |      ----------\n",
      " |      X : array-like or sparse matrix of shape = [n_samples, n_features]\n",
      " |          The input samples. Internally, it will be converted to\n",
      " |          ``dtype=np.float32`` and if a sparse matrix is provided\n",
      " |          to a sparse ``csr_matrix``.\n",
      " |      \n",
      " |      Returns\n",
      " |      -------\n",
      " |      p : array of shape = [n_samples, n_classes], or a list of n_outputs\n",
      " |          such arrays if n_outputs > 1.\n",
      " |          The class probabilities of the input samples. The order of the\n",
      " |          classes corresponds to that in the attribute `classes_`.\n",
      " |  \n",
      " |  ----------------------------------------------------------------------\n",
      " |  Data and other attributes defined here:\n",
      " |  \n",
      " |  __abstractmethods__ = frozenset([])\n",
      " |  \n",
      " |  ----------------------------------------------------------------------\n",
      " |  Methods inherited from BaseDecisionTree:\n",
      " |  \n",
      " |  fit(self, X, y, sample_weight=None, check_input=True)\n",
      " |      Build a decision tree from the training set (X, y).\n",
      " |      \n",
      " |      Parameters\n",
      " |      ----------\n",
      " |      X : array-like or sparse matrix, shape = [n_samples, n_features]\n",
      " |          The training input samples. Internally, it will be converted to\n",
      " |          ``dtype=np.float32`` and if a sparse matrix is provided\n",
      " |          to a sparse ``csc_matrix``.\n",
      " |      \n",
      " |      y : array-like, shape = [n_samples] or [n_samples, n_outputs]\n",
      " |          The target values (class labels in classification, real numbers in\n",
      " |          regression). In the regression case, use ``dtype=np.float64`` and\n",
      " |          ``order='C'`` for maximum efficiency.\n",
      " |      \n",
      " |      sample_weight : array-like, shape = [n_samples] or None\n",
      " |          Sample weights. If None, then samples are equally weighted. Splits\n",
      " |          that would create child nodes with net zero or negative weight are\n",
      " |          ignored while searching for a split in each node. In the case of\n",
      " |          classification, splits are also ignored if they would result in any\n",
      " |          single class carrying a negative weight in either child node.\n",
      " |      \n",
      " |      check_input : boolean, (default=True)\n",
      " |          Allow to bypass several input checking.\n",
      " |          Don't use this parameter unless you know what you do.\n",
      " |      \n",
      " |      Returns\n",
      " |      -------\n",
      " |      self : object\n",
      " |          Returns self.\n",
      " |  \n",
      " |  predict(self, X, check_input=True)\n",
      " |      Predict class or regression value for X.\n",
      " |      \n",
      " |      For a classification model, the predicted class for each sample in X is\n",
      " |      returned. For a regression model, the predicted value based on X is\n",
      " |      returned.\n",
      " |      \n",
      " |      Parameters\n",
      " |      ----------\n",
      " |      X : array-like or sparse matrix of shape = [n_samples, n_features]\n",
      " |          The input samples. Internally, it will be converted to\n",
      " |          ``dtype=np.float32`` and if a sparse matrix is provided\n",
      " |          to a sparse ``csr_matrix``.\n",
      " |      \n",
      " |      check_input : boolean, (default=True)\n",
      " |          Allow to bypass several input checking.\n",
      " |          Don't use this parameter unless you know what you do.\n",
      " |      \n",
      " |      Returns\n",
      " |      -------\n",
      " |      y : array of shape = [n_samples] or [n_samples, n_outputs]\n",
      " |          The predicted classes, or the predict values.\n",
      " |  \n",
      " |  ----------------------------------------------------------------------\n",
      " |  Data descriptors inherited from BaseDecisionTree:\n",
      " |  \n",
      " |  feature_importances_\n",
      " |      Return the feature importances.\n",
      " |      \n",
      " |      The importance of a feature is computed as the (normalized) total\n",
      " |      reduction of the criterion brought by that feature.\n",
      " |      It is also known as the Gini importance.\n",
      " |      \n",
      " |      Returns\n",
      " |      -------\n",
      " |      feature_importances_ : array, shape = [n_features]\n",
      " |  \n",
      " |  ----------------------------------------------------------------------\n",
      " |  Methods inherited from sklearn.base.BaseEstimator:\n",
      " |  \n",
      " |  __repr__(self)\n",
      " |  \n",
      " |  get_params(self, deep=True)\n",
      " |      Get parameters for this estimator.\n",
      " |      \n",
      " |      Parameters\n",
      " |      ----------\n",
      " |      deep: boolean, optional\n",
      " |          If True, will return the parameters for this estimator and\n",
      " |          contained subobjects that are estimators.\n",
      " |      \n",
      " |      Returns\n",
      " |      -------\n",
      " |      params : mapping of string to any\n",
      " |          Parameter names mapped to their values.\n",
      " |  \n",
      " |  set_params(self, **params)\n",
      " |      Set the parameters of this estimator.\n",
      " |      \n",
      " |      The method works on simple estimators as well as on nested objects\n",
      " |      (such as pipelines). The former have parameters of the form\n",
      " |      ``<component>__<parameter>`` so that it's possible to update each\n",
      " |      component of a nested object.\n",
      " |      \n",
      " |      Returns\n",
      " |      -------\n",
      " |      self\n",
      " |  \n",
      " |  ----------------------------------------------------------------------\n",
      " |  Data descriptors inherited from sklearn.base.BaseEstimator:\n",
      " |  \n",
      " |  __dict__\n",
      " |      dictionary for instance variables (if defined)\n",
      " |  \n",
      " |  __weakref__\n",
      " |      list of weak references to the object (if defined)\n",
      " |  \n",
      " |  ----------------------------------------------------------------------\n",
      " |  Methods inherited from sklearn.feature_selection.from_model._LearntSelectorMixin:\n",
      " |  \n",
      " |  transform(self, X, threshold=None)\n",
      " |      Reduce X to its most important features.\n",
      " |      \n",
      " |      Uses ``coef_`` or ``feature_importances_`` to determine the most\n",
      " |      important features.  For models with a ``coef_`` for each class, the\n",
      " |      absolute sum over the classes is used.\n",
      " |      \n",
      " |      Parameters\n",
      " |      ----------\n",
      " |      X : array or scipy sparse matrix of shape [n_samples, n_features]\n",
      " |          The input samples.\n",
      " |      \n",
      " |      threshold : string, float or None, optional (default=None)\n",
      " |          The threshold value to use for feature selection. Features whose\n",
      " |          importance is greater or equal are kept while the others are\n",
      " |          discarded. If \"median\" (resp. \"mean\"), then the threshold value is\n",
      " |          the median (resp. the mean) of the feature importances. A scaling\n",
      " |          factor (e.g., \"1.25*mean\") may also be used. If None and if\n",
      " |          available, the object attribute ``threshold`` is used. Otherwise,\n",
      " |          \"mean\" is used by default.\n",
      " |      \n",
      " |      Returns\n",
      " |      -------\n",
      " |      X_r : array of shape [n_samples, n_selected_features]\n",
      " |          The input samples with only the selected features.\n",
      " |  \n",
      " |  ----------------------------------------------------------------------\n",
      " |  Methods inherited from sklearn.base.TransformerMixin:\n",
      " |  \n",
      " |  fit_transform(self, X, y=None, **fit_params)\n",
      " |      Fit to data, then transform it.\n",
      " |      \n",
      " |      Fits transformer to X and y with optional parameters fit_params\n",
      " |      and returns a transformed version of X.\n",
      " |      \n",
      " |      Parameters\n",
      " |      ----------\n",
      " |      X : numpy array of shape [n_samples, n_features]\n",
      " |          Training set.\n",
      " |      \n",
      " |      y : numpy array of shape [n_samples]\n",
      " |          Target values.\n",
      " |      \n",
      " |      Returns\n",
      " |      -------\n",
      " |      X_new : numpy array of shape [n_samples, n_features_new]\n",
      " |          Transformed array.\n",
      " |  \n",
      " |  ----------------------------------------------------------------------\n",
      " |  Methods inherited from sklearn.base.ClassifierMixin:\n",
      " |  \n",
      " |  score(self, X, y, sample_weight=None)\n",
      " |      Returns the mean accuracy on the given test data and labels.\n",
      " |      \n",
      " |      In multi-label classification, this is the subset accuracy\n",
      " |      which is a harsh metric since you require for each sample that\n",
      " |      each label set be correctly predicted.\n",
      " |      \n",
      " |      Parameters\n",
      " |      ----------\n",
      " |      X : array-like, shape = (n_samples, n_features)\n",
      " |          Test samples.\n",
      " |      \n",
      " |      y : array-like, shape = (n_samples) or (n_samples, n_outputs)\n",
      " |          True labels for X.\n",
      " |      \n",
      " |      sample_weight : array-like, shape = [n_samples], optional\n",
      " |          Sample weights.\n",
      " |      \n",
      " |      Returns\n",
      " |      -------\n",
      " |      score : float\n",
      " |          Mean accuracy of self.predict(X) wrt. y.\n",
      "\n"
     ]
    }
   ],
   "source": [
    "help(clf)"
   ]
  },
  {
   "cell_type": "markdown",
   "metadata": {},
   "source": [
    " vamos a ajustar nuestro modelo con **fit** y sacar su puntaje con **score**"
   ]
  },
  {
   "cell_type": "code",
   "execution_count": 26,
   "metadata": {
    "collapsed": false
   },
   "outputs": [
    {
     "data": {
      "text/plain": [
       "1.0"
      ]
     },
     "execution_count": 26,
     "metadata": {},
     "output_type": "execute_result"
    }
   ],
   "source": [
    "clf.fit(X,Y)\n",
    "clf.score(X,Y)\n"
   ]
  },
  {
   "cell_type": "code",
   "execution_count": 28,
   "metadata": {
    "collapsed": false
   },
   "outputs": [
    {
     "data": {
      "text/plain": [
       "90.450000000000003"
      ]
     },
     "execution_count": 28,
     "metadata": {},
     "output_type": "execute_result"
    }
   ],
   "source": [
    "clf = DecisionTreeClassifier()\n",
    "clf.fit(X[:1000],Y[:1000])\n",
    "clf.score(X,Y)*100"
   ]
  },
  {
   "cell_type": "markdown",
   "metadata": {},
   "source": [
    "# <i class=\"fa fa-question-circle\"></i>\n",
    "## Por que no queremos 100%?\n",
    "###  Este problema se llama \"Overfitting\"\n",
    "\n",
    "![](http://scikit-learn.org/stable/_images/plot_underfitting_overfitting_0011.png)"
   ]
  },
  {
   "cell_type": "markdown",
   "metadata": {},
   "source": [
    "## <i class=\"fa fa-list\"></i>   Pasos para un tipico algoritmo ML:\n",
    "\n",
    "* Crear un modelo\n",
    "* Particionar tus datos en diferentes pedazos (10% entrenar y 90% prueba)\n",
    "* Entrenar tu modelo sobre cada pedazo de los datos\n",
    "* Escogete el mejor modelo o el promedio de los modelos\n",
    "* Predice!\n",
    "\n",
    "Primero vamos a particionar los datos usando ** **"
   ]
  },
  {
   "cell_type": "code",
   "execution_count": 33,
   "metadata": {
    "collapsed": false
   },
   "outputs": [],
   "source": [
    "from sklearn.cross_validation import train_test_split\n",
    "X_train,X_test, Y_train, Y_test= train_test_split(X,Y,test_size=0.90)"
   ]
  },
  {
   "cell_type": "markdown",
   "metadata": {},
   "source": [
    "cuales son los tamanios de estos nuevos datos?"
   ]
  },
  {
   "cell_type": "code",
   "execution_count": 36,
   "metadata": {
    "collapsed": false,
    "scrolled": false
   },
   "outputs": [
    {
     "data": {
      "text/plain": [
       "<matplotlib.collections.PathCollection at 0x7f7644432810>"
      ]
     },
     "execution_count": 36,
     "metadata": {},
     "output_type": "execute_result"
    },
    {
     "data": {
      "image/png": "[encoded data removed]",
      "text/plain": [
       "<matplotlib.figure.Figure at 0x7f764c5a7f50>"
      ]
     },
     "metadata": {},
     "output_type": "display_data"
    }
   ],
   "source": [
    "plt.scatter(X_test[:,0],X_test[:,1],c=Y_test)"
   ]
  },
  {
   "cell_type": "markdown",
   "metadata": {},
   "source": [
    "### y ahora entrenamos nuestro modelo y checamos el error"
   ]
  },
  {
   "cell_type": "code",
   "execution_count": 49,
   "metadata": {
    "collapsed": false
   },
   "outputs": [
    {
     "data": {
      "text/plain": [
       "89.900000000000006"
      ]
     },
     "execution_count": 49,
     "metadata": {},
     "output_type": "execute_result"
    }
   ],
   "source": [
    "clf = DecisionTreeClassifier()\n",
    "clf.fit(X_train,Y_train)\n",
    "clf.score(X_test,Y_test)*100"
   ]
  },
  {
   "cell_type": "markdown",
   "metadata": {},
   "source": [
    "# <i class=\"fa fa-question-circle\"></i>\n",
    "### Como se ve nuestro modelo?\n",
    "### Que fue mas importante para hacer una decision?\n",
    "### Como podemos mejorar  y controlar como dividimos nuestros datos?\n"
   ]
  },
  {
   "cell_type": "code",
   "execution_count": 39,
   "metadata": {
    "collapsed": false
   },
   "outputs": [
    {
     "data": {
      "text/plain": [
       "array([ 0.46621362,  0.53378638])"
      ]
     },
     "execution_count": 39,
     "metadata": {},
     "output_type": "execute_result"
    }
   ],
   "source": [
    "clf.feature_importances_"
   ]
  },
  {
   "cell_type": "markdown",
   "metadata": {},
   "source": [
    "## Validación cruzada y\n",
    "## K-fold\n",
    "\n",
    "![](https://upload.wikimedia.org/wikipedia/commons/f/fc/4fold3class.jpg)\n",
    "\n",
    "![](http://www.mdpi.com/sensors/sensors-12-12489/article_deploy/html/images/sensors-12-12489f7-1024.png)\n",
    "\n",
    "Y lo mejor es que podemos hacer todo de usa sola patada con sci-kit!\n",
    "\n",
    "Hay que usar **cross_val_score**"
   ]
  },
  {
   "cell_type": "code",
   "execution_count": 50,
   "metadata": {
    "collapsed": true
   },
   "outputs": [],
   "source": [
    "from sklearn.cross_validation import cross_val_score\n",
    "\n",
    "resultados = cross_val_score(clf,X,Y, cv=10)"
   ]
  },
  {
   "cell_type": "code",
   "execution_count": 51,
   "metadata": {
    "collapsed": false
   },
   "outputs": [
    {
     "data": {
      "text/plain": [
       "1.0"
      ]
     },
     "execution_count": 51,
     "metadata": {},
     "output_type": "execute_result"
    }
   ],
   "source": [
    "np.mean(resultados)"
   ]
  },
  {
   "cell_type": "code",
   "execution_count": null,
   "metadata": {
    "collapsed": true
   },
   "outputs": [],
   "source": []
  },
  {
   "cell_type": "markdown",
   "metadata": {},
   "source": [
    "# <i class=\"fa fa-question-circle\"></i>\n",
    "## Y como podemos mejorar un arbol de decision?\n",
    "![](http://www.diariodemexico.com.mx/wp-content/uploads/2013/06/bosque.jpg)\n",
    "\n",
    "![](http://blog.yhathq.com/static/img/a_random_forest.png)\n",
    "\n",
    "** RandomForestClassifier(n_estimators=n_estimators)** Al rescate!"
   ]
  },
  {
   "cell_type": "code",
   "execution_count": 66,
   "metadata": {
    "collapsed": false
   },
   "outputs": [
    {
     "name": "stdout",
     "output_type": "stream",
     "text": [
      "RandomForestClassifier(bootstrap=True, class_weight=None, criterion='gini',\n",
      "            max_depth=None, max_features='auto', max_leaf_nodes=None,\n",
      "            min_samples_leaf=1, min_samples_split=2,\n",
      "            min_weight_fraction_leaf=0.0, n_estimators=10, n_jobs=1,\n",
      "            oob_score=False, random_state=None, verbose=0,\n",
      "            warm_start=False)\n"
     ]
    }
   ],
   "source": [
    "from sklearn.ensemble import RandomForestClassifier\n",
    "\n",
    "clf = RandomForestClassifier()\n",
    "print(clf)"
   ]
  },
  {
   "cell_type": "markdown",
   "metadata": {},
   "source": [
    "a probarlo!"
   ]
  },
  {
   "cell_type": "code",
   "execution_count": 61,
   "metadata": {
    "collapsed": true
   },
   "outputs": [],
   "source": [
    "resultados = cross_val_score(clf,X,Y, cv=10)"
   ]
  },
  {
   "cell_type": "markdown",
   "metadata": {},
   "source": [
    "mejoro?"
   ]
  },
  {
   "cell_type": "code",
   "execution_count": 62,
   "metadata": {
    "collapsed": false
   },
   "outputs": [
    {
     "data": {
      "text/plain": [
       "0.9247007642372912"
      ]
     },
     "execution_count": 62,
     "metadata": {},
     "output_type": "execute_result"
    }
   ],
   "source": [
    "resultados.mean()"
   ]
  },
  {
   "cell_type": "markdown",
   "metadata": {},
   "source": [
    "### Pero ahora tenemos un parametro nuevo, cuantos arboles queremos usar?\n",
    "\n",
    "#### <i class=\"fa fa-tree\"></i>,<i class=\"fa fa-tree\"></i>,<i class=\"fa fa-tree\"></i> ...\n",
    "\n",
    "Que tal si probamos con un for loop!? Y checamos el error conforme al numero de arboles?\n",
    "\n",
    "## Actividad!\n",
    "Hay que :\n",
    "\n",
    "* Definir nuestro rango de arboles a probar en un arreglo\n",
    "* hacer un for loop sobre este arreglo\n",
    "    * Para cada elemento, entrena un bosque y saca el score\n",
    "    * Guarda el score en una lista\n",
    "    * graficalo!"
   ]
  },
  {
   "cell_type": "code",
   "execution_count": 74,
   "metadata": {
    "collapsed": false,
    "scrolled": true
   },
   "outputs": [
    {
     "data": {
      "text/plain": [
       "[<matplotlib.lines.Line2D at 0x7f763fa67ad0>]"
      ]
     },
     "execution_count": 74,
     "metadata": {},
     "output_type": "execute_result"
    },
    {
     "data": {
      "image/png": "[encoded data removed]",
      "text/plain": [
       "<matplotlib.figure.Figure at 0x7f763fc64990>"
      ]
     },
     "metadata": {},
     "output_type": "display_data"
    }
   ],
   "source": [
    "ks=[2,3,5,8,10,12,15,18,20,25,30,35,40,45,50]\n",
    "scores=[]\n",
    "for i in ks:\n",
    "    clf = RandomForestClassifier(n_estimators=i)\n",
    "    resultados = cross_val_score(clf,X,Y, cv=10)\n",
    "    scores.append( np.mean(resultados) )\n",
    "\n",
    "plt.plot(ks,scores)"
   ]
  },
  {
   "cell_type": "markdown",
   "metadata": {},
   "source": [
    "# <i class=\"fa fa-pagelines\"></i> El conjunto de datos Iris\n",
    "## Un modelo multi-dimensional"
   ]
  },
  {
   "cell_type": "code",
   "execution_count": null,
   "metadata": {
    "collapsed": false
   },
   "outputs": [],
   "source": [
    "g = sns.PairGrid(iris, hue=\"species\")\n",
    "g = g.map(plt.scatter)\n",
    "g = g.add_legend()"
   ]
  },
  {
   "cell_type": "markdown",
   "metadata": {},
   "source": [
    "## Actividad:\n",
    "\n",
    "### Objetivo: Entrena un arbol para predecir la especie de la planta\n",
    "\n",
    "* Checa las graficas, que variables podrian ser mas importante?\n",
    "* Agarra los datos, que dimensiones son?\n",
    "* Rompelos en pedacitos y entrena tus modelos\n",
    "* Que scores te da? Que resulto ser importante?"
   ]
  },
  {
   "cell_type": "code",
   "execution_count": null,
   "metadata": {
    "collapsed": true
   },
   "outputs": [],
   "source": [
    "iris = datasets.load_iris()\n",
    "X = iris.data\n",
    "Y = iris.target"
   ]
  },
  {
   "cell_type": "code",
   "execution_count": null,
   "metadata": {
    "collapsed": true
   },
   "outputs": [],
   "source": []
  }
 ],
 "metadata": {
  "kernelspec": {
   "display_name": "Python 2",
   "language": "python",
   "name": "python2"
  },
  "language_info": {
   "codemirror_mode": {
    "name": "ipython",
    "version": 2
   },
   "file_extension": ".py",
   "mimetype": "text/x-python",
   "name": "python",
   "nbconvert_exporter": "python",
   "pygments_lexer": "ipython2",
   "version": "2.7.9"
  }
 },
 "nbformat": 4,
 "nbformat_minor": 0
}
